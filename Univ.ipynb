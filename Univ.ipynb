{
 "cells": [
  {
   "cell_type": "code",
   "execution_count": 1,
   "id": "00cefd30-8c40-45c8-8513-c64f81011214",
   "metadata": {},
   "outputs": [],
   "source": [
    "\n",
    "import numpy as np\n",
    "import pandas as pd\n",
    "import plotly.express as px\n"
   ]
  },
  {
   "cell_type": "code",
   "execution_count": 2,
   "id": "cc48d5ff-2e55-470e-8c90-77975885de0c",
   "metadata": {},
   "outputs": [],
   "source": [
    "df=pd.read_csv(\"univ.csv\",header=0)\n"
   ]
  },
  {
   "cell_type": "code",
   "execution_count": 3,
   "id": "f5d27738-04d7-4926-a076-51972946fd26",
   "metadata": {},
   "outputs": [
    {
     "name": "stdout",
     "output_type": "stream",
     "text": [
      "   World Rank                            Institution         Country  \\\n",
      "0           1                     Harvard University             USA   \n",
      "1           2  Massachusetts Institute of Technology             USA   \n",
      "2           3                    Stanford University             USA   \n",
      "3           4                University of Cambridge  United Kingdom   \n",
      "4           5                   University of Oxford  United Kingdom   \n",
      "5           6                   Princeton University             USA   \n",
      "6           7                    Columbia University             USA   \n",
      "7           8                  University of Chicago             USA   \n",
      "8           9             University of Pennsylvania             USA   \n",
      "9          10                        Yale University             USA   \n",
      "\n",
      "   National Rank Quality of Education Rank Alumni Employment Rank  \\\n",
      "0              1                         1                      1   \n",
      "1              2                         4                     12   \n",
      "2              3                        10                      4   \n",
      "3              1                         3                     25   \n",
      "4              2                         7                     27   \n",
      "5              4                         5                     15   \n",
      "6              5                        11                     14   \n",
      "7              6                         8                     16   \n",
      "8              7                        14                     10   \n",
      "9              8                         6                     36   \n",
      "\n",
      "  Quality of Faculty Rank Research Performance Rank  Score  \n",
      "0                       1                         1  100.0  \n",
      "1                       2                         8   96.7  \n",
      "2                       3                         2   95.1  \n",
      "3                       4                        10   94.1  \n",
      "4                       9                         4   93.3  \n",
      "5                       7                        70   92.6  \n",
      "6                      10                        15   92.0  \n",
      "7                      27                        22   91.5  \n",
      "8                      42                        12   91.1  \n",
      "9                      13                        20   90.7  \n",
      "2000\n"
     ]
    }
   ],
   "source": [
    "print(df.head(10))\n",
    "print(df.__len__())\n"
   ]
  },
  {
   "cell_type": "code",
   "execution_count": 4,
   "id": "1e2da9bc-488c-491a-80f0-cd8bdb355480",
   "metadata": {},
   "outputs": [
    {
     "data": {
      "text/plain": [
       "Institution    A.A. Kharkevich Institute for Information Tran...\n",
       "Score                                                       65.7\n",
       "dtype: object"
      ]
     },
     "execution_count": 4,
     "metadata": {},
     "output_type": "execute_result"
    }
   ],
   "source": [
    "df[['Institution','Score']].min()"
   ]
  },
  {
   "cell_type": "code",
   "execution_count": 5,
   "id": "401b7852-9850-4b60-8390-5b29b694a3b2",
   "metadata": {},
   "outputs": [
    {
     "data": {
      "text/html": [
       "<div>\n",
       "<style scoped>\n",
       "    .dataframe tbody tr th:only-of-type {\n",
       "        vertical-align: middle;\n",
       "    }\n",
       "\n",
       "    .dataframe tbody tr th {\n",
       "        vertical-align: top;\n",
       "    }\n",
       "\n",
       "    .dataframe thead th {\n",
       "        text-align: right;\n",
       "    }\n",
       "</style>\n",
       "<table border=\"1\" class=\"dataframe\">\n",
       "  <thead>\n",
       "    <tr style=\"text-align: right;\">\n",
       "      <th></th>\n",
       "      <th>World Rank</th>\n",
       "      <th>Institution</th>\n",
       "      <th>Country</th>\n",
       "      <th>National Rank</th>\n",
       "      <th>Quality of Education Rank</th>\n",
       "      <th>Alumni Employment Rank</th>\n",
       "      <th>Quality of Faculty Rank</th>\n",
       "      <th>Research Performance Rank</th>\n",
       "      <th>Score</th>\n",
       "    </tr>\n",
       "  </thead>\n",
       "  <tbody>\n",
       "  </tbody>\n",
       "</table>\n",
       "</div>"
      ],
      "text/plain": [
       "Empty DataFrame\n",
       "Columns: [World Rank, Institution, Country, National Rank, Quality of Education Rank, Alumni Employment Rank, Quality of Faculty Rank, Research Performance Rank, Score]\n",
       "Index: []"
      ]
     },
     "execution_count": 5,
     "metadata": {},
     "output_type": "execute_result"
    }
   ],
   "source": [
    "df[df.duplicated(keep=False)]"
   ]
  },
  {
   "cell_type": "code",
   "execution_count": 6,
   "id": "e4023200-b2f4-4001-ad13-5a8ac4df9ae7",
   "metadata": {},
   "outputs": [
    {
     "data": {
      "text/html": [
       "<div>\n",
       "<style scoped>\n",
       "    .dataframe tbody tr th:only-of-type {\n",
       "        vertical-align: middle;\n",
       "    }\n",
       "\n",
       "    .dataframe tbody tr th {\n",
       "        vertical-align: top;\n",
       "    }\n",
       "\n",
       "    .dataframe thead th {\n",
       "        text-align: right;\n",
       "    }\n",
       "</style>\n",
       "<table border=\"1\" class=\"dataframe\">\n",
       "  <thead>\n",
       "    <tr style=\"text-align: right;\">\n",
       "      <th></th>\n",
       "      <th>World Rank</th>\n",
       "      <th>Institution</th>\n",
       "      <th>Country</th>\n",
       "      <th>National Rank</th>\n",
       "      <th>Quality of Education Rank</th>\n",
       "      <th>Alumni Employment Rank</th>\n",
       "      <th>Quality of Faculty Rank</th>\n",
       "      <th>Research Performance Rank</th>\n",
       "      <th>Score</th>\n",
       "    </tr>\n",
       "  </thead>\n",
       "  <tbody>\n",
       "    <tr>\n",
       "      <th>0</th>\n",
       "      <td>1</td>\n",
       "      <td>Harvard University</td>\n",
       "      <td>USA</td>\n",
       "      <td>1</td>\n",
       "      <td>1</td>\n",
       "      <td>1</td>\n",
       "      <td>1</td>\n",
       "      <td>1</td>\n",
       "      <td>100.0</td>\n",
       "    </tr>\n",
       "    <tr>\n",
       "      <th>1</th>\n",
       "      <td>2</td>\n",
       "      <td>Massachusetts Institute of Technology</td>\n",
       "      <td>USA</td>\n",
       "      <td>2</td>\n",
       "      <td>4</td>\n",
       "      <td>12</td>\n",
       "      <td>2</td>\n",
       "      <td>8</td>\n",
       "      <td>96.7</td>\n",
       "    </tr>\n",
       "    <tr>\n",
       "      <th>2</th>\n",
       "      <td>3</td>\n",
       "      <td>Stanford University</td>\n",
       "      <td>USA</td>\n",
       "      <td>3</td>\n",
       "      <td>10</td>\n",
       "      <td>4</td>\n",
       "      <td>3</td>\n",
       "      <td>2</td>\n",
       "      <td>95.1</td>\n",
       "    </tr>\n",
       "    <tr>\n",
       "      <th>3</th>\n",
       "      <td>4</td>\n",
       "      <td>University of Cambridge</td>\n",
       "      <td>United Kingdom</td>\n",
       "      <td>1</td>\n",
       "      <td>3</td>\n",
       "      <td>25</td>\n",
       "      <td>4</td>\n",
       "      <td>10</td>\n",
       "      <td>94.1</td>\n",
       "    </tr>\n",
       "    <tr>\n",
       "      <th>4</th>\n",
       "      <td>5</td>\n",
       "      <td>University of Oxford</td>\n",
       "      <td>United Kingdom</td>\n",
       "      <td>2</td>\n",
       "      <td>7</td>\n",
       "      <td>27</td>\n",
       "      <td>9</td>\n",
       "      <td>4</td>\n",
       "      <td>93.3</td>\n",
       "    </tr>\n",
       "    <tr>\n",
       "      <th>...</th>\n",
       "      <td>...</td>\n",
       "      <td>...</td>\n",
       "      <td>...</td>\n",
       "      <td>...</td>\n",
       "      <td>...</td>\n",
       "      <td>...</td>\n",
       "      <td>...</td>\n",
       "      <td>...</td>\n",
       "      <td>...</td>\n",
       "    </tr>\n",
       "    <tr>\n",
       "      <th>1995</th>\n",
       "      <td>1996</td>\n",
       "      <td>Santa Catarina State University</td>\n",
       "      <td>Brazil</td>\n",
       "      <td>56</td>\n",
       "      <td>-</td>\n",
       "      <td>936</td>\n",
       "      <td>-</td>\n",
       "      <td>1938</td>\n",
       "      <td>65.8</td>\n",
       "    </tr>\n",
       "    <tr>\n",
       "      <th>1996</th>\n",
       "      <td>1997</td>\n",
       "      <td>Yancheng Institute of Technology</td>\n",
       "      <td>China</td>\n",
       "      <td>275</td>\n",
       "      <td>-</td>\n",
       "      <td>-</td>\n",
       "      <td>-</td>\n",
       "      <td>1920</td>\n",
       "      <td>65.7</td>\n",
       "    </tr>\n",
       "    <tr>\n",
       "      <th>1997</th>\n",
       "      <td>1998</td>\n",
       "      <td>Xi'an University of Science and Technology</td>\n",
       "      <td>China</td>\n",
       "      <td>276</td>\n",
       "      <td>-</td>\n",
       "      <td>994</td>\n",
       "      <td>-</td>\n",
       "      <td>1937</td>\n",
       "      <td>65.7</td>\n",
       "    </tr>\n",
       "    <tr>\n",
       "      <th>1998</th>\n",
       "      <td>1999</td>\n",
       "      <td>CEU San Pablo University</td>\n",
       "      <td>Spain</td>\n",
       "      <td>53</td>\n",
       "      <td>-</td>\n",
       "      <td>568</td>\n",
       "      <td>-</td>\n",
       "      <td>1992</td>\n",
       "      <td>65.7</td>\n",
       "    </tr>\n",
       "    <tr>\n",
       "      <th>1999</th>\n",
       "      <td>2000</td>\n",
       "      <td>Huzhou University</td>\n",
       "      <td>China</td>\n",
       "      <td>277</td>\n",
       "      <td>-</td>\n",
       "      <td>-</td>\n",
       "      <td>-</td>\n",
       "      <td>1922</td>\n",
       "      <td>65.7</td>\n",
       "    </tr>\n",
       "  </tbody>\n",
       "</table>\n",
       "<p>2000 rows × 9 columns</p>\n",
       "</div>"
      ],
      "text/plain": [
       "      World Rank                                 Institution         Country  \\\n",
       "0              1                          Harvard University             USA   \n",
       "1              2       Massachusetts Institute of Technology             USA   \n",
       "2              3                         Stanford University             USA   \n",
       "3              4                     University of Cambridge  United Kingdom   \n",
       "4              5                        University of Oxford  United Kingdom   \n",
       "...          ...                                         ...             ...   \n",
       "1995        1996             Santa Catarina State University          Brazil   \n",
       "1996        1997            Yancheng Institute of Technology           China   \n",
       "1997        1998  Xi'an University of Science and Technology           China   \n",
       "1998        1999                    CEU San Pablo University           Spain   \n",
       "1999        2000                           Huzhou University           China   \n",
       "\n",
       "      National Rank Quality of Education Rank Alumni Employment Rank  \\\n",
       "0                 1                         1                      1   \n",
       "1                 2                         4                     12   \n",
       "2                 3                        10                      4   \n",
       "3                 1                         3                     25   \n",
       "4                 2                         7                     27   \n",
       "...             ...                       ...                    ...   \n",
       "1995             56                         -                    936   \n",
       "1996            275                         -                      -   \n",
       "1997            276                         -                    994   \n",
       "1998             53                         -                    568   \n",
       "1999            277                         -                      -   \n",
       "\n",
       "     Quality of Faculty Rank Research Performance Rank  Score  \n",
       "0                          1                         1  100.0  \n",
       "1                          2                         8   96.7  \n",
       "2                          3                         2   95.1  \n",
       "3                          4                        10   94.1  \n",
       "4                          9                         4   93.3  \n",
       "...                      ...                       ...    ...  \n",
       "1995                       -                      1938   65.8  \n",
       "1996                       -                      1920   65.7  \n",
       "1997                       -                      1937   65.7  \n",
       "1998                       -                      1992   65.7  \n",
       "1999                       -                      1922   65.7  \n",
       "\n",
       "[2000 rows x 9 columns]"
      ]
     },
     "execution_count": 6,
     "metadata": {},
     "output_type": "execute_result"
    }
   ],
   "source": [
    "#Valori dublicate\n",
    "df.drop_duplicates()"
   ]
  },
  {
   "cell_type": "code",
   "execution_count": 7,
   "id": "36dc9877",
   "metadata": {},
   "outputs": [
    {
     "data": {
      "text/html": [
       "<div>\n",
       "<style scoped>\n",
       "    .dataframe tbody tr th:only-of-type {\n",
       "        vertical-align: middle;\n",
       "    }\n",
       "\n",
       "    .dataframe tbody tr th {\n",
       "        vertical-align: top;\n",
       "    }\n",
       "\n",
       "    .dataframe thead th {\n",
       "        text-align: right;\n",
       "    }\n",
       "</style>\n",
       "<table border=\"1\" class=\"dataframe\">\n",
       "  <thead>\n",
       "    <tr style=\"text-align: right;\">\n",
       "      <th></th>\n",
       "      <th>World Rank</th>\n",
       "      <th>Institution</th>\n",
       "      <th>Country</th>\n",
       "      <th>National Rank</th>\n",
       "      <th>Quality of Education Rank</th>\n",
       "      <th>Alumni Employment Rank</th>\n",
       "      <th>Quality of Faculty Rank</th>\n",
       "      <th>Research Performance Rank</th>\n",
       "      <th>Score</th>\n",
       "    </tr>\n",
       "  </thead>\n",
       "  <tbody>\n",
       "    <tr>\n",
       "      <th>0</th>\n",
       "      <td>1</td>\n",
       "      <td>Harvard University</td>\n",
       "      <td>USA</td>\n",
       "      <td>1</td>\n",
       "      <td>1</td>\n",
       "      <td>1</td>\n",
       "      <td>1</td>\n",
       "      <td>1</td>\n",
       "      <td>100.0</td>\n",
       "    </tr>\n",
       "    <tr>\n",
       "      <th>1</th>\n",
       "      <td>2</td>\n",
       "      <td>Massachusetts Institute of Technology</td>\n",
       "      <td>USA</td>\n",
       "      <td>2</td>\n",
       "      <td>4</td>\n",
       "      <td>12</td>\n",
       "      <td>2</td>\n",
       "      <td>8</td>\n",
       "      <td>96.7</td>\n",
       "    </tr>\n",
       "    <tr>\n",
       "      <th>2</th>\n",
       "      <td>3</td>\n",
       "      <td>Stanford University</td>\n",
       "      <td>USA</td>\n",
       "      <td>3</td>\n",
       "      <td>10</td>\n",
       "      <td>4</td>\n",
       "      <td>3</td>\n",
       "      <td>2</td>\n",
       "      <td>95.1</td>\n",
       "    </tr>\n",
       "    <tr>\n",
       "      <th>3</th>\n",
       "      <td>4</td>\n",
       "      <td>University of Cambridge</td>\n",
       "      <td>United Kingdom</td>\n",
       "      <td>1</td>\n",
       "      <td>3</td>\n",
       "      <td>25</td>\n",
       "      <td>4</td>\n",
       "      <td>10</td>\n",
       "      <td>94.1</td>\n",
       "    </tr>\n",
       "    <tr>\n",
       "      <th>4</th>\n",
       "      <td>5</td>\n",
       "      <td>University of Oxford</td>\n",
       "      <td>United Kingdom</td>\n",
       "      <td>2</td>\n",
       "      <td>7</td>\n",
       "      <td>27</td>\n",
       "      <td>9</td>\n",
       "      <td>4</td>\n",
       "      <td>93.3</td>\n",
       "    </tr>\n",
       "    <tr>\n",
       "      <th>...</th>\n",
       "      <td>...</td>\n",
       "      <td>...</td>\n",
       "      <td>...</td>\n",
       "      <td>...</td>\n",
       "      <td>...</td>\n",
       "      <td>...</td>\n",
       "      <td>...</td>\n",
       "      <td>...</td>\n",
       "      <td>...</td>\n",
       "    </tr>\n",
       "    <tr>\n",
       "      <th>1995</th>\n",
       "      <td>1996</td>\n",
       "      <td>Santa Catarina State University</td>\n",
       "      <td>Brazil</td>\n",
       "      <td>56</td>\n",
       "      <td>-</td>\n",
       "      <td>936</td>\n",
       "      <td>-</td>\n",
       "      <td>1938</td>\n",
       "      <td>65.8</td>\n",
       "    </tr>\n",
       "    <tr>\n",
       "      <th>1996</th>\n",
       "      <td>1997</td>\n",
       "      <td>Yancheng Institute of Technology</td>\n",
       "      <td>China</td>\n",
       "      <td>275</td>\n",
       "      <td>-</td>\n",
       "      <td>-</td>\n",
       "      <td>-</td>\n",
       "      <td>1920</td>\n",
       "      <td>65.7</td>\n",
       "    </tr>\n",
       "    <tr>\n",
       "      <th>1997</th>\n",
       "      <td>1998</td>\n",
       "      <td>Xi'an University of Science and Technology</td>\n",
       "      <td>China</td>\n",
       "      <td>276</td>\n",
       "      <td>-</td>\n",
       "      <td>994</td>\n",
       "      <td>-</td>\n",
       "      <td>1937</td>\n",
       "      <td>65.7</td>\n",
       "    </tr>\n",
       "    <tr>\n",
       "      <th>1998</th>\n",
       "      <td>1999</td>\n",
       "      <td>CEU San Pablo University</td>\n",
       "      <td>Spain</td>\n",
       "      <td>53</td>\n",
       "      <td>-</td>\n",
       "      <td>568</td>\n",
       "      <td>-</td>\n",
       "      <td>1992</td>\n",
       "      <td>65.7</td>\n",
       "    </tr>\n",
       "    <tr>\n",
       "      <th>1999</th>\n",
       "      <td>2000</td>\n",
       "      <td>Huzhou University</td>\n",
       "      <td>China</td>\n",
       "      <td>277</td>\n",
       "      <td>-</td>\n",
       "      <td>-</td>\n",
       "      <td>-</td>\n",
       "      <td>1922</td>\n",
       "      <td>65.7</td>\n",
       "    </tr>\n",
       "  </tbody>\n",
       "</table>\n",
       "<p>2000 rows × 9 columns</p>\n",
       "</div>"
      ],
      "text/plain": [
       "      World Rank                                 Institution         Country  \\\n",
       "0              1                          Harvard University             USA   \n",
       "1              2       Massachusetts Institute of Technology             USA   \n",
       "2              3                         Stanford University             USA   \n",
       "3              4                     University of Cambridge  United Kingdom   \n",
       "4              5                        University of Oxford  United Kingdom   \n",
       "...          ...                                         ...             ...   \n",
       "1995        1996             Santa Catarina State University          Brazil   \n",
       "1996        1997            Yancheng Institute of Technology           China   \n",
       "1997        1998  Xi'an University of Science and Technology           China   \n",
       "1998        1999                    CEU San Pablo University           Spain   \n",
       "1999        2000                           Huzhou University           China   \n",
       "\n",
       "      National Rank Quality of Education Rank Alumni Employment Rank  \\\n",
       "0                 1                         1                      1   \n",
       "1                 2                         4                     12   \n",
       "2                 3                        10                      4   \n",
       "3                 1                         3                     25   \n",
       "4                 2                         7                     27   \n",
       "...             ...                       ...                    ...   \n",
       "1995             56                         -                    936   \n",
       "1996            275                         -                      -   \n",
       "1997            276                         -                    994   \n",
       "1998             53                         -                    568   \n",
       "1999            277                         -                      -   \n",
       "\n",
       "     Quality of Faculty Rank Research Performance Rank  Score  \n",
       "0                          1                         1  100.0  \n",
       "1                          2                         8   96.7  \n",
       "2                          3                         2   95.1  \n",
       "3                          4                        10   94.1  \n",
       "4                          9                         4   93.3  \n",
       "...                      ...                       ...    ...  \n",
       "1995                       -                      1938   65.8  \n",
       "1996                       -                      1920   65.7  \n",
       "1997                       -                      1937   65.7  \n",
       "1998                       -                      1992   65.7  \n",
       "1999                       -                      1922   65.7  \n",
       "\n",
       "[2000 rows x 9 columns]"
      ]
     },
     "execution_count": 7,
     "metadata": {},
     "output_type": "execute_result"
    }
   ],
   "source": [
    "#valori nule\n",
    "df.dropna()"
   ]
  },
  {
   "cell_type": "code",
   "execution_count": 8,
   "id": "2ac6862b-47bb-418f-8b42-85e3671ddc9d",
   "metadata": {},
   "outputs": [
    {
     "name": "stdout",
     "output_type": "stream",
     "text": [
      "2000\n"
     ]
    }
   ],
   "source": [
    "print(df.__len__())"
   ]
  },
  {
   "cell_type": "code",
   "execution_count": 9,
   "id": "d8018b40-1e3b-4ef2-9927-80195d0a7355",
   "metadata": {},
   "outputs": [
    {
     "data": {
      "text/plain": [
       "95"
      ]
     },
     "execution_count": 9,
     "metadata": {},
     "output_type": "execute_result"
    }
   ],
   "source": [
    "#numarul de tari din clasament\n",
    "len(df['Country'].unique())"
   ]
  },
  {
   "cell_type": "code",
   "execution_count": 10,
   "id": "f60a17d2",
   "metadata": {},
   "outputs": [
    {
     "data": {
      "text/plain": [
       "array([[ 1.       , -0.9169497],\n",
       "       [-0.9169497,  1.       ]])"
      ]
     },
     "execution_count": 10,
     "metadata": {},
     "output_type": "execute_result"
    }
   ],
   "source": [
    "from numpy import corrcoef\n",
    "\n",
    "\n",
    "corrcoef(df['Score'],df['World Rank'])"
   ]
  },
  {
   "cell_type": "code",
   "execution_count": 11,
   "id": "9e4582bd",
   "metadata": {},
   "outputs": [
    {
     "data": {
      "application/vnd.plotly.v1+json": {
       "config": {
        "plotlyServerURL": "https://plot.ly"
       },
       "data": [
        {
         "hovertemplate": "World Rank=%{x}<br>Score=%{y}<extra></extra>",
         "legendgroup": "",
         "marker": {
          "color": "#636efa",
          "symbol": "circle"
         },
         "mode": "markers",
         "name": "",
         "showlegend": false,
         "type": "scattergl",
         "x": [
          1,
          2,
          3,
          4,
          5,
          6,
          7,
          8,
          9,
          10,
          11,
          12,
          13,
          14,
          15,
          16,
          17,
          18,
          19,
          20,
          21,
          22,
          23,
          24,
          25,
          26,
          27,
          28,
          29,
          30,
          31,
          32,
          33,
          34,
          35,
          36,
          37,
          38,
          39,
          40,
          41,
          42,
          43,
          44,
          45,
          46,
          47,
          48,
          49,
          50,
          51,
          52,
          53,
          54,
          55,
          56,
          57,
          58,
          59,
          60,
          61,
          62,
          63,
          64,
          65,
          66,
          67,
          68,
          69,
          70,
          71,
          72,
          73,
          74,
          75,
          76,
          77,
          78,
          79,
          80,
          81,
          82,
          83,
          84,
          85,
          86,
          87,
          88,
          89,
          90,
          91,
          92,
          93,
          94,
          95,
          96,
          97,
          98,
          99,
          100,
          101,
          102,
          103,
          104,
          105,
          106,
          107,
          108,
          109,
          110,
          111,
          112,
          113,
          114,
          115,
          116,
          117,
          118,
          119,
          120,
          121,
          122,
          123,
          124,
          125,
          126,
          127,
          128,
          129,
          130,
          131,
          132,
          133,
          134,
          135,
          136,
          137,
          138,
          139,
          140,
          141,
          142,
          143,
          144,
          145,
          146,
          147,
          148,
          149,
          150,
          151,
          152,
          153,
          154,
          155,
          156,
          157,
          158,
          159,
          160,
          161,
          162,
          163,
          164,
          165,
          166,
          167,
          168,
          169,
          170,
          171,
          172,
          173,
          174,
          175,
          176,
          177,
          178,
          179,
          180,
          181,
          182,
          183,
          184,
          185,
          186,
          187,
          188,
          189,
          190,
          191,
          192,
          193,
          194,
          195,
          196,
          197,
          198,
          199,
          200,
          201,
          202,
          203,
          204,
          205,
          206,
          207,
          208,
          209,
          210,
          211,
          212,
          213,
          214,
          215,
          216,
          217,
          218,
          219,
          220,
          221,
          222,
          223,
          224,
          225,
          226,
          227,
          228,
          229,
          230,
          231,
          232,
          233,
          234,
          235,
          236,
          237,
          238,
          239,
          240,
          241,
          242,
          243,
          244,
          245,
          246,
          247,
          248,
          249,
          250,
          251,
          252,
          253,
          254,
          255,
          256,
          257,
          258,
          259,
          260,
          261,
          262,
          263,
          264,
          265,
          266,
          267,
          268,
          269,
          270,
          271,
          272,
          273,
          274,
          275,
          276,
          277,
          278,
          279,
          280,
          281,
          282,
          283,
          284,
          285,
          286,
          287,
          288,
          289,
          290,
          291,
          292,
          293,
          294,
          295,
          296,
          297,
          298,
          299,
          300,
          301,
          302,
          303,
          304,
          305,
          306,
          307,
          308,
          309,
          310,
          311,
          312,
          313,
          314,
          315,
          316,
          317,
          318,
          319,
          320,
          321,
          322,
          323,
          324,
          325,
          326,
          327,
          328,
          329,
          330,
          331,
          332,
          333,
          334,
          335,
          336,
          337,
          338,
          339,
          340,
          341,
          342,
          343,
          344,
          345,
          346,
          347,
          348,
          349,
          350,
          351,
          352,
          353,
          354,
          355,
          356,
          357,
          358,
          359,
          360,
          361,
          362,
          363,
          364,
          365,
          366,
          367,
          368,
          369,
          370,
          371,
          372,
          373,
          374,
          375,
          376,
          377,
          378,
          379,
          380,
          381,
          382,
          383,
          384,
          385,
          386,
          387,
          388,
          389,
          390,
          391,
          392,
          393,
          394,
          395,
          396,
          397,
          398,
          399,
          400,
          401,
          402,
          403,
          404,
          405,
          406,
          407,
          408,
          409,
          410,
          411,
          412,
          413,
          414,
          415,
          416,
          417,
          418,
          419,
          420,
          421,
          422,
          423,
          424,
          425,
          426,
          427,
          428,
          429,
          430,
          431,
          432,
          433,
          434,
          435,
          436,
          437,
          438,
          439,
          440,
          441,
          442,
          443,
          444,
          445,
          446,
          447,
          448,
          449,
          450,
          451,
          452,
          453,
          454,
          455,
          456,
          457,
          458,
          459,
          460,
          461,
          462,
          463,
          464,
          465,
          466,
          467,
          468,
          469,
          470,
          471,
          472,
          473,
          474,
          475,
          476,
          477,
          478,
          479,
          480,
          481,
          482,
          483,
          484,
          485,
          486,
          487,
          488,
          489,
          490,
          491,
          492,
          493,
          494,
          495,
          496,
          497,
          498,
          499,
          500,
          501,
          502,
          503,
          504,
          505,
          506,
          507,
          508,
          509,
          510,
          511,
          512,
          513,
          514,
          515,
          516,
          517,
          518,
          519,
          520,
          521,
          522,
          523,
          524,
          525,
          526,
          527,
          528,
          529,
          530,
          531,
          532,
          533,
          534,
          535,
          536,
          537,
          538,
          539,
          540,
          541,
          542,
          543,
          544,
          545,
          546,
          547,
          548,
          549,
          550,
          551,
          552,
          553,
          554,
          555,
          556,
          557,
          558,
          559,
          560,
          561,
          562,
          563,
          564,
          565,
          566,
          567,
          568,
          569,
          570,
          571,
          572,
          573,
          574,
          575,
          576,
          577,
          578,
          579,
          580,
          581,
          582,
          583,
          584,
          585,
          586,
          587,
          588,
          589,
          590,
          591,
          592,
          593,
          594,
          595,
          596,
          597,
          598,
          599,
          600,
          601,
          602,
          603,
          604,
          605,
          606,
          607,
          608,
          609,
          610,
          611,
          612,
          613,
          614,
          615,
          616,
          617,
          618,
          619,
          620,
          621,
          622,
          623,
          624,
          625,
          626,
          627,
          628,
          629,
          630,
          631,
          632,
          633,
          634,
          635,
          636,
          637,
          638,
          639,
          640,
          641,
          642,
          643,
          644,
          645,
          646,
          647,
          648,
          649,
          650,
          651,
          652,
          653,
          654,
          655,
          656,
          657,
          658,
          659,
          660,
          661,
          662,
          663,
          664,
          665,
          666,
          667,
          668,
          669,
          670,
          671,
          672,
          673,
          674,
          675,
          676,
          677,
          678,
          679,
          680,
          681,
          682,
          683,
          684,
          685,
          686,
          687,
          688,
          689,
          690,
          691,
          692,
          693,
          694,
          695,
          696,
          697,
          698,
          699,
          700,
          701,
          702,
          703,
          704,
          705,
          706,
          707,
          708,
          709,
          710,
          711,
          712,
          713,
          714,
          715,
          716,
          717,
          718,
          719,
          720,
          721,
          722,
          723,
          724,
          725,
          726,
          727,
          728,
          729,
          730,
          731,
          732,
          733,
          734,
          735,
          736,
          737,
          738,
          739,
          740,
          741,
          742,
          743,
          744,
          745,
          746,
          747,
          748,
          749,
          750,
          751,
          752,
          753,
          754,
          755,
          756,
          757,
          758,
          759,
          760,
          761,
          762,
          763,
          764,
          765,
          766,
          767,
          768,
          769,
          770,
          771,
          772,
          773,
          774,
          775,
          776,
          777,
          778,
          779,
          780,
          781,
          782,
          783,
          784,
          785,
          786,
          787,
          788,
          789,
          790,
          791,
          792,
          793,
          794,
          795,
          796,
          797,
          798,
          799,
          800,
          801,
          802,
          803,
          804,
          805,
          806,
          807,
          808,
          809,
          810,
          811,
          812,
          813,
          814,
          815,
          816,
          817,
          818,
          819,
          820,
          821,
          822,
          823,
          824,
          825,
          826,
          827,
          828,
          829,
          830,
          831,
          832,
          833,
          834,
          835,
          836,
          837,
          838,
          839,
          840,
          841,
          842,
          843,
          844,
          845,
          846,
          847,
          848,
          849,
          850,
          851,
          852,
          853,
          854,
          855,
          856,
          857,
          858,
          859,
          860,
          861,
          862,
          863,
          864,
          865,
          866,
          867,
          868,
          869,
          870,
          871,
          872,
          873,
          874,
          875,
          876,
          877,
          878,
          879,
          880,
          881,
          882,
          883,
          884,
          885,
          886,
          887,
          888,
          889,
          890,
          891,
          892,
          893,
          894,
          895,
          896,
          897,
          898,
          899,
          900,
          901,
          902,
          903,
          904,
          905,
          906,
          907,
          908,
          909,
          910,
          911,
          912,
          913,
          914,
          915,
          916,
          917,
          918,
          919,
          920,
          921,
          922,
          923,
          924,
          925,
          926,
          927,
          928,
          929,
          930,
          931,
          932,
          933,
          934,
          935,
          936,
          937,
          938,
          939,
          940,
          941,
          942,
          943,
          944,
          945,
          946,
          947,
          948,
          949,
          950,
          951,
          952,
          953,
          954,
          955,
          956,
          957,
          958,
          959,
          960,
          961,
          962,
          963,
          964,
          965,
          966,
          967,
          968,
          969,
          970,
          971,
          972,
          973,
          974,
          975,
          976,
          977,
          978,
          979,
          980,
          981,
          982,
          983,
          984,
          985,
          986,
          987,
          988,
          989,
          990,
          991,
          992,
          993,
          994,
          995,
          996,
          997,
          998,
          999,
          1000,
          1001,
          1002,
          1003,
          1004,
          1005,
          1006,
          1007,
          1008,
          1009,
          1010,
          1011,
          1012,
          1013,
          1014,
          1015,
          1016,
          1017,
          1018,
          1019,
          1020,
          1021,
          1022,
          1023,
          1024,
          1025,
          1026,
          1027,
          1028,
          1029,
          1030,
          1031,
          1032,
          1033,
          1034,
          1035,
          1036,
          1037,
          1038,
          1039,
          1040,
          1041,
          1042,
          1043,
          1044,
          1045,
          1046,
          1047,
          1048,
          1049,
          1050,
          1051,
          1052,
          1053,
          1054,
          1055,
          1056,
          1057,
          1058,
          1059,
          1060,
          1061,
          1062,
          1063,
          1064,
          1065,
          1066,
          1067,
          1068,
          1069,
          1070,
          1071,
          1072,
          1073,
          1074,
          1075,
          1076,
          1077,
          1078,
          1079,
          1080,
          1081,
          1082,
          1083,
          1084,
          1085,
          1086,
          1087,
          1088,
          1089,
          1090,
          1091,
          1092,
          1093,
          1094,
          1095,
          1096,
          1097,
          1098,
          1099,
          1100,
          1101,
          1102,
          1103,
          1104,
          1105,
          1106,
          1107,
          1108,
          1109,
          1110,
          1111,
          1112,
          1113,
          1114,
          1115,
          1116,
          1117,
          1118,
          1119,
          1120,
          1121,
          1122,
          1123,
          1124,
          1125,
          1126,
          1127,
          1128,
          1129,
          1130,
          1131,
          1132,
          1133,
          1134,
          1135,
          1136,
          1137,
          1138,
          1139,
          1140,
          1141,
          1142,
          1143,
          1144,
          1145,
          1146,
          1147,
          1148,
          1149,
          1150,
          1151,
          1152,
          1153,
          1154,
          1155,
          1156,
          1157,
          1158,
          1159,
          1160,
          1161,
          1162,
          1163,
          1164,
          1165,
          1166,
          1167,
          1168,
          1169,
          1170,
          1171,
          1172,
          1173,
          1174,
          1175,
          1176,
          1177,
          1178,
          1179,
          1180,
          1181,
          1182,
          1183,
          1184,
          1185,
          1186,
          1187,
          1188,
          1189,
          1190,
          1191,
          1192,
          1193,
          1194,
          1195,
          1196,
          1197,
          1198,
          1199,
          1200,
          1201,
          1202,
          1203,
          1204,
          1205,
          1206,
          1207,
          1208,
          1209,
          1210,
          1211,
          1212,
          1213,
          1214,
          1215,
          1216,
          1217,
          1218,
          1219,
          1220,
          1221,
          1222,
          1223,
          1224,
          1225,
          1226,
          1227,
          1228,
          1229,
          1230,
          1231,
          1232,
          1233,
          1234,
          1235,
          1236,
          1237,
          1238,
          1239,
          1240,
          1241,
          1242,
          1243,
          1244,
          1245,
          1246,
          1247,
          1248,
          1249,
          1250,
          1251,
          1252,
          1253,
          1254,
          1255,
          1256,
          1257,
          1258,
          1259,
          1260,
          1261,
          1262,
          1263,
          1264,
          1265,
          1266,
          1267,
          1268,
          1269,
          1270,
          1271,
          1272,
          1273,
          1274,
          1275,
          1276,
          1277,
          1278,
          1279,
          1280,
          1281,
          1282,
          1283,
          1284,
          1285,
          1286,
          1287,
          1288,
          1289,
          1290,
          1291,
          1292,
          1293,
          1294,
          1295,
          1296,
          1297,
          1298,
          1299,
          1300,
          1301,
          1302,
          1303,
          1304,
          1305,
          1306,
          1307,
          1308,
          1309,
          1310,
          1311,
          1312,
          1313,
          1314,
          1315,
          1316,
          1317,
          1318,
          1319,
          1320,
          1321,
          1322,
          1323,
          1324,
          1325,
          1326,
          1327,
          1328,
          1329,
          1330,
          1331,
          1332,
          1333,
          1334,
          1335,
          1336,
          1337,
          1338,
          1339,
          1340,
          1341,
          1342,
          1343,
          1344,
          1345,
          1346,
          1347,
          1348,
          1349,
          1350,
          1351,
          1352,
          1353,
          1354,
          1355,
          1356,
          1357,
          1358,
          1359,
          1360,
          1361,
          1362,
          1363,
          1364,
          1365,
          1366,
          1367,
          1368,
          1369,
          1370,
          1371,
          1372,
          1373,
          1374,
          1375,
          1376,
          1377,
          1378,
          1379,
          1380,
          1381,
          1382,
          1383,
          1384,
          1385,
          1386,
          1387,
          1388,
          1389,
          1390,
          1391,
          1392,
          1393,
          1394,
          1395,
          1396,
          1397,
          1398,
          1399,
          1400,
          1401,
          1402,
          1403,
          1404,
          1405,
          1406,
          1407,
          1408,
          1409,
          1410,
          1411,
          1412,
          1413,
          1414,
          1415,
          1416,
          1417,
          1418,
          1419,
          1420,
          1421,
          1422,
          1423,
          1424,
          1425,
          1426,
          1427,
          1428,
          1429,
          1430,
          1431,
          1432,
          1433,
          1434,
          1435,
          1436,
          1437,
          1438,
          1439,
          1440,
          1441,
          1442,
          1443,
          1444,
          1445,
          1446,
          1447,
          1448,
          1449,
          1450,
          1451,
          1452,
          1453,
          1454,
          1455,
          1456,
          1457,
          1458,
          1459,
          1460,
          1461,
          1462,
          1463,
          1464,
          1465,
          1466,
          1467,
          1468,
          1469,
          1470,
          1471,
          1472,
          1473,
          1474,
          1475,
          1476,
          1477,
          1478,
          1479,
          1480,
          1481,
          1482,
          1483,
          1484,
          1485,
          1486,
          1487,
          1488,
          1489,
          1490,
          1491,
          1492,
          1493,
          1494,
          1495,
          1496,
          1497,
          1498,
          1499,
          1500,
          1501,
          1502,
          1503,
          1504,
          1505,
          1506,
          1507,
          1508,
          1509,
          1510,
          1511,
          1512,
          1513,
          1514,
          1515,
          1516,
          1517,
          1518,
          1519,
          1520,
          1521,
          1522,
          1523,
          1524,
          1525,
          1526,
          1527,
          1528,
          1529,
          1530,
          1531,
          1532,
          1533,
          1534,
          1535,
          1536,
          1537,
          1538,
          1539,
          1540,
          1541,
          1542,
          1543,
          1544,
          1545,
          1546,
          1547,
          1548,
          1549,
          1550,
          1551,
          1552,
          1553,
          1554,
          1555,
          1556,
          1557,
          1558,
          1559,
          1560,
          1561,
          1562,
          1563,
          1564,
          1565,
          1566,
          1567,
          1568,
          1569,
          1570,
          1571,
          1572,
          1573,
          1574,
          1575,
          1576,
          1577,
          1578,
          1579,
          1580,
          1581,
          1582,
          1583,
          1584,
          1585,
          1586,
          1587,
          1588,
          1589,
          1590,
          1591,
          1592,
          1593,
          1594,
          1595,
          1596,
          1597,
          1598,
          1599,
          1600,
          1601,
          1602,
          1603,
          1604,
          1605,
          1606,
          1607,
          1608,
          1609,
          1610,
          1611,
          1612,
          1613,
          1614,
          1615,
          1616,
          1617,
          1618,
          1619,
          1620,
          1621,
          1622,
          1623,
          1624,
          1625,
          1626,
          1627,
          1628,
          1629,
          1630,
          1631,
          1632,
          1633,
          1634,
          1635,
          1636,
          1637,
          1638,
          1639,
          1640,
          1641,
          1642,
          1643,
          1644,
          1645,
          1646,
          1647,
          1648,
          1649,
          1650,
          1651,
          1652,
          1653,
          1654,
          1655,
          1656,
          1657,
          1658,
          1659,
          1660,
          1661,
          1662,
          1663,
          1664,
          1665,
          1666,
          1667,
          1668,
          1669,
          1670,
          1671,
          1672,
          1673,
          1674,
          1675,
          1676,
          1677,
          1678,
          1679,
          1680,
          1681,
          1682,
          1683,
          1684,
          1685,
          1686,
          1687,
          1688,
          1689,
          1690,
          1691,
          1692,
          1693,
          1694,
          1695,
          1696,
          1697,
          1698,
          1699,
          1700,
          1701,
          1702,
          1703,
          1704,
          1705,
          1706,
          1707,
          1708,
          1709,
          1710,
          1711,
          1712,
          1713,
          1714,
          1715,
          1716,
          1717,
          1718,
          1719,
          1720,
          1721,
          1722,
          1723,
          1724,
          1725,
          1726,
          1727,
          1728,
          1729,
          1730,
          1731,
          1732,
          1733,
          1734,
          1735,
          1736,
          1737,
          1738,
          1739,
          1740,
          1741,
          1742,
          1743,
          1744,
          1745,
          1746,
          1747,
          1748,
          1749,
          1750,
          1751,
          1752,
          1753,
          1754,
          1755,
          1756,
          1757,
          1758,
          1759,
          1760,
          1761,
          1762,
          1763,
          1764,
          1765,
          1766,
          1767,
          1768,
          1769,
          1770,
          1771,
          1772,
          1773,
          1774,
          1775,
          1776,
          1777,
          1778,
          1779,
          1780,
          1781,
          1782,
          1783,
          1784,
          1785,
          1786,
          1787,
          1788,
          1789,
          1790,
          1791,
          1792,
          1793,
          1794,
          1795,
          1796,
          1797,
          1798,
          1799,
          1800,
          1801,
          1802,
          1803,
          1804,
          1805,
          1806,
          1807,
          1808,
          1809,
          1810,
          1811,
          1812,
          1813,
          1814,
          1815,
          1816,
          1817,
          1818,
          1819,
          1820,
          1821,
          1822,
          1823,
          1824,
          1825,
          1826,
          1827,
          1828,
          1829,
          1830,
          1831,
          1832,
          1833,
          1834,
          1835,
          1836,
          1837,
          1838,
          1839,
          1840,
          1841,
          1842,
          1843,
          1844,
          1845,
          1846,
          1847,
          1848,
          1849,
          1850,
          1851,
          1852,
          1853,
          1854,
          1855,
          1856,
          1857,
          1858,
          1859,
          1860,
          1861,
          1862,
          1863,
          1864,
          1865,
          1866,
          1867,
          1868,
          1869,
          1870,
          1871,
          1872,
          1873,
          1874,
          1875,
          1876,
          1877,
          1878,
          1879,
          1880,
          1881,
          1882,
          1883,
          1884,
          1885,
          1886,
          1887,
          1888,
          1889,
          1890,
          1891,
          1892,
          1893,
          1894,
          1895,
          1896,
          1897,
          1898,
          1899,
          1900,
          1901,
          1902,
          1903,
          1904,
          1905,
          1906,
          1907,
          1908,
          1909,
          1910,
          1911,
          1912,
          1913,
          1914,
          1915,
          1916,
          1917,
          1918,
          1919,
          1920,
          1921,
          1922,
          1923,
          1924,
          1925,
          1926,
          1927,
          1928,
          1929,
          1930,
          1931,
          1932,
          1933,
          1934,
          1935,
          1936,
          1937,
          1938,
          1939,
          1940,
          1941,
          1942,
          1943,
          1944,
          1945,
          1946,
          1947,
          1948,
          1949,
          1950,
          1951,
          1952,
          1953,
          1954,
          1955,
          1956,
          1957,
          1958,
          1959,
          1960,
          1961,
          1962,
          1963,
          1964,
          1965,
          1966,
          1967,
          1968,
          1969,
          1970,
          1971,
          1972,
          1973,
          1974,
          1975,
          1976,
          1977,
          1978,
          1979,
          1980,
          1981,
          1982,
          1983,
          1984,
          1985,
          1986,
          1987,
          1988,
          1989,
          1990,
          1991,
          1992,
          1993,
          1994,
          1995,
          1996,
          1997,
          1998,
          1999,
          2000
         ],
         "xaxis": "x",
         "y": [
          100,
          96.7,
          95.1,
          94.1,
          93.3,
          92.6,
          92,
          91.5,
          91.1,
          90.7,
          90.4,
          90.1,
          89.8,
          89.5,
          89.2,
          89,
          88.8,
          88.6,
          88.4,
          88.2,
          88,
          87.8,
          87.6,
          87.5,
          87.3,
          87.2,
          87,
          86.9,
          86.8,
          86.6,
          86.5,
          86.4,
          86.3,
          86.1,
          86,
          85.9,
          85.8,
          85.7,
          85.6,
          85.5,
          85.4,
          85.3,
          85.2,
          85.1,
          85,
          85,
          84.9,
          84.8,
          84.7,
          84.6,
          84.5,
          84.5,
          84.4,
          84.3,
          84.2,
          84.2,
          84.1,
          84,
          84,
          83.9,
          83.8,
          83.8,
          83.7,
          83.6,
          83.6,
          83.5,
          83.4,
          83.4,
          83.3,
          83.3,
          83.2,
          83.1,
          83.1,
          83,
          83,
          82.9,
          82.9,
          82.8,
          82.8,
          82.7,
          82.6,
          82.6,
          82.5,
          82.5,
          82.4,
          82.4,
          82.3,
          82.3,
          82.2,
          82.2,
          82.2,
          82.1,
          82.1,
          82,
          82,
          81.9,
          81.9,
          81.8,
          81.8,
          81.8,
          81.7,
          81.7,
          81.6,
          81.6,
          81.5,
          81.5,
          81.5,
          81.4,
          81.4,
          81.3,
          81.3,
          81.3,
          81.2,
          81.2,
          81.1,
          81.1,
          81.1,
          81,
          81,
          81,
          80.9,
          80.9,
          80.9,
          80.8,
          80.8,
          80.7,
          80.7,
          80.7,
          80.6,
          80.6,
          80.6,
          80.5,
          80.5,
          80.5,
          80.4,
          80.4,
          80.4,
          80.3,
          80.3,
          80.3,
          80.3,
          80.2,
          80.2,
          80.2,
          80.1,
          80.1,
          80.1,
          80,
          80,
          80,
          79.9,
          79.9,
          79.9,
          79.9,
          79.8,
          79.8,
          79.8,
          79.7,
          79.7,
          79.7,
          79.7,
          79.6,
          79.6,
          79.6,
          79.5,
          79.5,
          79.5,
          79.5,
          79.4,
          79.4,
          79.4,
          79.4,
          79.3,
          79.3,
          79.3,
          79.2,
          79.2,
          79.2,
          79.2,
          79.1,
          79.1,
          79.1,
          79.1,
          79,
          79,
          79,
          79,
          78.9,
          78.9,
          78.9,
          78.9,
          78.8,
          78.8,
          78.8,
          78.8,
          78.8,
          78.7,
          78.7,
          78.7,
          78.7,
          78.6,
          78.6,
          78.6,
          78.6,
          78.5,
          78.5,
          78.5,
          78.5,
          78.5,
          78.4,
          78.4,
          78.4,
          78.4,
          78.3,
          78.3,
          78.3,
          78.3,
          78.3,
          78.2,
          78.2,
          78.2,
          78.2,
          78.2,
          78.1,
          78.1,
          78.1,
          78.1,
          78,
          78,
          78,
          78,
          78,
          77.9,
          77.9,
          77.9,
          77.9,
          77.9,
          77.8,
          77.8,
          77.8,
          77.8,
          77.8,
          77.7,
          77.7,
          77.7,
          77.7,
          77.7,
          77.6,
          77.6,
          77.6,
          77.6,
          77.6,
          77.6,
          77.5,
          77.5,
          77.5,
          77.5,
          77.5,
          77.4,
          77.4,
          77.4,
          77.4,
          77.4,
          77.3,
          77.3,
          77.3,
          77.3,
          77.3,
          77.3,
          77.2,
          77.2,
          77.2,
          77.2,
          77.2,
          77.2,
          77.1,
          77.1,
          77.1,
          77.1,
          77.1,
          77,
          77,
          77,
          77,
          77,
          77,
          76.9,
          76.9,
          76.9,
          76.9,
          76.9,
          76.9,
          76.8,
          76.8,
          76.8,
          76.8,
          76.8,
          76.8,
          76.7,
          76.7,
          76.7,
          76.7,
          76.7,
          76.7,
          76.6,
          76.6,
          76.6,
          76.6,
          76.6,
          76.6,
          76.5,
          76.5,
          76.5,
          76.5,
          76.5,
          76.5,
          76.5,
          76.4,
          76.4,
          76.4,
          76.4,
          76.4,
          76.4,
          76.3,
          76.3,
          76.3,
          76.3,
          76.3,
          76.3,
          76.3,
          76.2,
          76.2,
          76.2,
          76.2,
          76.2,
          76.2,
          76.2,
          76.1,
          76.1,
          76.1,
          76.1,
          76.1,
          76.1,
          76,
          76,
          76,
          76,
          76,
          76,
          76,
          75.9,
          75.9,
          75.9,
          75.9,
          75.9,
          75.9,
          75.9,
          75.8,
          75.8,
          75.8,
          75.8,
          75.8,
          75.8,
          75.8,
          75.8,
          75.7,
          75.7,
          75.7,
          75.7,
          75.7,
          75.7,
          75.7,
          75.6,
          75.6,
          75.6,
          75.6,
          75.6,
          75.6,
          75.6,
          75.5,
          75.5,
          75.5,
          75.5,
          75.5,
          75.5,
          75.5,
          75.5,
          75.4,
          75.4,
          75.4,
          75.4,
          75.4,
          75.4,
          75.4,
          75.4,
          75.3,
          75.3,
          75.3,
          75.3,
          75.3,
          75.3,
          75.3,
          75.2,
          75.2,
          75.2,
          75.2,
          75.2,
          75.2,
          75.2,
          75.2,
          75.1,
          75.1,
          75.1,
          75.1,
          75.1,
          75.1,
          75.1,
          75.1,
          75,
          75,
          75,
          75,
          75,
          75,
          75,
          75,
          75,
          74.9,
          74.9,
          74.9,
          74.9,
          74.9,
          74.9,
          74.9,
          74.9,
          74.8,
          74.8,
          74.8,
          74.8,
          74.8,
          74.8,
          74.8,
          74.8,
          74.7,
          74.7,
          74.7,
          74.7,
          74.7,
          74.7,
          74.7,
          74.7,
          74.7,
          74.6,
          74.6,
          74.6,
          74.6,
          74.6,
          74.6,
          74.6,
          74.6,
          74.6,
          74.5,
          74.5,
          74.5,
          74.5,
          74.5,
          74.5,
          74.5,
          74.5,
          74.5,
          74.4,
          74.4,
          74.4,
          74.4,
          74.4,
          74.4,
          74.4,
          74.4,
          74.4,
          74.3,
          74.3,
          74.3,
          74.3,
          74.3,
          74.3,
          74.3,
          74.3,
          74.3,
          74.2,
          74.2,
          74.2,
          74.2,
          74.2,
          74.2,
          74.2,
          74.2,
          74.2,
          74.1,
          74.1,
          74.1,
          74.1,
          74.1,
          74.1,
          74.1,
          74.1,
          74.1,
          74.1,
          74,
          74,
          74,
          74,
          74,
          74,
          74,
          74,
          74,
          74,
          73.9,
          73.9,
          73.9,
          73.9,
          73.9,
          73.9,
          73.9,
          73.9,
          73.9,
          73.8,
          73.8,
          73.8,
          73.8,
          73.8,
          73.8,
          73.8,
          73.8,
          73.8,
          73.8,
          73.7,
          73.7,
          73.7,
          73.7,
          73.7,
          73.7,
          73.7,
          73.7,
          73.7,
          73.7,
          73.6,
          73.6,
          73.6,
          73.6,
          73.6,
          73.6,
          73.6,
          73.6,
          73.6,
          73.6,
          73.6,
          73.5,
          73.5,
          73.5,
          73.5,
          73.5,
          73.5,
          73.5,
          73.5,
          73.5,
          73.5,
          73.4,
          73.4,
          73.4,
          73.4,
          73.4,
          73.4,
          73.4,
          73.4,
          73.4,
          73.4,
          73.4,
          73.3,
          73.3,
          73.3,
          73.3,
          73.3,
          73.3,
          73.3,
          73.3,
          73.3,
          73.3,
          73.2,
          73.2,
          73.2,
          73.2,
          73.2,
          73.2,
          73.2,
          73.2,
          73.2,
          73.2,
          73.2,
          73.1,
          73.1,
          73.1,
          73.1,
          73.1,
          73.1,
          73.1,
          73.1,
          73.1,
          73.1,
          73.1,
          73,
          73,
          73,
          73,
          73,
          73,
          73,
          73,
          73,
          73,
          73,
          73,
          72.9,
          72.9,
          72.9,
          72.9,
          72.9,
          72.9,
          72.9,
          72.9,
          72.9,
          72.9,
          72.9,
          72.8,
          72.8,
          72.8,
          72.8,
          72.8,
          72.8,
          72.8,
          72.8,
          72.8,
          72.8,
          72.8,
          72.8,
          72.7,
          72.7,
          72.7,
          72.7,
          72.7,
          72.7,
          72.7,
          72.7,
          72.7,
          72.7,
          72.7,
          72.6,
          72.6,
          72.6,
          72.6,
          72.6,
          72.6,
          72.6,
          72.6,
          72.6,
          72.6,
          72.6,
          72.6,
          72.5,
          72.5,
          72.5,
          72.5,
          72.5,
          72.5,
          72.5,
          72.5,
          72.5,
          72.5,
          72.5,
          72.5,
          72.5,
          72.4,
          72.4,
          72.4,
          72.4,
          72.4,
          72.4,
          72.4,
          72.4,
          72.4,
          72.4,
          72.4,
          72.4,
          72.3,
          72.3,
          72.3,
          72.3,
          72.3,
          72.3,
          72.3,
          72.3,
          72.3,
          72.3,
          72.3,
          72.3,
          72.2,
          72.2,
          72.2,
          72.2,
          72.2,
          72.2,
          72.2,
          72.2,
          72.2,
          72.2,
          72.2,
          72.2,
          72.2,
          72.1,
          72.1,
          72.1,
          72.1,
          72.1,
          72.1,
          72.1,
          72.1,
          72.1,
          72.1,
          72.1,
          72.1,
          72.1,
          72,
          72,
          72,
          72,
          72,
          72,
          72,
          72,
          72,
          72,
          72,
          72,
          72,
          71.9,
          71.9,
          71.9,
          71.9,
          71.9,
          71.9,
          71.9,
          71.9,
          71.9,
          71.9,
          71.9,
          71.9,
          71.9,
          71.8,
          71.8,
          71.8,
          71.8,
          71.8,
          71.8,
          71.8,
          71.8,
          71.8,
          71.8,
          71.8,
          71.8,
          71.8,
          71.8,
          71.7,
          71.7,
          71.7,
          71.7,
          71.7,
          71.7,
          71.7,
          71.7,
          71.7,
          71.7,
          71.7,
          71.7,
          71.7,
          71.6,
          71.6,
          71.6,
          71.6,
          71.6,
          71.6,
          71.6,
          71.6,
          71.6,
          71.6,
          71.6,
          71.6,
          71.6,
          71.6,
          71.5,
          71.5,
          71.5,
          71.5,
          71.5,
          71.5,
          71.5,
          71.5,
          71.5,
          71.5,
          71.5,
          71.5,
          71.5,
          71.5,
          71.4,
          71.4,
          71.4,
          71.4,
          71.4,
          71.4,
          71.4,
          71.4,
          71.4,
          71.4,
          71.4,
          71.4,
          71.4,
          71.4,
          71.3,
          71.3,
          71.3,
          71.3,
          71.3,
          71.3,
          71.3,
          71.3,
          71.3,
          71.3,
          71.3,
          71.3,
          71.3,
          71.3,
          71.3,
          71.2,
          71.2,
          71.2,
          71.2,
          71.2,
          71.2,
          71.2,
          71.2,
          71.2,
          71.2,
          71.2,
          71.2,
          71.2,
          71.2,
          71.1,
          71.1,
          71.1,
          71.1,
          71.1,
          71.1,
          71.1,
          71.1,
          71.1,
          71.1,
          71.1,
          71.1,
          71.1,
          71.1,
          71.1,
          71,
          71,
          71,
          71,
          71,
          71,
          71,
          71,
          71,
          71,
          71,
          71,
          71,
          71,
          71,
          70.9,
          70.9,
          70.9,
          70.9,
          70.9,
          70.9,
          70.9,
          70.9,
          70.9,
          70.9,
          70.9,
          70.9,
          70.9,
          70.9,
          70.9,
          70.8,
          70.8,
          70.8,
          70.8,
          70.8,
          70.8,
          70.8,
          70.8,
          70.8,
          70.8,
          70.8,
          70.8,
          70.8,
          70.8,
          70.8,
          70.8,
          70.7,
          70.7,
          70.7,
          70.7,
          70.7,
          70.7,
          70.7,
          70.7,
          70.7,
          70.7,
          70.7,
          70.7,
          70.7,
          70.7,
          70.7,
          70.6,
          70.6,
          70.6,
          70.6,
          70.6,
          70.6,
          70.6,
          70.6,
          70.6,
          70.6,
          70.6,
          70.6,
          70.6,
          70.6,
          70.6,
          70.6,
          70.5,
          70.5,
          70.5,
          70.5,
          70.5,
          70.5,
          70.5,
          70.5,
          70.5,
          70.5,
          70.5,
          70.5,
          70.5,
          70.5,
          70.5,
          70.5,
          70.4,
          70.4,
          70.4,
          70.4,
          70.4,
          70.4,
          70.4,
          70.4,
          70.4,
          70.4,
          70.4,
          70.4,
          70.4,
          70.4,
          70.4,
          70.4,
          70.4,
          70.3,
          70.3,
          70.3,
          70.3,
          70.3,
          70.3,
          70.3,
          70.3,
          70.3,
          70.3,
          70.3,
          70.3,
          70.3,
          70.3,
          70.3,
          70.3,
          70.2,
          70.2,
          70.2,
          70.2,
          70.2,
          70.2,
          70.2,
          70.2,
          70.2,
          70.2,
          70.2,
          70.2,
          70.2,
          70.2,
          70.2,
          70.2,
          70.2,
          70.1,
          70.1,
          70.1,
          70.1,
          70.1,
          70.1,
          70.1,
          70.1,
          70.1,
          70.1,
          70.1,
          70.1,
          70.1,
          70.1,
          70.1,
          70.1,
          70.1,
          70,
          70,
          70,
          70,
          70,
          70,
          70,
          70,
          70,
          70,
          70,
          70,
          70,
          70,
          70,
          70,
          70,
          69.9,
          69.9,
          69.9,
          69.9,
          69.9,
          69.9,
          69.9,
          69.9,
          69.9,
          69.9,
          69.9,
          69.9,
          69.9,
          69.9,
          69.9,
          69.9,
          69.9,
          69.9,
          69.8,
          69.8,
          69.8,
          69.8,
          69.8,
          69.8,
          69.8,
          69.8,
          69.8,
          69.8,
          69.8,
          69.8,
          69.8,
          69.8,
          69.8,
          69.8,
          69.8,
          69.7,
          69.7,
          69.7,
          69.7,
          69.7,
          69.7,
          69.7,
          69.7,
          69.7,
          69.7,
          69.7,
          69.7,
          69.7,
          69.7,
          69.7,
          69.7,
          69.7,
          69.7,
          69.6,
          69.6,
          69.6,
          69.6,
          69.6,
          69.6,
          69.6,
          69.6,
          69.6,
          69.6,
          69.6,
          69.6,
          69.6,
          69.6,
          69.6,
          69.6,
          69.6,
          69.6,
          69.5,
          69.5,
          69.5,
          69.5,
          69.5,
          69.5,
          69.5,
          69.5,
          69.5,
          69.5,
          69.5,
          69.5,
          69.5,
          69.5,
          69.5,
          69.5,
          69.5,
          69.5,
          69.5,
          69.4,
          69.4,
          69.4,
          69.4,
          69.4,
          69.4,
          69.4,
          69.4,
          69.4,
          69.4,
          69.4,
          69.4,
          69.4,
          69.4,
          69.4,
          69.4,
          69.4,
          69.4,
          69.3,
          69.3,
          69.3,
          69.3,
          69.3,
          69.3,
          69.3,
          69.3,
          69.3,
          69.3,
          69.3,
          69.3,
          69.3,
          69.3,
          69.3,
          69.3,
          69.3,
          69.3,
          69.3,
          69.2,
          69.2,
          69.2,
          69.2,
          69.2,
          69.2,
          69.2,
          69.2,
          69.2,
          69.2,
          69.2,
          69.2,
          69.2,
          69.2,
          69.2,
          69.2,
          69.2,
          69.2,
          69.2,
          69.1,
          69.1,
          69.1,
          69.1,
          69.1,
          69.1,
          69.1,
          69.1,
          69.1,
          69.1,
          69.1,
          69.1,
          69.1,
          69.1,
          69.1,
          69.1,
          69.1,
          69.1,
          69.1,
          69,
          69,
          69,
          69,
          69,
          69,
          69,
          69,
          69,
          69,
          69,
          69,
          69,
          69,
          69,
          69,
          69,
          69,
          69,
          69,
          68.9,
          68.9,
          68.9,
          68.9,
          68.9,
          68.9,
          68.9,
          68.9,
          68.9,
          68.9,
          68.9,
          68.9,
          68.9,
          68.9,
          68.9,
          68.9,
          68.9,
          68.9,
          68.9,
          68.9,
          68.8,
          68.8,
          68.8,
          68.8,
          68.8,
          68.8,
          68.8,
          68.8,
          68.8,
          68.8,
          68.8,
          68.8,
          68.8,
          68.8,
          68.8,
          68.8,
          68.8,
          68.8,
          68.8,
          68.8,
          68.7,
          68.7,
          68.7,
          68.7,
          68.7,
          68.7,
          68.7,
          68.7,
          68.7,
          68.7,
          68.7,
          68.7,
          68.7,
          68.7,
          68.7,
          68.7,
          68.7,
          68.7,
          68.7,
          68.7,
          68.6,
          68.6,
          68.6,
          68.6,
          68.6,
          68.6,
          68.6,
          68.6,
          68.6,
          68.6,
          68.6,
          68.6,
          68.6,
          68.6,
          68.6,
          68.6,
          68.6,
          68.6,
          68.6,
          68.6,
          68.5,
          68.5,
          68.5,
          68.5,
          68.5,
          68.5,
          68.5,
          68.5,
          68.5,
          68.5,
          68.5,
          68.5,
          68.5,
          68.5,
          68.5,
          68.5,
          68.5,
          68.5,
          68.5,
          68.5,
          68.5,
          68.4,
          68.4,
          68.4,
          68.4,
          68.4,
          68.4,
          68.4,
          68.4,
          68.4,
          68.4,
          68.4,
          68.4,
          68.4,
          68.4,
          68.4,
          68.4,
          68.4,
          68.4,
          68.4,
          68.4,
          68.4,
          68.3,
          68.3,
          68.3,
          68.3,
          68.3,
          68.3,
          68.3,
          68.3,
          68.3,
          68.3,
          68.3,
          68.3,
          68.3,
          68.3,
          68.3,
          68.3,
          68.3,
          68.3,
          68.3,
          68.3,
          68.3,
          68.3,
          68.2,
          68.2,
          68.2,
          68.2,
          68.2,
          68.2,
          68.2,
          68.2,
          68.2,
          68.2,
          68.2,
          68.2,
          68.2,
          68.2,
          68.2,
          68.2,
          68.2,
          68.2,
          68.2,
          68.2,
          68.2,
          68.1,
          68.1,
          68.1,
          68.1,
          68.1,
          68.1,
          68.1,
          68.1,
          68.1,
          68.1,
          68.1,
          68.1,
          68.1,
          68.1,
          68.1,
          68.1,
          68.1,
          68.1,
          68.1,
          68.1,
          68.1,
          68.1,
          68,
          68,
          68,
          68,
          68,
          68,
          68,
          68,
          68,
          68,
          68,
          68,
          68,
          68,
          68,
          68,
          68,
          68,
          68,
          68,
          68,
          68,
          67.9,
          67.9,
          67.9,
          67.9,
          67.9,
          67.9,
          67.9,
          67.9,
          67.9,
          67.9,
          67.9,
          67.9,
          67.9,
          67.9,
          67.9,
          67.9,
          67.9,
          67.9,
          67.9,
          67.9,
          67.9,
          67.9,
          67.8,
          67.8,
          67.8,
          67.8,
          67.8,
          67.8,
          67.8,
          67.8,
          67.8,
          67.8,
          67.8,
          67.8,
          67.8,
          67.8,
          67.8,
          67.8,
          67.8,
          67.8,
          67.8,
          67.8,
          67.8,
          67.8,
          67.8,
          67.7,
          67.7,
          67.7,
          67.7,
          67.7,
          67.7,
          67.7,
          67.7,
          67.7,
          67.7,
          67.7,
          67.7,
          67.7,
          67.7,
          67.7,
          67.7,
          67.7,
          67.7,
          67.7,
          67.7,
          67.7,
          67.7,
          67.7,
          67.6,
          67.6,
          67.6,
          67.6,
          67.6,
          67.6,
          67.6,
          67.6,
          67.6,
          67.6,
          67.6,
          67.6,
          67.6,
          67.6,
          67.6,
          67.6,
          67.6,
          67.6,
          67.6,
          67.6,
          67.6,
          67.6,
          67.6,
          67.5,
          67.5,
          67.5,
          67.5,
          67.5,
          67.5,
          67.5,
          67.5,
          67.5,
          67.5,
          67.5,
          67.5,
          67.5,
          67.5,
          67.5,
          67.5,
          67.5,
          67.5,
          67.5,
          67.5,
          67.5,
          67.5,
          67.5,
          67.4,
          67.4,
          67.4,
          67.4,
          67.4,
          67.4,
          67.4,
          67.4,
          67.4,
          67.4,
          67.4,
          67.4,
          67.4,
          67.4,
          67.4,
          67.4,
          67.4,
          67.4,
          67.4,
          67.4,
          67.4,
          67.4,
          67.4,
          67.4,
          67.3,
          67.3,
          67.3,
          67.3,
          67.3,
          67.3,
          67.3,
          67.3,
          67.3,
          67.3,
          67.3,
          67.3,
          67.3,
          67.3,
          67.3,
          67.3,
          67.3,
          67.3,
          67.3,
          67.3,
          67.3,
          67.3,
          67.3,
          67.3,
          67.2,
          67.2,
          67.2,
          67.2,
          67.2,
          67.2,
          67.2,
          67.2,
          67.2,
          67.2,
          67.2,
          67.2,
          67.2,
          67.2,
          67.2,
          67.2,
          67.2,
          67.2,
          67.2,
          67.2,
          67.2,
          67.2,
          67.2,
          67.2,
          67.1,
          67.1,
          67.1,
          67.1,
          67.1,
          67.1,
          67.1,
          67.1,
          67.1,
          67.1,
          67.1,
          67.1,
          67.1,
          67.1,
          67.1,
          67.1,
          67.1,
          67.1,
          67.1,
          67.1,
          67.1,
          67.1,
          67.1,
          67.1,
          67.1,
          67,
          67,
          67,
          67,
          67,
          67,
          67,
          67,
          67,
          67,
          67,
          67,
          67,
          67,
          67,
          67,
          67,
          67,
          67,
          67,
          67,
          67,
          67,
          67,
          66.9,
          66.9,
          66.9,
          66.9,
          66.9,
          66.9,
          66.9,
          66.9,
          66.9,
          66.9,
          66.9,
          66.9,
          66.9,
          66.9,
          66.9,
          66.9,
          66.9,
          66.9,
          66.9,
          66.9,
          66.9,
          66.9,
          66.9,
          66.9,
          66.9,
          66.8,
          66.8,
          66.8,
          66.8,
          66.8,
          66.8,
          66.8,
          66.8,
          66.8,
          66.8,
          66.8,
          66.8,
          66.8,
          66.8,
          66.8,
          66.8,
          66.8,
          66.8,
          66.8,
          66.8,
          66.8,
          66.8,
          66.8,
          66.8,
          66.8,
          66.8,
          66.7,
          66.7,
          66.7,
          66.7,
          66.7,
          66.7,
          66.7,
          66.7,
          66.7,
          66.7,
          66.7,
          66.7,
          66.7,
          66.7,
          66.7,
          66.7,
          66.7,
          66.7,
          66.7,
          66.7,
          66.7,
          66.7,
          66.7,
          66.7,
          66.7,
          66.6,
          66.6,
          66.6,
          66.6,
          66.6,
          66.6,
          66.6,
          66.6,
          66.6,
          66.6,
          66.6,
          66.6,
          66.6,
          66.6,
          66.6,
          66.6,
          66.6,
          66.6,
          66.6,
          66.6,
          66.6,
          66.6,
          66.6,
          66.6,
          66.6,
          66.6,
          66.5,
          66.5,
          66.5,
          66.5,
          66.5,
          66.5,
          66.5,
          66.5,
          66.5,
          66.5,
          66.5,
          66.5,
          66.5,
          66.5,
          66.5,
          66.5,
          66.5,
          66.5,
          66.5,
          66.5,
          66.5,
          66.5,
          66.5,
          66.5,
          66.5,
          66.5,
          66.4,
          66.4,
          66.4,
          66.4,
          66.4,
          66.4,
          66.4,
          66.4,
          66.4,
          66.4,
          66.4,
          66.4,
          66.4,
          66.4,
          66.4,
          66.4,
          66.4,
          66.4,
          66.4,
          66.4,
          66.4,
          66.4,
          66.4,
          66.4,
          66.4,
          66.4,
          66.4,
          66.3,
          66.3,
          66.3,
          66.3,
          66.3,
          66.3,
          66.3,
          66.3,
          66.3,
          66.3,
          66.3,
          66.3,
          66.3,
          66.3,
          66.3,
          66.3,
          66.3,
          66.3,
          66.3,
          66.3,
          66.3,
          66.3,
          66.3,
          66.3,
          66.3,
          66.3,
          66.3,
          66.2,
          66.2,
          66.2,
          66.2,
          66.2,
          66.2,
          66.2,
          66.2,
          66.2,
          66.2,
          66.2,
          66.2,
          66.2,
          66.2,
          66.2,
          66.2,
          66.2,
          66.2,
          66.2,
          66.2,
          66.2,
          66.2,
          66.2,
          66.2,
          66.2,
          66.2,
          66.2,
          66.1,
          66.1,
          66.1,
          66.1,
          66.1,
          66.1,
          66.1,
          66.1,
          66.1,
          66.1,
          66.1,
          66.1,
          66.1,
          66.1,
          66.1,
          66.1,
          66.1,
          66.1,
          66.1,
          66.1,
          66.1,
          66.1,
          66.1,
          66.1,
          66.1,
          66.1,
          66.1,
          66,
          66,
          66,
          66,
          66,
          66,
          66,
          66,
          66,
          66,
          66,
          66,
          66,
          66,
          66,
          66,
          66,
          66,
          66,
          66,
          66,
          66,
          66,
          66,
          66,
          66,
          66,
          66,
          65.9,
          65.9,
          65.9,
          65.9,
          65.9,
          65.9,
          65.9,
          65.9,
          65.9,
          65.9,
          65.9,
          65.9,
          65.9,
          65.9,
          65.9,
          65.9,
          65.9,
          65.9,
          65.9,
          65.9,
          65.9,
          65.9,
          65.9,
          65.9,
          65.9,
          65.9,
          65.9,
          65.8,
          65.8,
          65.8,
          65.8,
          65.8,
          65.8,
          65.8,
          65.8,
          65.8,
          65.8,
          65.8,
          65.8,
          65.8,
          65.8,
          65.8,
          65.8,
          65.8,
          65.8,
          65.8,
          65.8,
          65.8,
          65.8,
          65.8,
          65.8,
          65.8,
          65.8,
          65.8,
          65.8,
          65.8,
          65.7,
          65.7,
          65.7,
          65.7
         ],
         "yaxis": "y"
        }
       ],
       "layout": {
        "legend": {
         "tracegroupgap": 0
        },
        "margin": {
         "t": 60
        },
        "template": {
         "data": {
          "bar": [
           {
            "error_x": {
             "color": "#2a3f5f"
            },
            "error_y": {
             "color": "#2a3f5f"
            },
            "marker": {
             "line": {
              "color": "#E5ECF6",
              "width": 0.5
             },
             "pattern": {
              "fillmode": "overlay",
              "size": 10,
              "solidity": 0.2
             }
            },
            "type": "bar"
           }
          ],
          "barpolar": [
           {
            "marker": {
             "line": {
              "color": "#E5ECF6",
              "width": 0.5
             },
             "pattern": {
              "fillmode": "overlay",
              "size": 10,
              "solidity": 0.2
             }
            },
            "type": "barpolar"
           }
          ],
          "carpet": [
           {
            "aaxis": {
             "endlinecolor": "#2a3f5f",
             "gridcolor": "white",
             "linecolor": "white",
             "minorgridcolor": "white",
             "startlinecolor": "#2a3f5f"
            },
            "baxis": {
             "endlinecolor": "#2a3f5f",
             "gridcolor": "white",
             "linecolor": "white",
             "minorgridcolor": "white",
             "startlinecolor": "#2a3f5f"
            },
            "type": "carpet"
           }
          ],
          "choropleth": [
           {
            "colorbar": {
             "outlinewidth": 0,
             "ticks": ""
            },
            "type": "choropleth"
           }
          ],
          "contour": [
           {
            "colorbar": {
             "outlinewidth": 0,
             "ticks": ""
            },
            "colorscale": [
             [
              0,
              "#0d0887"
             ],
             [
              0.1111111111111111,
              "#46039f"
             ],
             [
              0.2222222222222222,
              "#7201a8"
             ],
             [
              0.3333333333333333,
              "#9c179e"
             ],
             [
              0.4444444444444444,
              "#bd3786"
             ],
             [
              0.5555555555555556,
              "#d8576b"
             ],
             [
              0.6666666666666666,
              "#ed7953"
             ],
             [
              0.7777777777777778,
              "#fb9f3a"
             ],
             [
              0.8888888888888888,
              "#fdca26"
             ],
             [
              1,
              "#f0f921"
             ]
            ],
            "type": "contour"
           }
          ],
          "contourcarpet": [
           {
            "colorbar": {
             "outlinewidth": 0,
             "ticks": ""
            },
            "type": "contourcarpet"
           }
          ],
          "heatmap": [
           {
            "colorbar": {
             "outlinewidth": 0,
             "ticks": ""
            },
            "colorscale": [
             [
              0,
              "#0d0887"
             ],
             [
              0.1111111111111111,
              "#46039f"
             ],
             [
              0.2222222222222222,
              "#7201a8"
             ],
             [
              0.3333333333333333,
              "#9c179e"
             ],
             [
              0.4444444444444444,
              "#bd3786"
             ],
             [
              0.5555555555555556,
              "#d8576b"
             ],
             [
              0.6666666666666666,
              "#ed7953"
             ],
             [
              0.7777777777777778,
              "#fb9f3a"
             ],
             [
              0.8888888888888888,
              "#fdca26"
             ],
             [
              1,
              "#f0f921"
             ]
            ],
            "type": "heatmap"
           }
          ],
          "heatmapgl": [
           {
            "colorbar": {
             "outlinewidth": 0,
             "ticks": ""
            },
            "colorscale": [
             [
              0,
              "#0d0887"
             ],
             [
              0.1111111111111111,
              "#46039f"
             ],
             [
              0.2222222222222222,
              "#7201a8"
             ],
             [
              0.3333333333333333,
              "#9c179e"
             ],
             [
              0.4444444444444444,
              "#bd3786"
             ],
             [
              0.5555555555555556,
              "#d8576b"
             ],
             [
              0.6666666666666666,
              "#ed7953"
             ],
             [
              0.7777777777777778,
              "#fb9f3a"
             ],
             [
              0.8888888888888888,
              "#fdca26"
             ],
             [
              1,
              "#f0f921"
             ]
            ],
            "type": "heatmapgl"
           }
          ],
          "histogram": [
           {
            "marker": {
             "pattern": {
              "fillmode": "overlay",
              "size": 10,
              "solidity": 0.2
             }
            },
            "type": "histogram"
           }
          ],
          "histogram2d": [
           {
            "colorbar": {
             "outlinewidth": 0,
             "ticks": ""
            },
            "colorscale": [
             [
              0,
              "#0d0887"
             ],
             [
              0.1111111111111111,
              "#46039f"
             ],
             [
              0.2222222222222222,
              "#7201a8"
             ],
             [
              0.3333333333333333,
              "#9c179e"
             ],
             [
              0.4444444444444444,
              "#bd3786"
             ],
             [
              0.5555555555555556,
              "#d8576b"
             ],
             [
              0.6666666666666666,
              "#ed7953"
             ],
             [
              0.7777777777777778,
              "#fb9f3a"
             ],
             [
              0.8888888888888888,
              "#fdca26"
             ],
             [
              1,
              "#f0f921"
             ]
            ],
            "type": "histogram2d"
           }
          ],
          "histogram2dcontour": [
           {
            "colorbar": {
             "outlinewidth": 0,
             "ticks": ""
            },
            "colorscale": [
             [
              0,
              "#0d0887"
             ],
             [
              0.1111111111111111,
              "#46039f"
             ],
             [
              0.2222222222222222,
              "#7201a8"
             ],
             [
              0.3333333333333333,
              "#9c179e"
             ],
             [
              0.4444444444444444,
              "#bd3786"
             ],
             [
              0.5555555555555556,
              "#d8576b"
             ],
             [
              0.6666666666666666,
              "#ed7953"
             ],
             [
              0.7777777777777778,
              "#fb9f3a"
             ],
             [
              0.8888888888888888,
              "#fdca26"
             ],
             [
              1,
              "#f0f921"
             ]
            ],
            "type": "histogram2dcontour"
           }
          ],
          "mesh3d": [
           {
            "colorbar": {
             "outlinewidth": 0,
             "ticks": ""
            },
            "type": "mesh3d"
           }
          ],
          "parcoords": [
           {
            "line": {
             "colorbar": {
              "outlinewidth": 0,
              "ticks": ""
             }
            },
            "type": "parcoords"
           }
          ],
          "pie": [
           {
            "automargin": true,
            "type": "pie"
           }
          ],
          "scatter": [
           {
            "fillpattern": {
             "fillmode": "overlay",
             "size": 10,
             "solidity": 0.2
            },
            "type": "scatter"
           }
          ],
          "scatter3d": [
           {
            "line": {
             "colorbar": {
              "outlinewidth": 0,
              "ticks": ""
             }
            },
            "marker": {
             "colorbar": {
              "outlinewidth": 0,
              "ticks": ""
             }
            },
            "type": "scatter3d"
           }
          ],
          "scattercarpet": [
           {
            "marker": {
             "colorbar": {
              "outlinewidth": 0,
              "ticks": ""
             }
            },
            "type": "scattercarpet"
           }
          ],
          "scattergeo": [
           {
            "marker": {
             "colorbar": {
              "outlinewidth": 0,
              "ticks": ""
             }
            },
            "type": "scattergeo"
           }
          ],
          "scattergl": [
           {
            "marker": {
             "colorbar": {
              "outlinewidth": 0,
              "ticks": ""
             }
            },
            "type": "scattergl"
           }
          ],
          "scattermapbox": [
           {
            "marker": {
             "colorbar": {
              "outlinewidth": 0,
              "ticks": ""
             }
            },
            "type": "scattermapbox"
           }
          ],
          "scatterpolar": [
           {
            "marker": {
             "colorbar": {
              "outlinewidth": 0,
              "ticks": ""
             }
            },
            "type": "scatterpolar"
           }
          ],
          "scatterpolargl": [
           {
            "marker": {
             "colorbar": {
              "outlinewidth": 0,
              "ticks": ""
             }
            },
            "type": "scatterpolargl"
           }
          ],
          "scatterternary": [
           {
            "marker": {
             "colorbar": {
              "outlinewidth": 0,
              "ticks": ""
             }
            },
            "type": "scatterternary"
           }
          ],
          "surface": [
           {
            "colorbar": {
             "outlinewidth": 0,
             "ticks": ""
            },
            "colorscale": [
             [
              0,
              "#0d0887"
             ],
             [
              0.1111111111111111,
              "#46039f"
             ],
             [
              0.2222222222222222,
              "#7201a8"
             ],
             [
              0.3333333333333333,
              "#9c179e"
             ],
             [
              0.4444444444444444,
              "#bd3786"
             ],
             [
              0.5555555555555556,
              "#d8576b"
             ],
             [
              0.6666666666666666,
              "#ed7953"
             ],
             [
              0.7777777777777778,
              "#fb9f3a"
             ],
             [
              0.8888888888888888,
              "#fdca26"
             ],
             [
              1,
              "#f0f921"
             ]
            ],
            "type": "surface"
           }
          ],
          "table": [
           {
            "cells": {
             "fill": {
              "color": "#EBF0F8"
             },
             "line": {
              "color": "white"
             }
            },
            "header": {
             "fill": {
              "color": "#C8D4E3"
             },
             "line": {
              "color": "white"
             }
            },
            "type": "table"
           }
          ]
         },
         "layout": {
          "annotationdefaults": {
           "arrowcolor": "#2a3f5f",
           "arrowhead": 0,
           "arrowwidth": 1
          },
          "autotypenumbers": "strict",
          "coloraxis": {
           "colorbar": {
            "outlinewidth": 0,
            "ticks": ""
           }
          },
          "colorscale": {
           "diverging": [
            [
             0,
             "#8e0152"
            ],
            [
             0.1,
             "#c51b7d"
            ],
            [
             0.2,
             "#de77ae"
            ],
            [
             0.3,
             "#f1b6da"
            ],
            [
             0.4,
             "#fde0ef"
            ],
            [
             0.5,
             "#f7f7f7"
            ],
            [
             0.6,
             "#e6f5d0"
            ],
            [
             0.7,
             "#b8e186"
            ],
            [
             0.8,
             "#7fbc41"
            ],
            [
             0.9,
             "#4d9221"
            ],
            [
             1,
             "#276419"
            ]
           ],
           "sequential": [
            [
             0,
             "#0d0887"
            ],
            [
             0.1111111111111111,
             "#46039f"
            ],
            [
             0.2222222222222222,
             "#7201a8"
            ],
            [
             0.3333333333333333,
             "#9c179e"
            ],
            [
             0.4444444444444444,
             "#bd3786"
            ],
            [
             0.5555555555555556,
             "#d8576b"
            ],
            [
             0.6666666666666666,
             "#ed7953"
            ],
            [
             0.7777777777777778,
             "#fb9f3a"
            ],
            [
             0.8888888888888888,
             "#fdca26"
            ],
            [
             1,
             "#f0f921"
            ]
           ],
           "sequentialminus": [
            [
             0,
             "#0d0887"
            ],
            [
             0.1111111111111111,
             "#46039f"
            ],
            [
             0.2222222222222222,
             "#7201a8"
            ],
            [
             0.3333333333333333,
             "#9c179e"
            ],
            [
             0.4444444444444444,
             "#bd3786"
            ],
            [
             0.5555555555555556,
             "#d8576b"
            ],
            [
             0.6666666666666666,
             "#ed7953"
            ],
            [
             0.7777777777777778,
             "#fb9f3a"
            ],
            [
             0.8888888888888888,
             "#fdca26"
            ],
            [
             1,
             "#f0f921"
            ]
           ]
          },
          "colorway": [
           "#636efa",
           "#EF553B",
           "#00cc96",
           "#ab63fa",
           "#FFA15A",
           "#19d3f3",
           "#FF6692",
           "#B6E880",
           "#FF97FF",
           "#FECB52"
          ],
          "font": {
           "color": "#2a3f5f"
          },
          "geo": {
           "bgcolor": "white",
           "lakecolor": "white",
           "landcolor": "#E5ECF6",
           "showlakes": true,
           "showland": true,
           "subunitcolor": "white"
          },
          "hoverlabel": {
           "align": "left"
          },
          "hovermode": "closest",
          "mapbox": {
           "style": "light"
          },
          "paper_bgcolor": "white",
          "plot_bgcolor": "#E5ECF6",
          "polar": {
           "angularaxis": {
            "gridcolor": "white",
            "linecolor": "white",
            "ticks": ""
           },
           "bgcolor": "#E5ECF6",
           "radialaxis": {
            "gridcolor": "white",
            "linecolor": "white",
            "ticks": ""
           }
          },
          "scene": {
           "xaxis": {
            "backgroundcolor": "#E5ECF6",
            "gridcolor": "white",
            "gridwidth": 2,
            "linecolor": "white",
            "showbackground": true,
            "ticks": "",
            "zerolinecolor": "white"
           },
           "yaxis": {
            "backgroundcolor": "#E5ECF6",
            "gridcolor": "white",
            "gridwidth": 2,
            "linecolor": "white",
            "showbackground": true,
            "ticks": "",
            "zerolinecolor": "white"
           },
           "zaxis": {
            "backgroundcolor": "#E5ECF6",
            "gridcolor": "white",
            "gridwidth": 2,
            "linecolor": "white",
            "showbackground": true,
            "ticks": "",
            "zerolinecolor": "white"
           }
          },
          "shapedefaults": {
           "line": {
            "color": "#2a3f5f"
           }
          },
          "ternary": {
           "aaxis": {
            "gridcolor": "white",
            "linecolor": "white",
            "ticks": ""
           },
           "baxis": {
            "gridcolor": "white",
            "linecolor": "white",
            "ticks": ""
           },
           "bgcolor": "#E5ECF6",
           "caxis": {
            "gridcolor": "white",
            "linecolor": "white",
            "ticks": ""
           }
          },
          "title": {
           "x": 0.05
          },
          "xaxis": {
           "automargin": true,
           "gridcolor": "white",
           "linecolor": "white",
           "ticks": "",
           "title": {
            "standoff": 15
           },
           "zerolinecolor": "white",
           "zerolinewidth": 2
          },
          "yaxis": {
           "automargin": true,
           "gridcolor": "white",
           "linecolor": "white",
           "ticks": "",
           "title": {
            "standoff": 15
           },
           "zerolinecolor": "white",
           "zerolinewidth": 2
          }
         }
        },
        "xaxis": {
         "anchor": "y",
         "domain": [
          0,
          1
         ],
         "nticks": 9,
         "title": {
          "text": "World Rank"
         }
        },
        "yaxis": {
         "anchor": "x",
         "domain": [
          0,
          1
         ],
         "title": {
          "text": "Score"
         }
        }
       }
      }
     },
     "metadata": {},
     "output_type": "display_data"
    }
   ],
   "source": [
    "px.scatter(df,'World Rank','Score').update_xaxes(nticks=9)\n"
   ]
  },
  {
   "cell_type": "markdown",
   "id": "d176d6bf",
   "metadata": {},
   "source": [
    "Strong Reverse correlation between World Rank and Score of the universities "
   ]
  },
  {
   "cell_type": "code",
   "execution_count": 12,
   "id": "90ffaf39",
   "metadata": {},
   "outputs": [
    {
     "data": {
      "text/plain": [
       "array([[ 1.        , -0.35206195],\n",
       "       [-0.35206195,  1.        ]])"
      ]
     },
     "execution_count": 12,
     "metadata": {},
     "output_type": "execute_result"
    }
   ],
   "source": [
    "from numpy import corrcoef\n",
    "df1=df.copy()\n",
    "indexAge = df1[ (df1['Quality of Education Rank'] == '-') ].index\n",
    "df1.drop(indexAge , inplace=True)\n",
    "corrcoef(df1['Score'],df1['Quality of Education Rank'].astype(int))\n",
    "\n"
   ]
  },
  {
   "cell_type": "markdown",
   "id": "70d99cd6",
   "metadata": {},
   "source": [
    "Low Reverse correlation "
   ]
  },
  {
   "cell_type": "code",
   "execution_count": 13,
   "id": "9d5d1dc8",
   "metadata": {},
   "outputs": [
    {
     "data": {
      "text/plain": [
       "array([[ 1.        , -0.41278661],\n",
       "       [-0.41278661,  1.        ]])"
      ]
     },
     "execution_count": 13,
     "metadata": {},
     "output_type": "execute_result"
    }
   ],
   "source": [
    "df1=df.copy()\n",
    "indexAge = df1[ (df1['Alumni Employment Rank'] == '-') ].index\n",
    "df1.drop(indexAge , inplace=True)\n",
    "corrcoef(df1['Score'],df1['Alumni Employment Rank'].astype(int))\n"
   ]
  },
  {
   "cell_type": "code",
   "execution_count": 14,
   "id": "ffbe6781",
   "metadata": {},
   "outputs": [
    {
     "data": {
      "text/plain": [
       "array([[ 1.        , -0.41278661],\n",
       "       [-0.41278661,  1.        ]])"
      ]
     },
     "execution_count": 14,
     "metadata": {},
     "output_type": "execute_result"
    }
   ],
   "source": [
    "df1=df.copy()\n",
    "indexAge = df1[ (df1['Alumni Employment Rank'] == '-') ].index\n",
    "df1.drop(indexAge , inplace=True)\n",
    "corrcoef(df1['Score'],df1['Alumni Employment Rank'].astype(int))"
   ]
  },
  {
   "cell_type": "code",
   "execution_count": 15,
   "id": "1de46112",
   "metadata": {},
   "outputs": [
    {
     "data": {
      "text/plain": [
       "array([[ 1.        , -0.90167376],\n",
       "       [-0.90167376,  1.        ]])"
      ]
     },
     "execution_count": 15,
     "metadata": {},
     "output_type": "execute_result"
    }
   ],
   "source": [
    "df1=df.copy()\n",
    "indexAge = df1[ (df1['Research Performance Rank'] == '-') ].index\n",
    "df1.drop(indexAge , inplace=True)\n",
    "corrcoef(df1['Research Performance Rank'].astype(int),df1['Score'])\n"
   ]
  },
  {
   "cell_type": "code",
   "execution_count": 16,
   "metadata": {},
   "outputs": [
    {
     "data": {
      "application/vnd.plotly.v1+json": {
       "config": {
        "plotlyServerURL": "https://plot.ly"
       },
       "data": [
        {
         "hovertemplate": "Research Performance Rank=%{x}<br>Score=%{y}<extra></extra>",
         "legendgroup": "",
         "marker": {
          "color": "#636efa",
          "symbol": "circle"
         },
         "mode": "markers",
         "name": "",
         "showlegend": false,
         "type": "scattergl",
         "x": [
          "1",
          "8",
          "2",
          "10",
          "4",
          "70",
          "15",
          "22",
          "12",
          "20",
          "75",
          "13",
          "27",
          "24",
          "5",
          "6",
          "30",
          "14",
          "7",
          "23",
          "126",
          "62",
          "9",
          "3",
          "32",
          "48",
          "44",
          "64",
          "39",
          "17",
          "58",
          "11",
          "56",
          "19",
          "60",
          "16",
          "26",
          "25",
          "35",
          "273",
          "316",
          "18",
          "55",
          "51",
          "50",
          "28",
          "47",
          "31",
          "416",
          "87",
          "71",
          "46",
          "67",
          "53",
          "77",
          "37",
          "52",
          "29",
          "33",
          "72",
          "104",
          "158",
          "36",
          "183",
          "74",
          "132",
          "267",
          "93",
          "129",
          "57",
          "40",
          "34",
          "21",
          "91",
          "61",
          "111",
          "92",
          "125",
          "107",
          "84",
          "83",
          "103",
          "159",
          "42",
          "204",
          "59",
          "99",
          "101",
          "41",
          "120",
          "98",
          "150",
          "106",
          "69",
          "134",
          "81",
          "385",
          "38",
          "119",
          "155",
          "137",
          "45",
          "80",
          "117",
          "85",
          "94",
          "86",
          "149",
          "54",
          "43",
          "118",
          "109",
          "100",
          "73",
          "78",
          "49",
          "114",
          "88",
          "1627",
          "102",
          "82",
          "153",
          "142",
          "66",
          "140",
          "122",
          "123",
          "63",
          "154",
          "186",
          "65",
          "143",
          "192",
          "239",
          "138",
          "68",
          "145",
          "89",
          "79",
          "229",
          "90",
          "76",
          "128",
          "178",
          "136",
          "105",
          "238",
          "218",
          "156",
          "139",
          "260",
          "121",
          "97",
          "167",
          "95",
          "131",
          "96",
          "214",
          "181",
          "115",
          "249",
          "108",
          "168",
          "133",
          "110",
          "116",
          "197",
          "112",
          "147",
          "284",
          "135",
          "113",
          "176",
          "171",
          "127",
          "124",
          "185",
          "160",
          "161",
          "141",
          "274",
          "200",
          "193",
          "233",
          "130",
          "144",
          "462",
          "207",
          "146",
          "189",
          "148",
          "180",
          "216",
          "236",
          "187",
          "220",
          "196",
          "607",
          "205",
          "169",
          "151",
          "194",
          "221",
          "174",
          "157",
          "242",
          "201",
          "253",
          "152",
          "172",
          "302",
          "164",
          "163",
          "166",
          "241",
          "295",
          "286",
          "244",
          "256",
          "162",
          "248",
          "206",
          "228",
          "165",
          "188",
          "170",
          "332",
          "262",
          "175",
          "209",
          "237",
          "173",
          "191",
          "519",
          "198",
          "290",
          "182",
          "177",
          "179",
          "352",
          "223",
          "184",
          "268",
          "288",
          "401",
          "280",
          "195",
          "240",
          "190",
          "199",
          "208",
          "296",
          "254",
          "234",
          "340",
          "202",
          "215",
          "203",
          "291",
          "219",
          "212",
          "217",
          "213",
          "210",
          "235",
          "211",
          "252",
          "276",
          "231",
          "343",
          "243",
          "294",
          "227",
          "224",
          "222",
          "225",
          "283",
          "312",
          "259",
          "226",
          "365",
          "265",
          "306",
          "230",
          "270",
          "232",
          "258",
          "247",
          "363",
          "329",
          "245",
          "255",
          "246",
          "250",
          "251",
          "266",
          "333",
          "292",
          "264",
          "271",
          "272",
          "338",
          "257",
          "281",
          "320",
          "289",
          "261",
          "263",
          "275",
          "269",
          "656",
          "334",
          "301",
          "278",
          "277",
          "279",
          "326",
          "282",
          "299",
          "298",
          "297",
          "285",
          "287",
          "293",
          "447",
          "373",
          "318",
          "369",
          "305",
          "346",
          "308",
          "341",
          "300",
          "319",
          "303",
          "304",
          "415",
          "366",
          "309",
          "307",
          "314",
          "313",
          "310",
          "311",
          "972",
          "792",
          "315",
          "325",
          "317",
          "321",
          "378",
          "324",
          "322",
          "323",
          "400",
          "336",
          "327",
          "330",
          "328",
          "423",
          "503",
          "331",
          "335",
          "337",
          "339",
          "358",
          "356",
          "342",
          "344",
          "345",
          "387",
          "347",
          "393",
          "388",
          "348",
          "359",
          "349",
          "355",
          "350",
          "368",
          "351",
          "364",
          "353",
          "354",
          "360",
          "357",
          "362",
          "376",
          "361",
          "367",
          "370",
          "374",
          "382",
          "371",
          "379",
          "397",
          "372",
          "375",
          "454",
          "381",
          "377",
          "389",
          "383",
          "380",
          "384",
          "426",
          "386",
          "392",
          "399",
          "390",
          "391",
          "404",
          "396",
          "402",
          "394",
          "395",
          "407",
          "398",
          "403",
          "405",
          "427",
          "406",
          "417",
          "408",
          "474",
          "1795",
          "410",
          "409",
          "455",
          "414",
          "412",
          "418",
          "411",
          "430",
          "444",
          "413",
          "527",
          "424",
          "419",
          "429",
          "420",
          "577",
          "434",
          "421",
          "422",
          "425",
          "428",
          "458",
          "460",
          "432",
          "431",
          "443",
          "436",
          "433",
          "478",
          "509",
          "435",
          "448",
          "442",
          "437",
          "440",
          "438",
          "439",
          "441",
          "445",
          "449",
          "500",
          "446",
          "463",
          "581",
          "453",
          "450",
          "452",
          "451",
          "479",
          "456",
          "480",
          "573",
          "470",
          "457",
          "903",
          "459",
          "461",
          "465",
          "464",
          "468",
          "494",
          "466",
          "487",
          "467",
          "469",
          "763",
          "475",
          "472",
          "471",
          "473",
          "483",
          "476",
          "477",
          "559",
          "481",
          "482",
          "501",
          "707",
          "484",
          "485",
          "486",
          "555",
          "553",
          "490",
          "488",
          "489",
          "491",
          "492",
          "493",
          "508",
          "496",
          "495",
          "731",
          "506",
          "497",
          "498",
          "502",
          "499",
          "504",
          "505",
          "507",
          "510",
          "601",
          "544",
          "513",
          "538",
          "603",
          "566",
          "511",
          "512",
          "514",
          "516",
          "515",
          "523",
          "517",
          "518",
          "526",
          "520",
          "533",
          "521",
          "522",
          "525",
          "600",
          "524",
          "536",
          "547",
          "528",
          "529",
          "690",
          "530",
          "531",
          "532",
          "551",
          "539",
          "537",
          "534",
          "604",
          "535",
          "571",
          "815",
          "540",
          "541",
          "542",
          "552",
          "543",
          "548",
          "593",
          "545",
          "572",
          "576",
          "546",
          "580",
          "549",
          "1043",
          "724",
          "550",
          "563",
          "1926",
          "554",
          "558",
          "556",
          "560",
          "569",
          "557",
          "564",
          "561",
          "562",
          "565",
          "567",
          "568",
          "570",
          "574",
          "575",
          "578",
          "579",
          "1549",
          "582",
          "584",
          "585",
          "583",
          "594",
          "586",
          "588",
          "587",
          "608",
          "590",
          "589",
          "591",
          "694",
          "626",
          "592",
          "595",
          "597",
          "596",
          "599",
          "861",
          "598",
          "602",
          "629",
          "605",
          "606",
          "613",
          "611",
          "614",
          "609",
          "620",
          "628",
          "610",
          "612",
          "779",
          "615",
          "618",
          "617",
          "616",
          "619",
          "635",
          "623",
          "867",
          "622",
          "621",
          "639",
          "624",
          "625",
          "648",
          "632",
          "627",
          "661",
          "634",
          "630",
          "631",
          "636",
          "633",
          "647",
          "646",
          "637",
          "638",
          "643",
          "642",
          "640",
          "641",
          "644",
          "768",
          "686",
          "881",
          "645",
          "650",
          "649",
          "651",
          "652",
          "657",
          "653",
          "655",
          "654",
          "722",
          "663",
          "662",
          "658",
          "659",
          "660",
          "708",
          "664",
          "670",
          "676",
          "665",
          "669",
          "666",
          "674",
          "667",
          "812",
          "668",
          "715",
          "684",
          "677",
          "675",
          "671",
          "672",
          "699",
          "673",
          "689",
          "878",
          "678",
          "679",
          "680",
          "681",
          "682",
          "687",
          "683",
          "782",
          "685",
          "769",
          "688",
          "822",
          "776",
          "691",
          "692",
          "693",
          "703",
          "695",
          "712",
          "701",
          "696",
          "697",
          "700",
          "698",
          "930",
          "702",
          "737",
          "704",
          "705",
          "964",
          "706",
          "733",
          "709",
          "710",
          "711",
          "713",
          "714",
          "726",
          "716",
          "717",
          "718",
          "719",
          "720",
          "721",
          "723",
          "750",
          "725",
          "975",
          "727",
          "732",
          "729",
          "728",
          "730",
          "740",
          "772",
          "734",
          "739",
          "735",
          "736",
          "738",
          "741",
          "742",
          "743",
          "744",
          "745",
          "746",
          "752",
          "1891",
          "747",
          "748",
          "749",
          "751",
          "753",
          "754",
          "755",
          "756",
          "770",
          "757",
          "758",
          "759",
          "760",
          "761",
          "765",
          "762",
          "764",
          "766",
          "767",
          "771",
          "825",
          "773",
          "774",
          "775",
          "791",
          "777",
          "778",
          "884",
          "780",
          "781",
          "808",
          "783",
          "1185",
          "784",
          "970",
          "1241",
          "785",
          "786",
          "787",
          "788",
          "789",
          "790",
          "839",
          "794",
          "1126",
          "793",
          "800",
          "795",
          "865",
          "796",
          "797",
          "946",
          "798",
          "799",
          "805",
          "802",
          "801",
          "1519",
          "803",
          "911",
          "804",
          "806",
          "807",
          "809",
          "810",
          "870",
          "811",
          "836",
          "840",
          "813",
          "814",
          "886",
          "817",
          "816",
          "819",
          "818",
          "849",
          "826",
          "827",
          "820",
          "821",
          "823",
          "824",
          "832",
          "828",
          "829",
          "852",
          "830",
          "831",
          "845",
          "833",
          "834",
          "835",
          "841",
          "838",
          "837",
          "888",
          "871",
          "842",
          "843",
          "844",
          "846",
          "850",
          "858",
          "848",
          "863",
          "847",
          "1325",
          "859",
          "851",
          "853",
          "854",
          "855",
          "856",
          "864",
          "857",
          "872",
          "860",
          "862",
          "1629",
          "866",
          "868",
          "869",
          "980",
          "938",
          "904",
          "877",
          "873",
          "874",
          "875",
          "876",
          "882",
          "1866",
          "879",
          "880",
          "887",
          "883",
          "885",
          "889",
          "902",
          "890",
          "891",
          "1811",
          "892",
          "893",
          "894",
          "901",
          "895",
          "896",
          "897",
          "898",
          "899",
          "900",
          "1985",
          "914",
          "912",
          "905",
          "906",
          "907",
          "908",
          "910",
          "909",
          "913",
          "933",
          "915",
          "918",
          "916",
          "917",
          "929",
          "919",
          "948",
          "923",
          "920",
          "921",
          "922",
          "924",
          "925",
          "926",
          "927",
          "928",
          "932",
          "931",
          "939",
          "943",
          "937",
          "992",
          "940",
          "934",
          "935",
          "936",
          "941",
          "942",
          "944",
          "945",
          "947",
          "961",
          "951",
          "949",
          "950",
          "952",
          "953",
          "954",
          "955",
          "957",
          "999",
          "956",
          "958",
          "960",
          "959",
          "1011",
          "962",
          "963",
          "976",
          "966",
          "969",
          "965",
          "967",
          "968",
          "971",
          "991",
          "973",
          "974",
          "977",
          "978",
          "1679",
          "979",
          "984",
          "983",
          "981",
          "982",
          "986",
          "985",
          "1631",
          "987",
          "988",
          "989",
          "1285",
          "990",
          "993",
          "1004",
          "994",
          "995",
          "996",
          "997",
          "998",
          "1000",
          "1208",
          "1005",
          "1001",
          "1010",
          "1002",
          "1013",
          "1003",
          "1007",
          "1006",
          "1008",
          "1009",
          "1015",
          "1012",
          "1940",
          "1014",
          "1127",
          "1016",
          "1017",
          "1018",
          "1019",
          "1020",
          "1021",
          "1022",
          "1023",
          "1024",
          "1200",
          "1025",
          "1041",
          "1026",
          "1027",
          "1028",
          "1029",
          "1030",
          "1031",
          "1032",
          "1033",
          "1034",
          "1035",
          "1036",
          "1038",
          "1037",
          "1039",
          "1051",
          "1040",
          "1042",
          "1044",
          "1045",
          "1047",
          "1046",
          "1048",
          "1049",
          "1050",
          "1183",
          "1052",
          "1053",
          "1194",
          "1054",
          "1055",
          "1056",
          "1057",
          "1058",
          "1059",
          "1060",
          "1061",
          "1062",
          "1063",
          "1068",
          "1361",
          "1079",
          "1064",
          "1072",
          "1065",
          "1066",
          "1067",
          "1069",
          "1071",
          "1070",
          "1085",
          "1139",
          "1073",
          "1074",
          "1075",
          "1076",
          "1077",
          "1078",
          "1082",
          "1410",
          "1080",
          "1084",
          "1081",
          "1083",
          "1147",
          "1086",
          "1087",
          "1088",
          "1089",
          "1090",
          "1091",
          "1092",
          "1093",
          "1094",
          "1140",
          "1095",
          "1105",
          "1096",
          "1097",
          "1098",
          "1099",
          "1295",
          "1216",
          "1100",
          "1101",
          "1102",
          "1103",
          "1104",
          "1106",
          "1107",
          "1110",
          "1108",
          "1154",
          "1109",
          "1111",
          "1555",
          "1177",
          "1112",
          "1113",
          "1114",
          "1115",
          "1116",
          "1117",
          "1118",
          "1490",
          "1182",
          "1119",
          "1120",
          "1151",
          "1121",
          "1122",
          "1123",
          "1142",
          "1124",
          "1125",
          "1365",
          "1128",
          "1129",
          "1130",
          "1132",
          "1421",
          "1131",
          "1133",
          "1134",
          "1135",
          "1136",
          "1137",
          "1138",
          "1168",
          "1149",
          "1145",
          "1141",
          "1143",
          "1144",
          "1258",
          "1146",
          "1303",
          "1281",
          "1148",
          "1150",
          "1152",
          "1155",
          "1153",
          "1158",
          "1242",
          "1156",
          "1157",
          "1166",
          "1160",
          "1165",
          "1159",
          "1161",
          "1162",
          "1163",
          "1164",
          "1169",
          "1167",
          "1171",
          "1170",
          "1172",
          "1173",
          "1174",
          "1175",
          "1176",
          "1178",
          "1179",
          "1180",
          "1181",
          "1186",
          "1230",
          "1199",
          "1184",
          "1187",
          "1862",
          "1226",
          "1188",
          "1189",
          "1190",
          "1193",
          "1191",
          "1192",
          "1198",
          "1195",
          "1196",
          "1197",
          "1201",
          "1202",
          "1203",
          "1207",
          "1204",
          "1205",
          "1206",
          "1489",
          "1223",
          "1249",
          "1209",
          "1210",
          "1211",
          "1212",
          "1213",
          "1214",
          "1229",
          "1215",
          "1217",
          "1218",
          "1219",
          "1220",
          "1221",
          "1222",
          "1224",
          "1228",
          "1225",
          "1227",
          "1231",
          "1233",
          "1310",
          "1232",
          "1234",
          "1235",
          "1254",
          "1236",
          "1243",
          "1238",
          "1237",
          "1239",
          "1240",
          "1245",
          "1244",
          "1246",
          "1247",
          "1248",
          "1250",
          "1251",
          "1269",
          "1252",
          "1253",
          "1255",
          "1256",
          "1257",
          "1259",
          "1260",
          "1261",
          "1263",
          "1262",
          "1274",
          "1265",
          "1264",
          "1266",
          "1267",
          "1268",
          "1270",
          "1271",
          "1275",
          "1272",
          "1276",
          "1273",
          "1695",
          "1277",
          "1283",
          "1278",
          "1279",
          "1280",
          "1282",
          "1284",
          "1286",
          "1287",
          "1288",
          "1289",
          "1290",
          "1291",
          "1766",
          "1292",
          "1293",
          "1294",
          "1296",
          "1297",
          "1298",
          "1299",
          "1300",
          "1301",
          "1302",
          "1304",
          "1346",
          "1305",
          "1306",
          "1349",
          "1307",
          "1308",
          "1309",
          "1921",
          "1311",
          "1312",
          "1313",
          "1314",
          "1315",
          "1317",
          "1316",
          "1318",
          "1320",
          "1322",
          "1319",
          "1321",
          "1457",
          "1323",
          "1326",
          "1324",
          "1329",
          "1367",
          "1596",
          "1327",
          "1331",
          "1328",
          "1868",
          "1330",
          "1354",
          "1337",
          "1333",
          "1332",
          "1334",
          "1335",
          "1336",
          "1338",
          "1339",
          "1340",
          "1341",
          "1342",
          "1343",
          "1344",
          "1353",
          "1345",
          "1347",
          "1392",
          "1348",
          "1350",
          "1351",
          "1750",
          "1370",
          "1360",
          "1376",
          "1374",
          "1352",
          "1355",
          "1356",
          "1357",
          "1358",
          "1359",
          "1515",
          "1362",
          "1373",
          "1363",
          "1364",
          "1591",
          "1366",
          "1368",
          "1369",
          "1387",
          "1371",
          "1372",
          "1375",
          "1378",
          "1377",
          "1379",
          "1380",
          "1383",
          "1381",
          "1382",
          "1384",
          "1385",
          "1386",
          "1388",
          "1395",
          "1389",
          "1953",
          "1390",
          "1391",
          "1393",
          "1394",
          "1396",
          "1397",
          "1398",
          "1399",
          "1400",
          "1401",
          "1408",
          "1402",
          "1403",
          "1404",
          "1471",
          "1414",
          "1405",
          "1406",
          "1470",
          "1407",
          "1417",
          "1409",
          "1411",
          "1412",
          "1413",
          "1415",
          "1416",
          "1440",
          "1418",
          "1419",
          "1420",
          "1425",
          "1422",
          "1423",
          "1424",
          "1426",
          "1427",
          "1677",
          "1428",
          "1430",
          "1432",
          "1429",
          "1431",
          "1433",
          "1434",
          "1435",
          "1436",
          "1437",
          "1438",
          "1439",
          "1486",
          "1441",
          "1446",
          "1442",
          "1443",
          "1463",
          "1444",
          "1445",
          "1447",
          "1448",
          "1889",
          "1449",
          "1450",
          "1478",
          "1451",
          "1452",
          "1453",
          "1454",
          "1455",
          "1456",
          "1458",
          "1459",
          "1461",
          "1460",
          "1544",
          "1462",
          "1464",
          "1466",
          "1465",
          "1468",
          "1467",
          "1469",
          "1955",
          "1485",
          "1477",
          "1472",
          "1474",
          "1473",
          "1475",
          "1949",
          "1476",
          "1595",
          "1532",
          "1479",
          "1480",
          "1481",
          "1482",
          "1483",
          "1484",
          "1550",
          "1487",
          "1570",
          "1488",
          "1503",
          "1561",
          "1496",
          "1491",
          "1492",
          "1493",
          "1494",
          "1495",
          "1497",
          "1501",
          "1498",
          "1499",
          "1500",
          "1502",
          "1504",
          "1505",
          "1506",
          "1507",
          "1508",
          "1509",
          "1510",
          "1511",
          "1551",
          "1518",
          "1512",
          "1513",
          "1514",
          "1516",
          "1517",
          "1520",
          "1521",
          "1523",
          "1522",
          "1524",
          "1525",
          "1526",
          "1527",
          "1769",
          "1528",
          "1529",
          "1530",
          "1531",
          "1533",
          "1534",
          "1535",
          "1536",
          "1537",
          "1538",
          "1539",
          "1540",
          "1541",
          "1670",
          "1542",
          "1543",
          "1625",
          "1576",
          "1545",
          "1546",
          "1547",
          "1548",
          "1552",
          "1553",
          "1694",
          "1554",
          "1563",
          "1558",
          "1573",
          "1556",
          "1559",
          "1557",
          "1560",
          "1562",
          "1572",
          "1590",
          "1624",
          "1564",
          "1565",
          "1566",
          "1567",
          "1568",
          "1577",
          "1569",
          "1571",
          "1574",
          "1575",
          "1578",
          "1579",
          "1580",
          "1581",
          "1652",
          "1582",
          "1583",
          "1584",
          "1585",
          "1588",
          "1586",
          "1587",
          "1589",
          "1623",
          "1592",
          "1593",
          "1594",
          "1603",
          "1597",
          "1598",
          "1599",
          "1608",
          "1600",
          "1643",
          "1601",
          "1602",
          "1604",
          "1605",
          "1606",
          "1607",
          "1609",
          "1610",
          "1611",
          "1960",
          "1612",
          "1613",
          "1662",
          "1614",
          "1745",
          "1615",
          "1616",
          "1638",
          "1617",
          "1622",
          "1618",
          "1619",
          "1879",
          "1620",
          "1621",
          "1626",
          "1628",
          "1630",
          "1990",
          "1632",
          "1642",
          "1633",
          "1634",
          "1639",
          "1635",
          "1636",
          "1637",
          "1645",
          "1640",
          "1641",
          "1644",
          "1646",
          "1647",
          "1648",
          "1649",
          "1650",
          "1657",
          "1651",
          "1702",
          "1661",
          "1653",
          "1654",
          "1655",
          "1656",
          "1658",
          "1676",
          "1659",
          "1660",
          "1663",
          "1664",
          "1665",
          "1666",
          "1667",
          "1668",
          "1669",
          "1678",
          "1671",
          "1672",
          "1673",
          "1674",
          "1675",
          "1832",
          "1680",
          "1681",
          "1682",
          "1683",
          "1684",
          "1685",
          "1686",
          "1687",
          "1688",
          "1689",
          "1690",
          "1691",
          "1692",
          "1693",
          "1696",
          "1697",
          "1698",
          "1699",
          "1700",
          "1738",
          "1701",
          "1725",
          "1703",
          "1704",
          "1706",
          "1705",
          "1707",
          "1708",
          "1709",
          "1710",
          "1711",
          "1712",
          "1713",
          "1746",
          "1714",
          "1715",
          "1716",
          "1717",
          "1718",
          "1768",
          "1719",
          "1720",
          "1722",
          "1721",
          "1723",
          "1724",
          "1726",
          "1727",
          "1728",
          "1729",
          "1730",
          "1731",
          "1734",
          "1732",
          "1733",
          "1735",
          "1736",
          "1737",
          "1739",
          "1740",
          "1741",
          "1742",
          "1743",
          "1744",
          "1747",
          "1748",
          "1749",
          "1751",
          "1752",
          "1753",
          "1754",
          "1755",
          "1756",
          "1757",
          "1833",
          "1758",
          "1759",
          "1760",
          "1761",
          "1762",
          "1763",
          "1764",
          "1765",
          "1767",
          "1770",
          "1771",
          "1772",
          "1773",
          "1774",
          "1775",
          "1776",
          "1777",
          "1778",
          "1779",
          "1780",
          "1781",
          "1782",
          "1783",
          "1784",
          "1857",
          "1785",
          "1786",
          "1787",
          "1788",
          "1789",
          "1790",
          "1812",
          "1791",
          "1792",
          "1793",
          "1794",
          "1796",
          "1797",
          "1798",
          "1799",
          "1800",
          "1801",
          "1802",
          "1803",
          "1804",
          "1805",
          "1850",
          "1806",
          "1807",
          "1808",
          "1814",
          "1809",
          "1820",
          "1810",
          "1813",
          "1815",
          "1816",
          "1817",
          "1818",
          "1819",
          "1821",
          "1822",
          "1847",
          "1823",
          "1824",
          "1825",
          "1826",
          "1827",
          "1828",
          "1829",
          "1830",
          "1831",
          "1834",
          "1835",
          "1836",
          "1837",
          "1838",
          "1907",
          "1863",
          "1839",
          "1840",
          "1841",
          "1843",
          "1842",
          "1844",
          "1845",
          "1846",
          "1848",
          "1886",
          "1849",
          "1851",
          "1852",
          "1853",
          "1854",
          "1906",
          "1855",
          "1856",
          "1858",
          "1859",
          "1860",
          "1861",
          "1964",
          "1864",
          "1865",
          "1867",
          "1869",
          "1870",
          "1871",
          "1872",
          "1873",
          "1874",
          "1875",
          "1927",
          "1876",
          "1877",
          "1878",
          "1880",
          "1881",
          "1882",
          "1883",
          "1884",
          "1885",
          "1887",
          "1888",
          "1890",
          "1892",
          "1893",
          "1894",
          "1895",
          "1896",
          "1897",
          "1898",
          "1899",
          "1900",
          "1901",
          "1957",
          "1902",
          "1903",
          "1904",
          "1909",
          "1905",
          "1908",
          "1910",
          "1911",
          "1912",
          "1913",
          "1914",
          "1915",
          "1916",
          "1917",
          "1918",
          "1919",
          "1938",
          "1920",
          "1937",
          "1992",
          "1922"
         ],
         "xaxis": "x",
         "y": [
          100,
          96.7,
          95.1,
          94.1,
          93.3,
          92.6,
          92,
          91.5,
          91.1,
          90.7,
          90.4,
          90.1,
          89.8,
          89.5,
          89.2,
          89,
          88.8,
          88.6,
          88.4,
          88.2,
          88,
          87.8,
          87.6,
          87.5,
          87.3,
          87.2,
          87,
          86.9,
          86.8,
          86.6,
          86.5,
          86.4,
          86.3,
          86.1,
          86,
          85.9,
          85.8,
          85.7,
          85.6,
          85.5,
          85.4,
          85.3,
          85.2,
          85.1,
          85,
          85,
          84.9,
          84.8,
          84.7,
          84.6,
          84.5,
          84.5,
          84.4,
          84.3,
          84.2,
          84.2,
          84.1,
          84,
          84,
          83.9,
          83.8,
          83.8,
          83.7,
          83.6,
          83.6,
          83.5,
          83.4,
          83.4,
          83.3,
          83.3,
          83.2,
          83.1,
          83.1,
          83,
          83,
          82.9,
          82.9,
          82.8,
          82.8,
          82.7,
          82.6,
          82.6,
          82.5,
          82.5,
          82.4,
          82.4,
          82.3,
          82.3,
          82.2,
          82.2,
          82.2,
          82.1,
          82.1,
          82,
          82,
          81.9,
          81.9,
          81.8,
          81.8,
          81.8,
          81.7,
          81.7,
          81.6,
          81.6,
          81.5,
          81.5,
          81.5,
          81.4,
          81.4,
          81.3,
          81.3,
          81.3,
          81.2,
          81.2,
          81.1,
          81.1,
          81.1,
          81,
          81,
          81,
          80.9,
          80.9,
          80.9,
          80.8,
          80.8,
          80.7,
          80.7,
          80.7,
          80.6,
          80.6,
          80.6,
          80.5,
          80.5,
          80.5,
          80.4,
          80.4,
          80.4,
          80.3,
          80.3,
          80.3,
          80.3,
          80.2,
          80.2,
          80.2,
          80.1,
          80.1,
          80.1,
          80,
          80,
          80,
          79.9,
          79.9,
          79.9,
          79.9,
          79.8,
          79.8,
          79.8,
          79.7,
          79.7,
          79.7,
          79.7,
          79.6,
          79.6,
          79.6,
          79.5,
          79.5,
          79.5,
          79.5,
          79.4,
          79.4,
          79.4,
          79.4,
          79.3,
          79.3,
          79.2,
          79.2,
          79.2,
          79.2,
          79.1,
          79.1,
          79.1,
          79.1,
          79,
          79,
          79,
          79,
          78.9,
          78.9,
          78.9,
          78.9,
          78.8,
          78.8,
          78.8,
          78.8,
          78.8,
          78.7,
          78.7,
          78.7,
          78.7,
          78.6,
          78.6,
          78.6,
          78.6,
          78.5,
          78.5,
          78.5,
          78.5,
          78.5,
          78.4,
          78.4,
          78.4,
          78.4,
          78.3,
          78.3,
          78.3,
          78.3,
          78.3,
          78.2,
          78.2,
          78.2,
          78.2,
          78.2,
          78.1,
          78.1,
          78.1,
          78.1,
          78,
          78,
          78,
          78,
          78,
          77.9,
          77.9,
          77.9,
          77.9,
          77.9,
          77.8,
          77.8,
          77.8,
          77.8,
          77.8,
          77.7,
          77.7,
          77.7,
          77.7,
          77.7,
          77.6,
          77.6,
          77.6,
          77.6,
          77.6,
          77.5,
          77.5,
          77.5,
          77.5,
          77.5,
          77.4,
          77.4,
          77.4,
          77.4,
          77.4,
          77.3,
          77.3,
          77.3,
          77.3,
          77.3,
          77.3,
          77.2,
          77.2,
          77.2,
          77.2,
          77.2,
          77.2,
          77.1,
          77.1,
          77.1,
          77.1,
          77.1,
          77,
          77,
          77,
          77,
          77,
          77,
          76.9,
          76.9,
          76.9,
          76.9,
          76.9,
          76.9,
          76.8,
          76.8,
          76.8,
          76.8,
          76.8,
          76.8,
          76.7,
          76.7,
          76.7,
          76.7,
          76.7,
          76.7,
          76.6,
          76.6,
          76.6,
          76.6,
          76.6,
          76.5,
          76.5,
          76.5,
          76.5,
          76.5,
          76.5,
          76.5,
          76.4,
          76.4,
          76.4,
          76.4,
          76.4,
          76.4,
          76.3,
          76.3,
          76.3,
          76.3,
          76.3,
          76.3,
          76.3,
          76.2,
          76.2,
          76.2,
          76.2,
          76.2,
          76.2,
          76.2,
          76.1,
          76.1,
          76.1,
          76.1,
          76.1,
          76,
          76,
          76,
          76,
          76,
          76,
          76,
          75.9,
          75.9,
          75.9,
          75.9,
          75.9,
          75.9,
          75.9,
          75.8,
          75.8,
          75.8,
          75.8,
          75.8,
          75.8,
          75.8,
          75.8,
          75.7,
          75.7,
          75.7,
          75.7,
          75.7,
          75.7,
          75.7,
          75.6,
          75.6,
          75.6,
          75.6,
          75.6,
          75.6,
          75.6,
          75.5,
          75.5,
          75.5,
          75.5,
          75.5,
          75.5,
          75.5,
          75.5,
          75.4,
          75.4,
          75.4,
          75.4,
          75.4,
          75.4,
          75.4,
          75.4,
          75.3,
          75.3,
          75.3,
          75.3,
          75.3,
          75.3,
          75.3,
          75.2,
          75.2,
          75.2,
          75.2,
          75.2,
          75.2,
          75.2,
          75.2,
          75.1,
          75.1,
          75.1,
          75.1,
          75.1,
          75.1,
          75,
          75,
          75,
          75,
          75,
          75,
          75,
          75,
          75,
          74.9,
          74.9,
          74.9,
          74.9,
          74.9,
          74.9,
          74.9,
          74.9,
          74.8,
          74.8,
          74.8,
          74.8,
          74.8,
          74.8,
          74.8,
          74.8,
          74.7,
          74.7,
          74.7,
          74.7,
          74.7,
          74.7,
          74.7,
          74.7,
          74.7,
          74.6,
          74.6,
          74.6,
          74.6,
          74.6,
          74.6,
          74.6,
          74.6,
          74.6,
          74.5,
          74.5,
          74.5,
          74.5,
          74.5,
          74.5,
          74.5,
          74.5,
          74.5,
          74.4,
          74.4,
          74.4,
          74.4,
          74.4,
          74.4,
          74.4,
          74.4,
          74.4,
          74.3,
          74.3,
          74.3,
          74.3,
          74.3,
          74.3,
          74.3,
          74.3,
          74.3,
          74.2,
          74.2,
          74.2,
          74.2,
          74.2,
          74.2,
          74.2,
          74.2,
          74.2,
          74.1,
          74.1,
          74.1,
          74.1,
          74.1,
          74.1,
          74.1,
          74.1,
          74.1,
          74,
          74,
          74,
          74,
          74,
          74,
          74,
          74,
          74,
          74,
          73.9,
          73.9,
          73.9,
          73.9,
          73.9,
          73.9,
          73.9,
          73.9,
          73.9,
          73.8,
          73.8,
          73.8,
          73.8,
          73.8,
          73.8,
          73.8,
          73.8,
          73.8,
          73.8,
          73.7,
          73.7,
          73.7,
          73.7,
          73.7,
          73.7,
          73.7,
          73.7,
          73.7,
          73.6,
          73.6,
          73.6,
          73.6,
          73.6,
          73.6,
          73.6,
          73.6,
          73.6,
          73.6,
          73.6,
          73.5,
          73.5,
          73.5,
          73.5,
          73.5,
          73.5,
          73.5,
          73.5,
          73.5,
          73.5,
          73.4,
          73.4,
          73.4,
          73.4,
          73.4,
          73.4,
          73.4,
          73.4,
          73.4,
          73.4,
          73.4,
          73.3,
          73.3,
          73.3,
          73.3,
          73.3,
          73.3,
          73.3,
          73.3,
          73.3,
          73.3,
          73.2,
          73.2,
          73.2,
          73.2,
          73.2,
          73.2,
          73.2,
          73.2,
          73.2,
          73.2,
          73.2,
          73.1,
          73.1,
          73.1,
          73.1,
          73.1,
          73.1,
          73.1,
          73.1,
          73.1,
          73.1,
          73.1,
          73,
          73,
          73,
          73,
          73,
          73,
          73,
          73,
          73,
          73,
          73,
          73,
          72.9,
          72.9,
          72.9,
          72.9,
          72.9,
          72.9,
          72.9,
          72.9,
          72.9,
          72.9,
          72.9,
          72.8,
          72.8,
          72.8,
          72.8,
          72.8,
          72.8,
          72.8,
          72.8,
          72.8,
          72.8,
          72.8,
          72.7,
          72.7,
          72.7,
          72.7,
          72.7,
          72.7,
          72.7,
          72.7,
          72.7,
          72.7,
          72.7,
          72.6,
          72.6,
          72.6,
          72.6,
          72.6,
          72.6,
          72.6,
          72.6,
          72.6,
          72.6,
          72.6,
          72.5,
          72.5,
          72.5,
          72.5,
          72.5,
          72.5,
          72.5,
          72.5,
          72.5,
          72.5,
          72.5,
          72.5,
          72.5,
          72.4,
          72.4,
          72.4,
          72.4,
          72.4,
          72.4,
          72.4,
          72.4,
          72.4,
          72.4,
          72.4,
          72.4,
          72.3,
          72.3,
          72.3,
          72.3,
          72.3,
          72.3,
          72.3,
          72.3,
          72.3,
          72.3,
          72.3,
          72.3,
          72.2,
          72.2,
          72.2,
          72.2,
          72.2,
          72.2,
          72.2,
          72.2,
          72.2,
          72.2,
          72.2,
          72.2,
          72.2,
          72.1,
          72.1,
          72.1,
          72.1,
          72.1,
          72.1,
          72.1,
          72.1,
          72.1,
          72.1,
          72.1,
          72.1,
          72,
          72,
          72,
          72,
          72,
          72,
          72,
          72,
          72,
          72,
          72,
          72,
          71.9,
          71.9,
          71.9,
          71.9,
          71.9,
          71.9,
          71.9,
          71.9,
          71.9,
          71.9,
          71.9,
          71.9,
          71.9,
          71.8,
          71.8,
          71.8,
          71.8,
          71.8,
          71.8,
          71.8,
          71.8,
          71.8,
          71.8,
          71.8,
          71.8,
          71.8,
          71.7,
          71.7,
          71.7,
          71.7,
          71.7,
          71.7,
          71.7,
          71.7,
          71.7,
          71.7,
          71.7,
          71.7,
          71.7,
          71.6,
          71.6,
          71.6,
          71.6,
          71.6,
          71.6,
          71.6,
          71.6,
          71.6,
          71.6,
          71.6,
          71.6,
          71.6,
          71.6,
          71.5,
          71.5,
          71.5,
          71.5,
          71.5,
          71.5,
          71.5,
          71.5,
          71.5,
          71.5,
          71.5,
          71.5,
          71.5,
          71.5,
          71.4,
          71.4,
          71.4,
          71.4,
          71.4,
          71.4,
          71.4,
          71.4,
          71.4,
          71.4,
          71.4,
          71.4,
          71.4,
          71.4,
          71.3,
          71.3,
          71.3,
          71.3,
          71.3,
          71.3,
          71.3,
          71.3,
          71.3,
          71.3,
          71.3,
          71.3,
          71.3,
          71.3,
          71.2,
          71.2,
          71.2,
          71.2,
          71.2,
          71.2,
          71.2,
          71.2,
          71.2,
          71.2,
          71.2,
          71.2,
          71.2,
          71.2,
          71.1,
          71.1,
          71.1,
          71.1,
          71.1,
          71.1,
          71.1,
          71.1,
          71.1,
          71.1,
          71.1,
          71.1,
          71.1,
          71.1,
          71.1,
          71,
          71,
          71,
          71,
          71,
          71,
          71,
          71,
          71,
          71,
          71,
          71,
          71,
          71,
          70.9,
          70.9,
          70.9,
          70.9,
          70.9,
          70.9,
          70.9,
          70.9,
          70.9,
          70.9,
          70.9,
          70.9,
          70.9,
          70.9,
          70.9,
          70.8,
          70.8,
          70.8,
          70.8,
          70.8,
          70.8,
          70.8,
          70.8,
          70.8,
          70.8,
          70.8,
          70.8,
          70.8,
          70.8,
          70.8,
          70.7,
          70.7,
          70.7,
          70.7,
          70.7,
          70.7,
          70.7,
          70.7,
          70.7,
          70.7,
          70.7,
          70.7,
          70.7,
          70.6,
          70.6,
          70.6,
          70.6,
          70.6,
          70.6,
          70.6,
          70.6,
          70.6,
          70.6,
          70.6,
          70.6,
          70.6,
          70.6,
          70.6,
          70.5,
          70.5,
          70.5,
          70.5,
          70.5,
          70.5,
          70.5,
          70.5,
          70.5,
          70.5,
          70.5,
          70.5,
          70.5,
          70.5,
          70.5,
          70.4,
          70.4,
          70.4,
          70.4,
          70.4,
          70.4,
          70.4,
          70.4,
          70.4,
          70.4,
          70.4,
          70.4,
          70.4,
          70.4,
          70.4,
          70.4,
          70.4,
          70.3,
          70.3,
          70.3,
          70.3,
          70.3,
          70.3,
          70.3,
          70.3,
          70.3,
          70.3,
          70.3,
          70.3,
          70.3,
          70.3,
          70.3,
          70.2,
          70.2,
          70.2,
          70.2,
          70.2,
          70.2,
          70.2,
          70.2,
          70.2,
          70.2,
          70.2,
          70.2,
          70.2,
          70.2,
          70.2,
          70.2,
          70.2,
          70.1,
          70.1,
          70.1,
          70.1,
          70.1,
          70.1,
          70.1,
          70.1,
          70.1,
          70.1,
          70.1,
          70.1,
          70.1,
          70.1,
          70.1,
          70.1,
          70,
          70,
          70,
          70,
          70,
          70,
          70,
          70,
          70,
          70,
          70,
          70,
          70,
          70,
          70,
          70,
          70,
          69.9,
          69.9,
          69.9,
          69.9,
          69.9,
          69.9,
          69.9,
          69.9,
          69.9,
          69.9,
          69.9,
          69.9,
          69.9,
          69.9,
          69.9,
          69.9,
          69.9,
          69.9,
          69.8,
          69.8,
          69.8,
          69.8,
          69.8,
          69.8,
          69.8,
          69.8,
          69.8,
          69.8,
          69.8,
          69.8,
          69.8,
          69.8,
          69.8,
          69.8,
          69.7,
          69.7,
          69.7,
          69.7,
          69.7,
          69.7,
          69.7,
          69.7,
          69.7,
          69.7,
          69.7,
          69.7,
          69.7,
          69.7,
          69.7,
          69.7,
          69.7,
          69.6,
          69.6,
          69.6,
          69.6,
          69.6,
          69.6,
          69.6,
          69.6,
          69.6,
          69.6,
          69.6,
          69.6,
          69.6,
          69.6,
          69.6,
          69.6,
          69.6,
          69.6,
          69.5,
          69.5,
          69.5,
          69.5,
          69.5,
          69.5,
          69.5,
          69.5,
          69.5,
          69.5,
          69.5,
          69.5,
          69.5,
          69.5,
          69.5,
          69.5,
          69.5,
          69.5,
          69.5,
          69.4,
          69.4,
          69.4,
          69.4,
          69.4,
          69.4,
          69.4,
          69.4,
          69.4,
          69.4,
          69.4,
          69.4,
          69.4,
          69.4,
          69.4,
          69.4,
          69.3,
          69.3,
          69.3,
          69.3,
          69.3,
          69.3,
          69.3,
          69.3,
          69.3,
          69.3,
          69.3,
          69.3,
          69.3,
          69.3,
          69.3,
          69.3,
          69.3,
          69.3,
          69.3,
          69.2,
          69.2,
          69.2,
          69.2,
          69.2,
          69.2,
          69.2,
          69.2,
          69.2,
          69.2,
          69.2,
          69.2,
          69.2,
          69.2,
          69.2,
          69.2,
          69.2,
          69.2,
          69.2,
          69.1,
          69.1,
          69.1,
          69.1,
          69.1,
          69.1,
          69.1,
          69.1,
          69.1,
          69.1,
          69.1,
          69.1,
          69.1,
          69.1,
          69.1,
          69.1,
          69,
          69,
          69,
          69,
          69,
          69,
          69,
          69,
          69,
          69,
          69,
          69,
          69,
          69,
          69,
          69,
          69,
          69,
          69,
          69,
          68.9,
          68.9,
          68.9,
          68.9,
          68.9,
          68.9,
          68.9,
          68.9,
          68.9,
          68.9,
          68.9,
          68.9,
          68.9,
          68.9,
          68.9,
          68.9,
          68.9,
          68.9,
          68.9,
          68.9,
          68.8,
          68.8,
          68.8,
          68.8,
          68.8,
          68.8,
          68.8,
          68.8,
          68.8,
          68.8,
          68.8,
          68.8,
          68.8,
          68.8,
          68.8,
          68.8,
          68.8,
          68.8,
          68.7,
          68.7,
          68.7,
          68.7,
          68.7,
          68.7,
          68.7,
          68.7,
          68.7,
          68.7,
          68.7,
          68.7,
          68.7,
          68.7,
          68.7,
          68.7,
          68.7,
          68.7,
          68.7,
          68.7,
          68.6,
          68.6,
          68.6,
          68.6,
          68.6,
          68.6,
          68.6,
          68.6,
          68.6,
          68.6,
          68.6,
          68.6,
          68.6,
          68.6,
          68.6,
          68.6,
          68.6,
          68.6,
          68.6,
          68.5,
          68.5,
          68.5,
          68.5,
          68.5,
          68.5,
          68.5,
          68.5,
          68.5,
          68.5,
          68.5,
          68.5,
          68.5,
          68.5,
          68.5,
          68.5,
          68.5,
          68.5,
          68.5,
          68.5,
          68.5,
          68.4,
          68.4,
          68.4,
          68.4,
          68.4,
          68.4,
          68.4,
          68.4,
          68.4,
          68.4,
          68.4,
          68.4,
          68.4,
          68.4,
          68.4,
          68.4,
          68.4,
          68.4,
          68.4,
          68.4,
          68.4,
          68.3,
          68.3,
          68.3,
          68.3,
          68.3,
          68.3,
          68.3,
          68.3,
          68.3,
          68.3,
          68.3,
          68.3,
          68.3,
          68.3,
          68.3,
          68.3,
          68.3,
          68.3,
          68.3,
          68.3,
          68.3,
          68.3,
          68.2,
          68.2,
          68.2,
          68.2,
          68.2,
          68.2,
          68.2,
          68.2,
          68.2,
          68.2,
          68.2,
          68.2,
          68.2,
          68.2,
          68.2,
          68.2,
          68.2,
          68.2,
          68.2,
          68.1,
          68.1,
          68.1,
          68.1,
          68.1,
          68.1,
          68.1,
          68.1,
          68.1,
          68.1,
          68.1,
          68.1,
          68.1,
          68.1,
          68.1,
          68.1,
          68.1,
          68.1,
          68.1,
          68.1,
          68.1,
          68.1,
          68,
          68,
          68,
          68,
          68,
          68,
          68,
          68,
          68,
          68,
          68,
          68,
          68,
          68,
          68,
          68,
          68,
          68,
          68,
          68,
          68,
          67.9,
          67.9,
          67.9,
          67.9,
          67.9,
          67.9,
          67.9,
          67.9,
          67.9,
          67.9,
          67.9,
          67.9,
          67.9,
          67.9,
          67.9,
          67.9,
          67.9,
          67.9,
          67.9,
          67.9,
          67.9,
          67.9,
          67.8,
          67.8,
          67.8,
          67.8,
          67.8,
          67.8,
          67.8,
          67.8,
          67.8,
          67.8,
          67.8,
          67.8,
          67.8,
          67.8,
          67.8,
          67.8,
          67.8,
          67.8,
          67.8,
          67.8,
          67.8,
          67.8,
          67.7,
          67.7,
          67.7,
          67.7,
          67.7,
          67.7,
          67.7,
          67.7,
          67.7,
          67.7,
          67.7,
          67.7,
          67.7,
          67.7,
          67.7,
          67.7,
          67.7,
          67.7,
          67.7,
          67.7,
          67.7,
          67.7,
          67.7,
          67.6,
          67.6,
          67.6,
          67.6,
          67.6,
          67.6,
          67.6,
          67.6,
          67.6,
          67.6,
          67.6,
          67.6,
          67.6,
          67.6,
          67.6,
          67.6,
          67.6,
          67.6,
          67.6,
          67.6,
          67.6,
          67.6,
          67.6,
          67.5,
          67.5,
          67.5,
          67.5,
          67.5,
          67.5,
          67.5,
          67.5,
          67.5,
          67.5,
          67.5,
          67.5,
          67.5,
          67.5,
          67.5,
          67.5,
          67.5,
          67.5,
          67.5,
          67.5,
          67.5,
          67.5,
          67.4,
          67.4,
          67.4,
          67.4,
          67.4,
          67.4,
          67.4,
          67.4,
          67.4,
          67.4,
          67.4,
          67.4,
          67.4,
          67.4,
          67.4,
          67.4,
          67.4,
          67.4,
          67.4,
          67.4,
          67.4,
          67.4,
          67.4,
          67.3,
          67.3,
          67.3,
          67.3,
          67.3,
          67.3,
          67.3,
          67.3,
          67.3,
          67.3,
          67.3,
          67.3,
          67.3,
          67.3,
          67.3,
          67.3,
          67.3,
          67.3,
          67.3,
          67.3,
          67.3,
          67.3,
          67.3,
          67.3,
          67.2,
          67.2,
          67.2,
          67.2,
          67.2,
          67.2,
          67.2,
          67.2,
          67.2,
          67.2,
          67.2,
          67.2,
          67.2,
          67.2,
          67.2,
          67.2,
          67.2,
          67.2,
          67.2,
          67.2,
          67.2,
          67.2,
          67.2,
          67.1,
          67.1,
          67.1,
          67.1,
          67.1,
          67.1,
          67.1,
          67.1,
          67.1,
          67.1,
          67.1,
          67.1,
          67.1,
          67.1,
          67.1,
          67.1,
          67.1,
          67.1,
          67.1,
          67.1,
          67.1,
          67.1,
          67.1,
          67,
          67,
          67,
          67,
          67,
          67,
          67,
          67,
          67,
          67,
          67,
          67,
          67,
          67,
          67,
          67,
          67,
          67,
          67,
          67,
          67,
          67,
          67,
          66.9,
          66.9,
          66.9,
          66.9,
          66.9,
          66.9,
          66.9,
          66.9,
          66.9,
          66.9,
          66.9,
          66.9,
          66.9,
          66.9,
          66.9,
          66.9,
          66.9,
          66.9,
          66.9,
          66.9,
          66.9,
          66.9,
          66.9,
          66.9,
          66.9,
          66.8,
          66.8,
          66.8,
          66.8,
          66.8,
          66.8,
          66.8,
          66.8,
          66.8,
          66.8,
          66.8,
          66.8,
          66.8,
          66.8,
          66.8,
          66.8,
          66.8,
          66.8,
          66.8,
          66.8,
          66.8,
          66.8,
          66.8,
          66.7,
          66.7,
          66.7,
          66.7,
          66.7,
          66.7,
          66.7,
          66.7,
          66.7,
          66.7,
          66.7,
          66.7,
          66.7,
          66.7,
          66.7,
          66.7,
          66.7,
          66.7,
          66.7,
          66.7,
          66.7,
          66.7,
          66.7,
          66.6,
          66.6,
          66.6,
          66.6,
          66.6,
          66.6,
          66.6,
          66.6,
          66.6,
          66.6,
          66.6,
          66.6,
          66.6,
          66.6,
          66.6,
          66.6,
          66.6,
          66.6,
          66.6,
          66.6,
          66.6,
          66.5,
          66.5,
          66.5,
          66.5,
          66.5,
          66.5,
          66.5,
          66.5,
          66.5,
          66.5,
          66.5,
          66.5,
          66.5,
          66.5,
          66.5,
          66.5,
          66.5,
          66.5,
          66.5,
          66.5,
          66.5,
          66.5,
          66.5,
          66.5,
          66.5,
          66.4,
          66.4,
          66.4,
          66.4,
          66.4,
          66.4,
          66.4,
          66.4,
          66.4,
          66.4,
          66.4,
          66.4,
          66.4,
          66.4,
          66.4,
          66.4,
          66.4,
          66.4,
          66.4,
          66.4,
          66.4,
          66.4,
          66.4,
          66.4,
          66.4,
          66.4,
          66.3,
          66.3,
          66.3,
          66.3,
          66.3,
          66.3,
          66.3,
          66.3,
          66.3,
          66.3,
          66.3,
          66.3,
          66.3,
          66.3,
          66.3,
          66.3,
          66.3,
          66.3,
          66.3,
          66.3,
          66.3,
          66.3,
          66.3,
          66.3,
          66.3,
          66.2,
          66.2,
          66.2,
          66.2,
          66.2,
          66.2,
          66.2,
          66.2,
          66.2,
          66.2,
          66.2,
          66.2,
          66.2,
          66.2,
          66.2,
          66.2,
          66.2,
          66.2,
          66.2,
          66.2,
          66.2,
          66.2,
          66.2,
          66.2,
          66.2,
          66.2,
          66.1,
          66.1,
          66.1,
          66.1,
          66.1,
          66.1,
          66.1,
          66.1,
          66.1,
          66.1,
          66.1,
          66.1,
          66.1,
          66.1,
          66.1,
          66.1,
          66.1,
          66.1,
          66.1,
          66.1,
          66.1,
          66.1,
          66.1,
          66.1,
          66.1,
          66.1,
          66.1,
          66,
          66,
          66,
          66,
          66,
          66,
          66,
          66,
          66,
          66,
          66,
          66,
          66,
          66,
          66,
          66,
          66,
          66,
          66,
          66,
          66,
          66,
          66,
          66,
          66,
          66,
          66,
          65.9,
          65.9,
          65.9,
          65.9,
          65.9,
          65.9,
          65.9,
          65.9,
          65.9,
          65.9,
          65.9,
          65.9,
          65.9,
          65.9,
          65.9,
          65.9,
          65.9,
          65.9,
          65.9,
          65.9,
          65.9,
          65.9,
          65.9,
          65.8,
          65.8,
          65.8,
          65.8,
          65.8,
          65.8,
          65.8,
          65.8,
          65.8,
          65.8,
          65.8,
          65.8,
          65.8,
          65.8,
          65.8,
          65.8,
          65.8,
          65.8,
          65.8,
          65.8,
          65.8,
          65.8,
          65.8,
          65.8,
          65.8,
          65.8,
          65.8,
          65.7,
          65.7,
          65.7,
          65.7
         ],
         "yaxis": "y"
        }
       ],
       "layout": {
        "legend": {
         "tracegroupgap": 0
        },
        "margin": {
         "t": 60
        },
        "template": {
         "data": {
          "bar": [
           {
            "error_x": {
             "color": "#2a3f5f"
            },
            "error_y": {
             "color": "#2a3f5f"
            },
            "marker": {
             "line": {
              "color": "#E5ECF6",
              "width": 0.5
             },
             "pattern": {
              "fillmode": "overlay",
              "size": 10,
              "solidity": 0.2
             }
            },
            "type": "bar"
           }
          ],
          "barpolar": [
           {
            "marker": {
             "line": {
              "color": "#E5ECF6",
              "width": 0.5
             },
             "pattern": {
              "fillmode": "overlay",
              "size": 10,
              "solidity": 0.2
             }
            },
            "type": "barpolar"
           }
          ],
          "carpet": [
           {
            "aaxis": {
             "endlinecolor": "#2a3f5f",
             "gridcolor": "white",
             "linecolor": "white",
             "minorgridcolor": "white",
             "startlinecolor": "#2a3f5f"
            },
            "baxis": {
             "endlinecolor": "#2a3f5f",
             "gridcolor": "white",
             "linecolor": "white",
             "minorgridcolor": "white",
             "startlinecolor": "#2a3f5f"
            },
            "type": "carpet"
           }
          ],
          "choropleth": [
           {
            "colorbar": {
             "outlinewidth": 0,
             "ticks": ""
            },
            "type": "choropleth"
           }
          ],
          "contour": [
           {
            "colorbar": {
             "outlinewidth": 0,
             "ticks": ""
            },
            "colorscale": [
             [
              0,
              "#0d0887"
             ],
             [
              0.1111111111111111,
              "#46039f"
             ],
             [
              0.2222222222222222,
              "#7201a8"
             ],
             [
              0.3333333333333333,
              "#9c179e"
             ],
             [
              0.4444444444444444,
              "#bd3786"
             ],
             [
              0.5555555555555556,
              "#d8576b"
             ],
             [
              0.6666666666666666,
              "#ed7953"
             ],
             [
              0.7777777777777778,
              "#fb9f3a"
             ],
             [
              0.8888888888888888,
              "#fdca26"
             ],
             [
              1,
              "#f0f921"
             ]
            ],
            "type": "contour"
           }
          ],
          "contourcarpet": [
           {
            "colorbar": {
             "outlinewidth": 0,
             "ticks": ""
            },
            "type": "contourcarpet"
           }
          ],
          "heatmap": [
           {
            "colorbar": {
             "outlinewidth": 0,
             "ticks": ""
            },
            "colorscale": [
             [
              0,
              "#0d0887"
             ],
             [
              0.1111111111111111,
              "#46039f"
             ],
             [
              0.2222222222222222,
              "#7201a8"
             ],
             [
              0.3333333333333333,
              "#9c179e"
             ],
             [
              0.4444444444444444,
              "#bd3786"
             ],
             [
              0.5555555555555556,
              "#d8576b"
             ],
             [
              0.6666666666666666,
              "#ed7953"
             ],
             [
              0.7777777777777778,
              "#fb9f3a"
             ],
             [
              0.8888888888888888,
              "#fdca26"
             ],
             [
              1,
              "#f0f921"
             ]
            ],
            "type": "heatmap"
           }
          ],
          "heatmapgl": [
           {
            "colorbar": {
             "outlinewidth": 0,
             "ticks": ""
            },
            "colorscale": [
             [
              0,
              "#0d0887"
             ],
             [
              0.1111111111111111,
              "#46039f"
             ],
             [
              0.2222222222222222,
              "#7201a8"
             ],
             [
              0.3333333333333333,
              "#9c179e"
             ],
             [
              0.4444444444444444,
              "#bd3786"
             ],
             [
              0.5555555555555556,
              "#d8576b"
             ],
             [
              0.6666666666666666,
              "#ed7953"
             ],
             [
              0.7777777777777778,
              "#fb9f3a"
             ],
             [
              0.8888888888888888,
              "#fdca26"
             ],
             [
              1,
              "#f0f921"
             ]
            ],
            "type": "heatmapgl"
           }
          ],
          "histogram": [
           {
            "marker": {
             "pattern": {
              "fillmode": "overlay",
              "size": 10,
              "solidity": 0.2
             }
            },
            "type": "histogram"
           }
          ],
          "histogram2d": [
           {
            "colorbar": {
             "outlinewidth": 0,
             "ticks": ""
            },
            "colorscale": [
             [
              0,
              "#0d0887"
             ],
             [
              0.1111111111111111,
              "#46039f"
             ],
             [
              0.2222222222222222,
              "#7201a8"
             ],
             [
              0.3333333333333333,
              "#9c179e"
             ],
             [
              0.4444444444444444,
              "#bd3786"
             ],
             [
              0.5555555555555556,
              "#d8576b"
             ],
             [
              0.6666666666666666,
              "#ed7953"
             ],
             [
              0.7777777777777778,
              "#fb9f3a"
             ],
             [
              0.8888888888888888,
              "#fdca26"
             ],
             [
              1,
              "#f0f921"
             ]
            ],
            "type": "histogram2d"
           }
          ],
          "histogram2dcontour": [
           {
            "colorbar": {
             "outlinewidth": 0,
             "ticks": ""
            },
            "colorscale": [
             [
              0,
              "#0d0887"
             ],
             [
              0.1111111111111111,
              "#46039f"
             ],
             [
              0.2222222222222222,
              "#7201a8"
             ],
             [
              0.3333333333333333,
              "#9c179e"
             ],
             [
              0.4444444444444444,
              "#bd3786"
             ],
             [
              0.5555555555555556,
              "#d8576b"
             ],
             [
              0.6666666666666666,
              "#ed7953"
             ],
             [
              0.7777777777777778,
              "#fb9f3a"
             ],
             [
              0.8888888888888888,
              "#fdca26"
             ],
             [
              1,
              "#f0f921"
             ]
            ],
            "type": "histogram2dcontour"
           }
          ],
          "mesh3d": [
           {
            "colorbar": {
             "outlinewidth": 0,
             "ticks": ""
            },
            "type": "mesh3d"
           }
          ],
          "parcoords": [
           {
            "line": {
             "colorbar": {
              "outlinewidth": 0,
              "ticks": ""
             }
            },
            "type": "parcoords"
           }
          ],
          "pie": [
           {
            "automargin": true,
            "type": "pie"
           }
          ],
          "scatter": [
           {
            "fillpattern": {
             "fillmode": "overlay",
             "size": 10,
             "solidity": 0.2
            },
            "type": "scatter"
           }
          ],
          "scatter3d": [
           {
            "line": {
             "colorbar": {
              "outlinewidth": 0,
              "ticks": ""
             }
            },
            "marker": {
             "colorbar": {
              "outlinewidth": 0,
              "ticks": ""
             }
            },
            "type": "scatter3d"
           }
          ],
          "scattercarpet": [
           {
            "marker": {
             "colorbar": {
              "outlinewidth": 0,
              "ticks": ""
             }
            },
            "type": "scattercarpet"
           }
          ],
          "scattergeo": [
           {
            "marker": {
             "colorbar": {
              "outlinewidth": 0,
              "ticks": ""
             }
            },
            "type": "scattergeo"
           }
          ],
          "scattergl": [
           {
            "marker": {
             "colorbar": {
              "outlinewidth": 0,
              "ticks": ""
             }
            },
            "type": "scattergl"
           }
          ],
          "scattermapbox": [
           {
            "marker": {
             "colorbar": {
              "outlinewidth": 0,
              "ticks": ""
             }
            },
            "type": "scattermapbox"
           }
          ],
          "scatterpolar": [
           {
            "marker": {
             "colorbar": {
              "outlinewidth": 0,
              "ticks": ""
             }
            },
            "type": "scatterpolar"
           }
          ],
          "scatterpolargl": [
           {
            "marker": {
             "colorbar": {
              "outlinewidth": 0,
              "ticks": ""
             }
            },
            "type": "scatterpolargl"
           }
          ],
          "scatterternary": [
           {
            "marker": {
             "colorbar": {
              "outlinewidth": 0,
              "ticks": ""
             }
            },
            "type": "scatterternary"
           }
          ],
          "surface": [
           {
            "colorbar": {
             "outlinewidth": 0,
             "ticks": ""
            },
            "colorscale": [
             [
              0,
              "#0d0887"
             ],
             [
              0.1111111111111111,
              "#46039f"
             ],
             [
              0.2222222222222222,
              "#7201a8"
             ],
             [
              0.3333333333333333,
              "#9c179e"
             ],
             [
              0.4444444444444444,
              "#bd3786"
             ],
             [
              0.5555555555555556,
              "#d8576b"
             ],
             [
              0.6666666666666666,
              "#ed7953"
             ],
             [
              0.7777777777777778,
              "#fb9f3a"
             ],
             [
              0.8888888888888888,
              "#fdca26"
             ],
             [
              1,
              "#f0f921"
             ]
            ],
            "type": "surface"
           }
          ],
          "table": [
           {
            "cells": {
             "fill": {
              "color": "#EBF0F8"
             },
             "line": {
              "color": "white"
             }
            },
            "header": {
             "fill": {
              "color": "#C8D4E3"
             },
             "line": {
              "color": "white"
             }
            },
            "type": "table"
           }
          ]
         },
         "layout": {
          "annotationdefaults": {
           "arrowcolor": "#2a3f5f",
           "arrowhead": 0,
           "arrowwidth": 1
          },
          "autotypenumbers": "strict",
          "coloraxis": {
           "colorbar": {
            "outlinewidth": 0,
            "ticks": ""
           }
          },
          "colorscale": {
           "diverging": [
            [
             0,
             "#8e0152"
            ],
            [
             0.1,
             "#c51b7d"
            ],
            [
             0.2,
             "#de77ae"
            ],
            [
             0.3,
             "#f1b6da"
            ],
            [
             0.4,
             "#fde0ef"
            ],
            [
             0.5,
             "#f7f7f7"
            ],
            [
             0.6,
             "#e6f5d0"
            ],
            [
             0.7,
             "#b8e186"
            ],
            [
             0.8,
             "#7fbc41"
            ],
            [
             0.9,
             "#4d9221"
            ],
            [
             1,
             "#276419"
            ]
           ],
           "sequential": [
            [
             0,
             "#0d0887"
            ],
            [
             0.1111111111111111,
             "#46039f"
            ],
            [
             0.2222222222222222,
             "#7201a8"
            ],
            [
             0.3333333333333333,
             "#9c179e"
            ],
            [
             0.4444444444444444,
             "#bd3786"
            ],
            [
             0.5555555555555556,
             "#d8576b"
            ],
            [
             0.6666666666666666,
             "#ed7953"
            ],
            [
             0.7777777777777778,
             "#fb9f3a"
            ],
            [
             0.8888888888888888,
             "#fdca26"
            ],
            [
             1,
             "#f0f921"
            ]
           ],
           "sequentialminus": [
            [
             0,
             "#0d0887"
            ],
            [
             0.1111111111111111,
             "#46039f"
            ],
            [
             0.2222222222222222,
             "#7201a8"
            ],
            [
             0.3333333333333333,
             "#9c179e"
            ],
            [
             0.4444444444444444,
             "#bd3786"
            ],
            [
             0.5555555555555556,
             "#d8576b"
            ],
            [
             0.6666666666666666,
             "#ed7953"
            ],
            [
             0.7777777777777778,
             "#fb9f3a"
            ],
            [
             0.8888888888888888,
             "#fdca26"
            ],
            [
             1,
             "#f0f921"
            ]
           ]
          },
          "colorway": [
           "#636efa",
           "#EF553B",
           "#00cc96",
           "#ab63fa",
           "#FFA15A",
           "#19d3f3",
           "#FF6692",
           "#B6E880",
           "#FF97FF",
           "#FECB52"
          ],
          "font": {
           "color": "#2a3f5f"
          },
          "geo": {
           "bgcolor": "white",
           "lakecolor": "white",
           "landcolor": "#E5ECF6",
           "showlakes": true,
           "showland": true,
           "subunitcolor": "white"
          },
          "hoverlabel": {
           "align": "left"
          },
          "hovermode": "closest",
          "mapbox": {
           "style": "light"
          },
          "paper_bgcolor": "white",
          "plot_bgcolor": "#E5ECF6",
          "polar": {
           "angularaxis": {
            "gridcolor": "white",
            "linecolor": "white",
            "ticks": ""
           },
           "bgcolor": "#E5ECF6",
           "radialaxis": {
            "gridcolor": "white",
            "linecolor": "white",
            "ticks": ""
           }
          },
          "scene": {
           "xaxis": {
            "backgroundcolor": "#E5ECF6",
            "gridcolor": "white",
            "gridwidth": 2,
            "linecolor": "white",
            "showbackground": true,
            "ticks": "",
            "zerolinecolor": "white"
           },
           "yaxis": {
            "backgroundcolor": "#E5ECF6",
            "gridcolor": "white",
            "gridwidth": 2,
            "linecolor": "white",
            "showbackground": true,
            "ticks": "",
            "zerolinecolor": "white"
           },
           "zaxis": {
            "backgroundcolor": "#E5ECF6",
            "gridcolor": "white",
            "gridwidth": 2,
            "linecolor": "white",
            "showbackground": true,
            "ticks": "",
            "zerolinecolor": "white"
           }
          },
          "shapedefaults": {
           "line": {
            "color": "#2a3f5f"
           }
          },
          "ternary": {
           "aaxis": {
            "gridcolor": "white",
            "linecolor": "white",
            "ticks": ""
           },
           "baxis": {
            "gridcolor": "white",
            "linecolor": "white",
            "ticks": ""
           },
           "bgcolor": "#E5ECF6",
           "caxis": {
            "gridcolor": "white",
            "linecolor": "white",
            "ticks": ""
           }
          },
          "title": {
           "x": 0.05
          },
          "xaxis": {
           "automargin": true,
           "gridcolor": "white",
           "linecolor": "white",
           "ticks": "",
           "title": {
            "standoff": 15
           },
           "zerolinecolor": "white",
           "zerolinewidth": 2
          },
          "yaxis": {
           "automargin": true,
           "gridcolor": "white",
           "linecolor": "white",
           "ticks": "",
           "title": {
            "standoff": 15
           },
           "zerolinecolor": "white",
           "zerolinewidth": 2
          }
         }
        },
        "xaxis": {
         "anchor": "y",
         "domain": [
          0,
          1
         ],
         "nticks": 9,
         "title": {
          "text": "Research Performance Rank"
         }
        },
        "yaxis": {
         "anchor": "x",
         "domain": [
          0,
          1
         ],
         "title": {
          "text": "Score"
         }
        }
       }
      }
     },
     "metadata": {},
     "output_type": "display_data"
    }
   ],
   "source": [
    "px.scatter(df1,'Research Performance Rank','Score').update_xaxes(nticks=9)\n"
   ]
  },
  {
   "cell_type": "markdown",
   "id": "df55a837",
   "metadata": {},
   "source": [
    "Very Good reverse corellation between Research Performance Rank and Score"
   ]
  },
  {
   "cell_type": "code",
   "execution_count": 17,
   "id": "4e4653c2",
   "metadata": {},
   "outputs": [
    {
     "data": {
      "text/plain": [
       "array([[ 1.        , -0.67928058],\n",
       "       [-0.67928058,  1.        ]])"
      ]
     },
     "execution_count": 17,
     "metadata": {},
     "output_type": "execute_result"
    }
   ],
   "source": [
    "df1=df.copy()\n",
    "indexAge = df1[ (df1['Quality of Faculty Rank'] == '-') ].index\n",
    "df1.drop(indexAge , inplace=True)\n",
    "corrcoef(df1['Quality of Faculty Rank'].astype(int),df1['Score'])"
   ]
  },
  {
   "cell_type": "code",
   "execution_count": 18,
   "id": "02ccd972",
   "metadata": {},
   "outputs": [
    {
     "data": {
      "application/vnd.plotly.v1+json": {
       "config": {
        "plotlyServerURL": "https://plot.ly"
       },
       "data": [
        {
         "hovertemplate": "Quality of Faculty Rank=%{x}<br>Score=%{y}<extra></extra>",
         "legendgroup": "",
         "marker": {
          "color": "#636efa",
          "symbol": "circle"
         },
         "mode": "markers",
         "name": "",
         "orientation": "v",
         "showlegend": false,
         "type": "scatter",
         "x": [
          "1",
          "2",
          "3",
          "4",
          "9",
          "7",
          "10",
          "27",
          "42",
          "13",
          "8",
          "5",
          "107",
          "18",
          "79",
          "22",
          "46",
          "16",
          "15",
          "17",
          "104",
          "11",
          "23",
          "21",
          "29",
          "38",
          "40",
          "63",
          "20",
          "52",
          "135",
          "43",
          "14",
          "12",
          "34",
          "92",
          "44",
          "19",
          "76",
          "95",
          "219",
          "56",
          "31",
          "53",
          "60",
          "119",
          "36",
          "84",
          "6",
          "24",
          "26",
          "65",
          "61",
          "58",
          "35",
          "137",
          "77",
          "49",
          "67",
          "28",
          "130",
          "33",
          "55",
          "115",
          "45",
          "48",
          "182",
          "80",
          "160",
          "262",
          "68",
          "133",
          "41",
          "75",
          "120",
          "169",
          "136",
          "70",
          "32",
          "129",
          "192",
          "37",
          "140",
          "73",
          "69",
          "74",
          "114",
          "71",
          "215",
          "25",
          "266",
          "113",
          "82",
          "50",
          "127",
          "146",
          "131",
          "88",
          "153",
          "103",
          "238",
          "177",
          "132",
          "118",
          "98",
          "167",
          "124",
          "194",
          "105",
          "86",
          "78",
          "141",
          "201",
          "184",
          "90",
          "138",
          "30",
          "166",
          "108",
          "99",
          "234",
          "179",
          "259",
          "165",
          "94",
          "186",
          "111",
          "51",
          "93",
          "152",
          "72",
          "147",
          "199",
          "64",
          "91",
          "66",
          "223",
          "156",
          "148",
          "224",
          "162",
          "207",
          "209",
          "258",
          "59",
          "178",
          "101",
          "246",
          "123",
          "180",
          "193",
          "195",
          "116",
          "187",
          "128",
          "168",
          "39",
          "205",
          "236",
          "231",
          "174",
          "159",
          "181",
          "189",
          "54",
          "273",
          "139",
          "87",
          "242",
          "172",
          "163",
          "142",
          "176",
          "106",
          "81",
          "218",
          "149",
          "100",
          "110",
          "220",
          "112",
          "206",
          "122",
          "144",
          "227",
          "170",
          "191",
          "200",
          "155",
          "243",
          "85",
          "245",
          "173",
          "240",
          "109",
          "163",
          "220",
          "157",
          "185",
          "208",
          "261",
          "268",
          "255",
          "198",
          "228",
          "268",
          "143",
          "229",
          "212",
          "232",
          "183",
          "89",
          "248",
          "211",
          "264",
          "187",
          "254",
          "250",
          "237",
          "239",
          "267",
          "217",
          "134",
          "222",
          "241",
          "203",
          "270",
          "161",
          "257",
          "102",
          "154",
          "62",
          "273",
          "197",
          "121",
          "252",
          "171",
          "233",
          "190",
          "251",
          "149",
          "125",
          "213",
          "95",
          "83",
          "117",
          "260",
          "216",
          "95",
          "47",
          "214",
          "158",
          "271",
          "249",
          "196",
          "57",
          "253",
          "224",
          "263",
          "244",
          "204",
          "271",
          "265",
          "202",
          "255",
          "145",
          "247",
          "125",
          "235"
         ],
         "xaxis": "x",
         "y": [
          100,
          96.7,
          95.1,
          94.1,
          93.3,
          92.6,
          92,
          91.5,
          91.1,
          90.7,
          90.4,
          90.1,
          89.8,
          89.5,
          89.2,
          89,
          88.8,
          88.6,
          88.4,
          88.2,
          88,
          87.8,
          87.6,
          87.5,
          87.3,
          87.2,
          87,
          86.9,
          86.8,
          86.6,
          86.5,
          86.4,
          86.3,
          86.1,
          86,
          85.9,
          85.8,
          85.7,
          85.6,
          85.5,
          85.4,
          85.3,
          85.2,
          85.1,
          85,
          85,
          84.9,
          84.8,
          84.7,
          84.6,
          84.5,
          84.5,
          84.4,
          84.3,
          84.2,
          84.2,
          84.1,
          83.9,
          83.8,
          83.8,
          83.7,
          83.6,
          83.6,
          83.5,
          83.4,
          83.4,
          83.3,
          83.3,
          83.2,
          83.1,
          83,
          83,
          82.9,
          82.9,
          82.8,
          82.8,
          82.7,
          82.6,
          82.6,
          82.5,
          82.5,
          82.4,
          82.4,
          82.3,
          82.3,
          82.2,
          82.1,
          82.1,
          82,
          82,
          81.9,
          81.8,
          81.8,
          81.7,
          81.6,
          81.6,
          81.5,
          81.5,
          81.5,
          81.4,
          81.4,
          81.3,
          81.3,
          81.2,
          81.1,
          81,
          81,
          80.9,
          80.9,
          80.9,
          80.8,
          80.7,
          80.7,
          80.6,
          80.6,
          80.5,
          80.5,
          80.5,
          80.4,
          80.4,
          80.3,
          80.3,
          80.3,
          80.2,
          80.2,
          80.1,
          80.1,
          80,
          80,
          80,
          79.9,
          79.9,
          79.8,
          79.7,
          79.7,
          79.7,
          79.6,
          79.5,
          79.3,
          79.3,
          79.2,
          79.2,
          79.1,
          79.1,
          79.1,
          79,
          79,
          79,
          78.9,
          78.9,
          78.8,
          78.8,
          78.8,
          78.8,
          78.7,
          78.7,
          78.7,
          78.7,
          78.6,
          78.6,
          78.6,
          78.5,
          78.5,
          78.5,
          78.4,
          78.3,
          78.3,
          78.3,
          78.3,
          78.2,
          78.2,
          78,
          78,
          77.9,
          77.8,
          77.8,
          77.7,
          77.7,
          77.7,
          77.7,
          77.5,
          77.5,
          77.5,
          77.4,
          77.2,
          77.2,
          77.2,
          77.1,
          77.1,
          77,
          77,
          77,
          77,
          76.9,
          76.9,
          76.7,
          76.7,
          76.7,
          76.6,
          76.5,
          76.4,
          76.3,
          76.3,
          76.3,
          76.2,
          76.2,
          76.1,
          76.1,
          75.9,
          75.8,
          75.8,
          75.8,
          75.6,
          75.2,
          74.9,
          74.8,
          74.7,
          74.6,
          74.4,
          74.4,
          74.3,
          74.3,
          74,
          74,
          74,
          73.8,
          73.7,
          73.5,
          73.3,
          72.9,
          72.7,
          72.6,
          72.6,
          72.5,
          72.5,
          72.2,
          72.2,
          72.1,
          72.1,
          72.1,
          72,
          71.9,
          71.6,
          71.4,
          71.4,
          71.3,
          71.3,
          71.3,
          70.9,
          70.7,
          70.7,
          70.7,
          70.5,
          69.7,
          69.6,
          69.1,
          69,
          68.2,
          68,
          68,
          67.5,
          67.4,
          67.2,
          67.1,
          66.8,
          66.6,
          66.4,
          66.3,
          65.9
         ],
         "yaxis": "y"
        }
       ],
       "layout": {
        "legend": {
         "tracegroupgap": 0
        },
        "margin": {
         "t": 60
        },
        "template": {
         "data": {
          "bar": [
           {
            "error_x": {
             "color": "#2a3f5f"
            },
            "error_y": {
             "color": "#2a3f5f"
            },
            "marker": {
             "line": {
              "color": "#E5ECF6",
              "width": 0.5
             },
             "pattern": {
              "fillmode": "overlay",
              "size": 10,
              "solidity": 0.2
             }
            },
            "type": "bar"
           }
          ],
          "barpolar": [
           {
            "marker": {
             "line": {
              "color": "#E5ECF6",
              "width": 0.5
             },
             "pattern": {
              "fillmode": "overlay",
              "size": 10,
              "solidity": 0.2
             }
            },
            "type": "barpolar"
           }
          ],
          "carpet": [
           {
            "aaxis": {
             "endlinecolor": "#2a3f5f",
             "gridcolor": "white",
             "linecolor": "white",
             "minorgridcolor": "white",
             "startlinecolor": "#2a3f5f"
            },
            "baxis": {
             "endlinecolor": "#2a3f5f",
             "gridcolor": "white",
             "linecolor": "white",
             "minorgridcolor": "white",
             "startlinecolor": "#2a3f5f"
            },
            "type": "carpet"
           }
          ],
          "choropleth": [
           {
            "colorbar": {
             "outlinewidth": 0,
             "ticks": ""
            },
            "type": "choropleth"
           }
          ],
          "contour": [
           {
            "colorbar": {
             "outlinewidth": 0,
             "ticks": ""
            },
            "colorscale": [
             [
              0,
              "#0d0887"
             ],
             [
              0.1111111111111111,
              "#46039f"
             ],
             [
              0.2222222222222222,
              "#7201a8"
             ],
             [
              0.3333333333333333,
              "#9c179e"
             ],
             [
              0.4444444444444444,
              "#bd3786"
             ],
             [
              0.5555555555555556,
              "#d8576b"
             ],
             [
              0.6666666666666666,
              "#ed7953"
             ],
             [
              0.7777777777777778,
              "#fb9f3a"
             ],
             [
              0.8888888888888888,
              "#fdca26"
             ],
             [
              1,
              "#f0f921"
             ]
            ],
            "type": "contour"
           }
          ],
          "contourcarpet": [
           {
            "colorbar": {
             "outlinewidth": 0,
             "ticks": ""
            },
            "type": "contourcarpet"
           }
          ],
          "heatmap": [
           {
            "colorbar": {
             "outlinewidth": 0,
             "ticks": ""
            },
            "colorscale": [
             [
              0,
              "#0d0887"
             ],
             [
              0.1111111111111111,
              "#46039f"
             ],
             [
              0.2222222222222222,
              "#7201a8"
             ],
             [
              0.3333333333333333,
              "#9c179e"
             ],
             [
              0.4444444444444444,
              "#bd3786"
             ],
             [
              0.5555555555555556,
              "#d8576b"
             ],
             [
              0.6666666666666666,
              "#ed7953"
             ],
             [
              0.7777777777777778,
              "#fb9f3a"
             ],
             [
              0.8888888888888888,
              "#fdca26"
             ],
             [
              1,
              "#f0f921"
             ]
            ],
            "type": "heatmap"
           }
          ],
          "heatmapgl": [
           {
            "colorbar": {
             "outlinewidth": 0,
             "ticks": ""
            },
            "colorscale": [
             [
              0,
              "#0d0887"
             ],
             [
              0.1111111111111111,
              "#46039f"
             ],
             [
              0.2222222222222222,
              "#7201a8"
             ],
             [
              0.3333333333333333,
              "#9c179e"
             ],
             [
              0.4444444444444444,
              "#bd3786"
             ],
             [
              0.5555555555555556,
              "#d8576b"
             ],
             [
              0.6666666666666666,
              "#ed7953"
             ],
             [
              0.7777777777777778,
              "#fb9f3a"
             ],
             [
              0.8888888888888888,
              "#fdca26"
             ],
             [
              1,
              "#f0f921"
             ]
            ],
            "type": "heatmapgl"
           }
          ],
          "histogram": [
           {
            "marker": {
             "pattern": {
              "fillmode": "overlay",
              "size": 10,
              "solidity": 0.2
             }
            },
            "type": "histogram"
           }
          ],
          "histogram2d": [
           {
            "colorbar": {
             "outlinewidth": 0,
             "ticks": ""
            },
            "colorscale": [
             [
              0,
              "#0d0887"
             ],
             [
              0.1111111111111111,
              "#46039f"
             ],
             [
              0.2222222222222222,
              "#7201a8"
             ],
             [
              0.3333333333333333,
              "#9c179e"
             ],
             [
              0.4444444444444444,
              "#bd3786"
             ],
             [
              0.5555555555555556,
              "#d8576b"
             ],
             [
              0.6666666666666666,
              "#ed7953"
             ],
             [
              0.7777777777777778,
              "#fb9f3a"
             ],
             [
              0.8888888888888888,
              "#fdca26"
             ],
             [
              1,
              "#f0f921"
             ]
            ],
            "type": "histogram2d"
           }
          ],
          "histogram2dcontour": [
           {
            "colorbar": {
             "outlinewidth": 0,
             "ticks": ""
            },
            "colorscale": [
             [
              0,
              "#0d0887"
             ],
             [
              0.1111111111111111,
              "#46039f"
             ],
             [
              0.2222222222222222,
              "#7201a8"
             ],
             [
              0.3333333333333333,
              "#9c179e"
             ],
             [
              0.4444444444444444,
              "#bd3786"
             ],
             [
              0.5555555555555556,
              "#d8576b"
             ],
             [
              0.6666666666666666,
              "#ed7953"
             ],
             [
              0.7777777777777778,
              "#fb9f3a"
             ],
             [
              0.8888888888888888,
              "#fdca26"
             ],
             [
              1,
              "#f0f921"
             ]
            ],
            "type": "histogram2dcontour"
           }
          ],
          "mesh3d": [
           {
            "colorbar": {
             "outlinewidth": 0,
             "ticks": ""
            },
            "type": "mesh3d"
           }
          ],
          "parcoords": [
           {
            "line": {
             "colorbar": {
              "outlinewidth": 0,
              "ticks": ""
             }
            },
            "type": "parcoords"
           }
          ],
          "pie": [
           {
            "automargin": true,
            "type": "pie"
           }
          ],
          "scatter": [
           {
            "fillpattern": {
             "fillmode": "overlay",
             "size": 10,
             "solidity": 0.2
            },
            "type": "scatter"
           }
          ],
          "scatter3d": [
           {
            "line": {
             "colorbar": {
              "outlinewidth": 0,
              "ticks": ""
             }
            },
            "marker": {
             "colorbar": {
              "outlinewidth": 0,
              "ticks": ""
             }
            },
            "type": "scatter3d"
           }
          ],
          "scattercarpet": [
           {
            "marker": {
             "colorbar": {
              "outlinewidth": 0,
              "ticks": ""
             }
            },
            "type": "scattercarpet"
           }
          ],
          "scattergeo": [
           {
            "marker": {
             "colorbar": {
              "outlinewidth": 0,
              "ticks": ""
             }
            },
            "type": "scattergeo"
           }
          ],
          "scattergl": [
           {
            "marker": {
             "colorbar": {
              "outlinewidth": 0,
              "ticks": ""
             }
            },
            "type": "scattergl"
           }
          ],
          "scattermapbox": [
           {
            "marker": {
             "colorbar": {
              "outlinewidth": 0,
              "ticks": ""
             }
            },
            "type": "scattermapbox"
           }
          ],
          "scatterpolar": [
           {
            "marker": {
             "colorbar": {
              "outlinewidth": 0,
              "ticks": ""
             }
            },
            "type": "scatterpolar"
           }
          ],
          "scatterpolargl": [
           {
            "marker": {
             "colorbar": {
              "outlinewidth": 0,
              "ticks": ""
             }
            },
            "type": "scatterpolargl"
           }
          ],
          "scatterternary": [
           {
            "marker": {
             "colorbar": {
              "outlinewidth": 0,
              "ticks": ""
             }
            },
            "type": "scatterternary"
           }
          ],
          "surface": [
           {
            "colorbar": {
             "outlinewidth": 0,
             "ticks": ""
            },
            "colorscale": [
             [
              0,
              "#0d0887"
             ],
             [
              0.1111111111111111,
              "#46039f"
             ],
             [
              0.2222222222222222,
              "#7201a8"
             ],
             [
              0.3333333333333333,
              "#9c179e"
             ],
             [
              0.4444444444444444,
              "#bd3786"
             ],
             [
              0.5555555555555556,
              "#d8576b"
             ],
             [
              0.6666666666666666,
              "#ed7953"
             ],
             [
              0.7777777777777778,
              "#fb9f3a"
             ],
             [
              0.8888888888888888,
              "#fdca26"
             ],
             [
              1,
              "#f0f921"
             ]
            ],
            "type": "surface"
           }
          ],
          "table": [
           {
            "cells": {
             "fill": {
              "color": "#EBF0F8"
             },
             "line": {
              "color": "white"
             }
            },
            "header": {
             "fill": {
              "color": "#C8D4E3"
             },
             "line": {
              "color": "white"
             }
            },
            "type": "table"
           }
          ]
         },
         "layout": {
          "annotationdefaults": {
           "arrowcolor": "#2a3f5f",
           "arrowhead": 0,
           "arrowwidth": 1
          },
          "autotypenumbers": "strict",
          "coloraxis": {
           "colorbar": {
            "outlinewidth": 0,
            "ticks": ""
           }
          },
          "colorscale": {
           "diverging": [
            [
             0,
             "#8e0152"
            ],
            [
             0.1,
             "#c51b7d"
            ],
            [
             0.2,
             "#de77ae"
            ],
            [
             0.3,
             "#f1b6da"
            ],
            [
             0.4,
             "#fde0ef"
            ],
            [
             0.5,
             "#f7f7f7"
            ],
            [
             0.6,
             "#e6f5d0"
            ],
            [
             0.7,
             "#b8e186"
            ],
            [
             0.8,
             "#7fbc41"
            ],
            [
             0.9,
             "#4d9221"
            ],
            [
             1,
             "#276419"
            ]
           ],
           "sequential": [
            [
             0,
             "#0d0887"
            ],
            [
             0.1111111111111111,
             "#46039f"
            ],
            [
             0.2222222222222222,
             "#7201a8"
            ],
            [
             0.3333333333333333,
             "#9c179e"
            ],
            [
             0.4444444444444444,
             "#bd3786"
            ],
            [
             0.5555555555555556,
             "#d8576b"
            ],
            [
             0.6666666666666666,
             "#ed7953"
            ],
            [
             0.7777777777777778,
             "#fb9f3a"
            ],
            [
             0.8888888888888888,
             "#fdca26"
            ],
            [
             1,
             "#f0f921"
            ]
           ],
           "sequentialminus": [
            [
             0,
             "#0d0887"
            ],
            [
             0.1111111111111111,
             "#46039f"
            ],
            [
             0.2222222222222222,
             "#7201a8"
            ],
            [
             0.3333333333333333,
             "#9c179e"
            ],
            [
             0.4444444444444444,
             "#bd3786"
            ],
            [
             0.5555555555555556,
             "#d8576b"
            ],
            [
             0.6666666666666666,
             "#ed7953"
            ],
            [
             0.7777777777777778,
             "#fb9f3a"
            ],
            [
             0.8888888888888888,
             "#fdca26"
            ],
            [
             1,
             "#f0f921"
            ]
           ]
          },
          "colorway": [
           "#636efa",
           "#EF553B",
           "#00cc96",
           "#ab63fa",
           "#FFA15A",
           "#19d3f3",
           "#FF6692",
           "#B6E880",
           "#FF97FF",
           "#FECB52"
          ],
          "font": {
           "color": "#2a3f5f"
          },
          "geo": {
           "bgcolor": "white",
           "lakecolor": "white",
           "landcolor": "#E5ECF6",
           "showlakes": true,
           "showland": true,
           "subunitcolor": "white"
          },
          "hoverlabel": {
           "align": "left"
          },
          "hovermode": "closest",
          "mapbox": {
           "style": "light"
          },
          "paper_bgcolor": "white",
          "plot_bgcolor": "#E5ECF6",
          "polar": {
           "angularaxis": {
            "gridcolor": "white",
            "linecolor": "white",
            "ticks": ""
           },
           "bgcolor": "#E5ECF6",
           "radialaxis": {
            "gridcolor": "white",
            "linecolor": "white",
            "ticks": ""
           }
          },
          "scene": {
           "xaxis": {
            "backgroundcolor": "#E5ECF6",
            "gridcolor": "white",
            "gridwidth": 2,
            "linecolor": "white",
            "showbackground": true,
            "ticks": "",
            "zerolinecolor": "white"
           },
           "yaxis": {
            "backgroundcolor": "#E5ECF6",
            "gridcolor": "white",
            "gridwidth": 2,
            "linecolor": "white",
            "showbackground": true,
            "ticks": "",
            "zerolinecolor": "white"
           },
           "zaxis": {
            "backgroundcolor": "#E5ECF6",
            "gridcolor": "white",
            "gridwidth": 2,
            "linecolor": "white",
            "showbackground": true,
            "ticks": "",
            "zerolinecolor": "white"
           }
          },
          "shapedefaults": {
           "line": {
            "color": "#2a3f5f"
           }
          },
          "ternary": {
           "aaxis": {
            "gridcolor": "white",
            "linecolor": "white",
            "ticks": ""
           },
           "baxis": {
            "gridcolor": "white",
            "linecolor": "white",
            "ticks": ""
           },
           "bgcolor": "#E5ECF6",
           "caxis": {
            "gridcolor": "white",
            "linecolor": "white",
            "ticks": ""
           }
          },
          "title": {
           "x": 0.05
          },
          "xaxis": {
           "automargin": true,
           "gridcolor": "white",
           "linecolor": "white",
           "ticks": "",
           "title": {
            "standoff": 15
           },
           "zerolinecolor": "white",
           "zerolinewidth": 2
          },
          "yaxis": {
           "automargin": true,
           "gridcolor": "white",
           "linecolor": "white",
           "ticks": "",
           "title": {
            "standoff": 15
           },
           "zerolinecolor": "white",
           "zerolinewidth": 2
          }
         }
        },
        "xaxis": {
         "anchor": "y",
         "domain": [
          0,
          1
         ],
         "nticks": 9,
         "title": {
          "text": "Quality of Faculty Rank"
         }
        },
        "yaxis": {
         "anchor": "x",
         "domain": [
          0,
          1
         ],
         "title": {
          "text": "Score"
         }
        }
       }
      }
     },
     "metadata": {},
     "output_type": "display_data"
    }
   ],
   "source": [
    "px.scatter(df1,'Quality of Faculty Rank','Score').update_xaxes(nticks=9)\n"
   ]
  },
  {
   "cell_type": "markdown",
   "id": "72739238",
   "metadata": {},
   "source": [
    "Goog reverse corellation between Score and Quality of Faculity Rank"
   ]
  },
  {
   "cell_type": "code",
   "execution_count": 19,
   "id": "31c3a6df",
   "metadata": {},
   "outputs": [
    {
     "data": {
      "text/plain": [
       "USA                347\n",
       "China              277\n",
       "Japan              124\n",
       "United Kingdom      95\n",
       "France              79\n",
       "                  ... \n",
       "Malawi               1\n",
       "Kuwait               1\n",
       "Cameroon             1\n",
       "Azerbaijan           1\n",
       "North Macedonia      1\n",
       "Name: Country, Length: 95, dtype: int64"
      ]
     },
     "execution_count": 19,
     "metadata": {},
     "output_type": "execute_result"
    }
   ],
   "source": [
    "counts=df['Country'].value_counts()\n",
    "counts"
   ]
  },
  {
   "cell_type": "code",
   "execution_count": 20,
   "id": "85b68498",
   "metadata": {},
   "outputs": [],
   "source": [
    "counts.loc['ROW']=sum(counts<20)"
   ]
  },
  {
   "cell_type": "code",
   "execution_count": 21,
   "id": "e4bbbf85",
   "metadata": {},
   "outputs": [
    {
     "name": "stdout",
     "output_type": "stream",
     "text": [
      "      World Rank                                 Institution         Country  \\\n",
      "0              1                          Harvard University             USA   \n",
      "1              2       Massachusetts Institute of Technology             USA   \n",
      "2              3                         Stanford University             USA   \n",
      "3              4                     University of Cambridge  United Kingdom   \n",
      "4              5                        University of Oxford  United Kingdom   \n",
      "...          ...                                         ...             ...   \n",
      "1995        1996             Santa Catarina State University          Brazil   \n",
      "1996        1997            Yancheng Institute of Technology           China   \n",
      "1997        1998  Xi'an University of Science and Technology           China   \n",
      "1998        1999                    CEU San Pablo University           Spain   \n",
      "1999        2000                           Huzhou University           China   \n",
      "\n",
      "      National Rank Quality of Education Rank Alumni Employment Rank  \\\n",
      "0                 1                         1                      1   \n",
      "1                 2                         4                     12   \n",
      "2                 3                        10                      4   \n",
      "3                 1                         3                     25   \n",
      "4                 2                         7                     27   \n",
      "...             ...                       ...                    ...   \n",
      "1995             56                         -                    936   \n",
      "1996            275                         -                      -   \n",
      "1997            276                         -                    994   \n",
      "1998             53                         -                    568   \n",
      "1999            277                         -                      -   \n",
      "\n",
      "     Quality of Faculty Rank Research Performance Rank  Score  \n",
      "0                          1                         1  100.0  \n",
      "1                          2                         8   96.7  \n",
      "2                          3                         2   95.1  \n",
      "3                          4                        10   94.1  \n",
      "4                          9                         4   93.3  \n",
      "...                      ...                       ...    ...  \n",
      "1995                       -                      1938   65.8  \n",
      "1996                       -                      1920   65.7  \n",
      "1997                       -                      1937   65.7  \n",
      "1998                       -                      1992   65.7  \n",
      "1999                       -                      1922   65.7  \n",
      "\n",
      "[1350 rows x 9 columns]\n"
     ]
    }
   ],
   "source": [
    "new_df = df.loc[df['Country'].isin(counts.index[counts > 50])]\n",
    "print(new_df)\n"
   ]
  },
  {
   "cell_type": "code",
   "execution_count": 22,
   "id": "3e05ec80",
   "metadata": {},
   "outputs": [
    {
     "data": {
      "text/plain": [
       "USA               347\n",
       "China             277\n",
       "Japan             124\n",
       "United Kingdom     95\n",
       "France             79\n",
       "Germany            70\n",
       "India              68\n",
       "Italy              66\n",
       "South Korea        60\n",
       "Brazil             56\n",
       "Turkey             55\n",
       "Spain              53\n",
       "Name: Country, dtype: int64"
      ]
     },
     "execution_count": 22,
     "metadata": {},
     "output_type": "execute_result"
    }
   ],
   "source": [
    "new_df['Country'].value_counts()"
   ]
  },
  {
   "cell_type": "code",
   "execution_count": 23,
   "id": "90cce0d1",
   "metadata": {},
   "outputs": [
    {
     "name": "stdout",
     "output_type": "stream",
     "text": [
      "1350\n"
     ]
    }
   ],
   "source": [
    "print(new_df.__len__())"
   ]
  },
  {
   "cell_type": "code",
   "execution_count": 24,
   "id": "ca358899",
   "metadata": {},
   "outputs": [
    {
     "data": {
      "text/plain": [
       "USA               17.35\n",
       "China             13.85\n",
       "Japan              6.20\n",
       "United Kingdom     4.75\n",
       "France             3.95\n",
       "Germany            3.50\n",
       "India              3.40\n",
       "Italy              3.30\n",
       "South Korea        3.00\n",
       "Brazil             2.80\n",
       "Name: Country, dtype: float64"
      ]
     },
     "execution_count": 24,
     "metadata": {},
     "output_type": "execute_result"
    }
   ],
   "source": [
    "x=df['Country'].value_counts()/sum(df['Country'].value_counts())*100\n",
    "#x.loc['ROW']=sum(x.values<1)\n",
    "x.sort_values(axis=0,ascending=False).head(10)"
   ]
  },
  {
   "cell_type": "code",
   "execution_count": 25,
   "id": "3430de63",
   "metadata": {},
   "outputs": [],
   "source": [
    "import matplotlib.pyplot as plt"
   ]
  },
  {
   "cell_type": "code",
   "execution_count": 26,
   "id": "4d603aef",
   "metadata": {},
   "outputs": [
    {
     "data": {
      "application/vnd.plotly.v1+json": {
       "config": {
        "plotlyServerURL": "https://plot.ly"
       },
       "data": [
        {
         "alignmentgroup": "True",
         "hovertemplate": "variable=Country<br>index=%{x}<br>value=%{y}<extra></extra>",
         "legendgroup": "Country",
         "marker": {
          "color": "#636efa",
          "pattern": {
           "shape": ""
          }
         },
         "name": "Country",
         "offsetgroup": "Country",
         "orientation": "v",
         "showlegend": true,
         "textposition": "auto",
         "type": "bar",
         "x": [
          "USA",
          "China",
          "Japan",
          "United Kingdom",
          "France",
          "Germany",
          "India",
          "Italy",
          "South Korea",
          "Brazil"
         ],
         "xaxis": "x",
         "y": [
          17.349999999999998,
          13.850000000000001,
          6.2,
          4.75,
          3.95,
          3.5000000000000004,
          3.4000000000000004,
          3.3000000000000003,
          3,
          2.8000000000000003
         ],
         "yaxis": "y"
        }
       ],
       "layout": {
        "barmode": "relative",
        "legend": {
         "title": {
          "text": "variable"
         },
         "tracegroupgap": 0
        },
        "margin": {
         "t": 60
        },
        "template": {
         "data": {
          "bar": [
           {
            "error_x": {
             "color": "#2a3f5f"
            },
            "error_y": {
             "color": "#2a3f5f"
            },
            "marker": {
             "line": {
              "color": "#E5ECF6",
              "width": 0.5
             },
             "pattern": {
              "fillmode": "overlay",
              "size": 10,
              "solidity": 0.2
             }
            },
            "type": "bar"
           }
          ],
          "barpolar": [
           {
            "marker": {
             "line": {
              "color": "#E5ECF6",
              "width": 0.5
             },
             "pattern": {
              "fillmode": "overlay",
              "size": 10,
              "solidity": 0.2
             }
            },
            "type": "barpolar"
           }
          ],
          "carpet": [
           {
            "aaxis": {
             "endlinecolor": "#2a3f5f",
             "gridcolor": "white",
             "linecolor": "white",
             "minorgridcolor": "white",
             "startlinecolor": "#2a3f5f"
            },
            "baxis": {
             "endlinecolor": "#2a3f5f",
             "gridcolor": "white",
             "linecolor": "white",
             "minorgridcolor": "white",
             "startlinecolor": "#2a3f5f"
            },
            "type": "carpet"
           }
          ],
          "choropleth": [
           {
            "colorbar": {
             "outlinewidth": 0,
             "ticks": ""
            },
            "type": "choropleth"
           }
          ],
          "contour": [
           {
            "colorbar": {
             "outlinewidth": 0,
             "ticks": ""
            },
            "colorscale": [
             [
              0,
              "#0d0887"
             ],
             [
              0.1111111111111111,
              "#46039f"
             ],
             [
              0.2222222222222222,
              "#7201a8"
             ],
             [
              0.3333333333333333,
              "#9c179e"
             ],
             [
              0.4444444444444444,
              "#bd3786"
             ],
             [
              0.5555555555555556,
              "#d8576b"
             ],
             [
              0.6666666666666666,
              "#ed7953"
             ],
             [
              0.7777777777777778,
              "#fb9f3a"
             ],
             [
              0.8888888888888888,
              "#fdca26"
             ],
             [
              1,
              "#f0f921"
             ]
            ],
            "type": "contour"
           }
          ],
          "contourcarpet": [
           {
            "colorbar": {
             "outlinewidth": 0,
             "ticks": ""
            },
            "type": "contourcarpet"
           }
          ],
          "heatmap": [
           {
            "colorbar": {
             "outlinewidth": 0,
             "ticks": ""
            },
            "colorscale": [
             [
              0,
              "#0d0887"
             ],
             [
              0.1111111111111111,
              "#46039f"
             ],
             [
              0.2222222222222222,
              "#7201a8"
             ],
             [
              0.3333333333333333,
              "#9c179e"
             ],
             [
              0.4444444444444444,
              "#bd3786"
             ],
             [
              0.5555555555555556,
              "#d8576b"
             ],
             [
              0.6666666666666666,
              "#ed7953"
             ],
             [
              0.7777777777777778,
              "#fb9f3a"
             ],
             [
              0.8888888888888888,
              "#fdca26"
             ],
             [
              1,
              "#f0f921"
             ]
            ],
            "type": "heatmap"
           }
          ],
          "heatmapgl": [
           {
            "colorbar": {
             "outlinewidth": 0,
             "ticks": ""
            },
            "colorscale": [
             [
              0,
              "#0d0887"
             ],
             [
              0.1111111111111111,
              "#46039f"
             ],
             [
              0.2222222222222222,
              "#7201a8"
             ],
             [
              0.3333333333333333,
              "#9c179e"
             ],
             [
              0.4444444444444444,
              "#bd3786"
             ],
             [
              0.5555555555555556,
              "#d8576b"
             ],
             [
              0.6666666666666666,
              "#ed7953"
             ],
             [
              0.7777777777777778,
              "#fb9f3a"
             ],
             [
              0.8888888888888888,
              "#fdca26"
             ],
             [
              1,
              "#f0f921"
             ]
            ],
            "type": "heatmapgl"
           }
          ],
          "histogram": [
           {
            "marker": {
             "pattern": {
              "fillmode": "overlay",
              "size": 10,
              "solidity": 0.2
             }
            },
            "type": "histogram"
           }
          ],
          "histogram2d": [
           {
            "colorbar": {
             "outlinewidth": 0,
             "ticks": ""
            },
            "colorscale": [
             [
              0,
              "#0d0887"
             ],
             [
              0.1111111111111111,
              "#46039f"
             ],
             [
              0.2222222222222222,
              "#7201a8"
             ],
             [
              0.3333333333333333,
              "#9c179e"
             ],
             [
              0.4444444444444444,
              "#bd3786"
             ],
             [
              0.5555555555555556,
              "#d8576b"
             ],
             [
              0.6666666666666666,
              "#ed7953"
             ],
             [
              0.7777777777777778,
              "#fb9f3a"
             ],
             [
              0.8888888888888888,
              "#fdca26"
             ],
             [
              1,
              "#f0f921"
             ]
            ],
            "type": "histogram2d"
           }
          ],
          "histogram2dcontour": [
           {
            "colorbar": {
             "outlinewidth": 0,
             "ticks": ""
            },
            "colorscale": [
             [
              0,
              "#0d0887"
             ],
             [
              0.1111111111111111,
              "#46039f"
             ],
             [
              0.2222222222222222,
              "#7201a8"
             ],
             [
              0.3333333333333333,
              "#9c179e"
             ],
             [
              0.4444444444444444,
              "#bd3786"
             ],
             [
              0.5555555555555556,
              "#d8576b"
             ],
             [
              0.6666666666666666,
              "#ed7953"
             ],
             [
              0.7777777777777778,
              "#fb9f3a"
             ],
             [
              0.8888888888888888,
              "#fdca26"
             ],
             [
              1,
              "#f0f921"
             ]
            ],
            "type": "histogram2dcontour"
           }
          ],
          "mesh3d": [
           {
            "colorbar": {
             "outlinewidth": 0,
             "ticks": ""
            },
            "type": "mesh3d"
           }
          ],
          "parcoords": [
           {
            "line": {
             "colorbar": {
              "outlinewidth": 0,
              "ticks": ""
             }
            },
            "type": "parcoords"
           }
          ],
          "pie": [
           {
            "automargin": true,
            "type": "pie"
           }
          ],
          "scatter": [
           {
            "fillpattern": {
             "fillmode": "overlay",
             "size": 10,
             "solidity": 0.2
            },
            "type": "scatter"
           }
          ],
          "scatter3d": [
           {
            "line": {
             "colorbar": {
              "outlinewidth": 0,
              "ticks": ""
             }
            },
            "marker": {
             "colorbar": {
              "outlinewidth": 0,
              "ticks": ""
             }
            },
            "type": "scatter3d"
           }
          ],
          "scattercarpet": [
           {
            "marker": {
             "colorbar": {
              "outlinewidth": 0,
              "ticks": ""
             }
            },
            "type": "scattercarpet"
           }
          ],
          "scattergeo": [
           {
            "marker": {
             "colorbar": {
              "outlinewidth": 0,
              "ticks": ""
             }
            },
            "type": "scattergeo"
           }
          ],
          "scattergl": [
           {
            "marker": {
             "colorbar": {
              "outlinewidth": 0,
              "ticks": ""
             }
            },
            "type": "scattergl"
           }
          ],
          "scattermapbox": [
           {
            "marker": {
             "colorbar": {
              "outlinewidth": 0,
              "ticks": ""
             }
            },
            "type": "scattermapbox"
           }
          ],
          "scatterpolar": [
           {
            "marker": {
             "colorbar": {
              "outlinewidth": 0,
              "ticks": ""
             }
            },
            "type": "scatterpolar"
           }
          ],
          "scatterpolargl": [
           {
            "marker": {
             "colorbar": {
              "outlinewidth": 0,
              "ticks": ""
             }
            },
            "type": "scatterpolargl"
           }
          ],
          "scatterternary": [
           {
            "marker": {
             "colorbar": {
              "outlinewidth": 0,
              "ticks": ""
             }
            },
            "type": "scatterternary"
           }
          ],
          "surface": [
           {
            "colorbar": {
             "outlinewidth": 0,
             "ticks": ""
            },
            "colorscale": [
             [
              0,
              "#0d0887"
             ],
             [
              0.1111111111111111,
              "#46039f"
             ],
             [
              0.2222222222222222,
              "#7201a8"
             ],
             [
              0.3333333333333333,
              "#9c179e"
             ],
             [
              0.4444444444444444,
              "#bd3786"
             ],
             [
              0.5555555555555556,
              "#d8576b"
             ],
             [
              0.6666666666666666,
              "#ed7953"
             ],
             [
              0.7777777777777778,
              "#fb9f3a"
             ],
             [
              0.8888888888888888,
              "#fdca26"
             ],
             [
              1,
              "#f0f921"
             ]
            ],
            "type": "surface"
           }
          ],
          "table": [
           {
            "cells": {
             "fill": {
              "color": "#EBF0F8"
             },
             "line": {
              "color": "white"
             }
            },
            "header": {
             "fill": {
              "color": "#C8D4E3"
             },
             "line": {
              "color": "white"
             }
            },
            "type": "table"
           }
          ]
         },
         "layout": {
          "annotationdefaults": {
           "arrowcolor": "#2a3f5f",
           "arrowhead": 0,
           "arrowwidth": 1
          },
          "autotypenumbers": "strict",
          "coloraxis": {
           "colorbar": {
            "outlinewidth": 0,
            "ticks": ""
           }
          },
          "colorscale": {
           "diverging": [
            [
             0,
             "#8e0152"
            ],
            [
             0.1,
             "#c51b7d"
            ],
            [
             0.2,
             "#de77ae"
            ],
            [
             0.3,
             "#f1b6da"
            ],
            [
             0.4,
             "#fde0ef"
            ],
            [
             0.5,
             "#f7f7f7"
            ],
            [
             0.6,
             "#e6f5d0"
            ],
            [
             0.7,
             "#b8e186"
            ],
            [
             0.8,
             "#7fbc41"
            ],
            [
             0.9,
             "#4d9221"
            ],
            [
             1,
             "#276419"
            ]
           ],
           "sequential": [
            [
             0,
             "#0d0887"
            ],
            [
             0.1111111111111111,
             "#46039f"
            ],
            [
             0.2222222222222222,
             "#7201a8"
            ],
            [
             0.3333333333333333,
             "#9c179e"
            ],
            [
             0.4444444444444444,
             "#bd3786"
            ],
            [
             0.5555555555555556,
             "#d8576b"
            ],
            [
             0.6666666666666666,
             "#ed7953"
            ],
            [
             0.7777777777777778,
             "#fb9f3a"
            ],
            [
             0.8888888888888888,
             "#fdca26"
            ],
            [
             1,
             "#f0f921"
            ]
           ],
           "sequentialminus": [
            [
             0,
             "#0d0887"
            ],
            [
             0.1111111111111111,
             "#46039f"
            ],
            [
             0.2222222222222222,
             "#7201a8"
            ],
            [
             0.3333333333333333,
             "#9c179e"
            ],
            [
             0.4444444444444444,
             "#bd3786"
            ],
            [
             0.5555555555555556,
             "#d8576b"
            ],
            [
             0.6666666666666666,
             "#ed7953"
            ],
            [
             0.7777777777777778,
             "#fb9f3a"
            ],
            [
             0.8888888888888888,
             "#fdca26"
            ],
            [
             1,
             "#f0f921"
            ]
           ]
          },
          "colorway": [
           "#636efa",
           "#EF553B",
           "#00cc96",
           "#ab63fa",
           "#FFA15A",
           "#19d3f3",
           "#FF6692",
           "#B6E880",
           "#FF97FF",
           "#FECB52"
          ],
          "font": {
           "color": "#2a3f5f"
          },
          "geo": {
           "bgcolor": "white",
           "lakecolor": "white",
           "landcolor": "#E5ECF6",
           "showlakes": true,
           "showland": true,
           "subunitcolor": "white"
          },
          "hoverlabel": {
           "align": "left"
          },
          "hovermode": "closest",
          "mapbox": {
           "style": "light"
          },
          "paper_bgcolor": "white",
          "plot_bgcolor": "#E5ECF6",
          "polar": {
           "angularaxis": {
            "gridcolor": "white",
            "linecolor": "white",
            "ticks": ""
           },
           "bgcolor": "#E5ECF6",
           "radialaxis": {
            "gridcolor": "white",
            "linecolor": "white",
            "ticks": ""
           }
          },
          "scene": {
           "xaxis": {
            "backgroundcolor": "#E5ECF6",
            "gridcolor": "white",
            "gridwidth": 2,
            "linecolor": "white",
            "showbackground": true,
            "ticks": "",
            "zerolinecolor": "white"
           },
           "yaxis": {
            "backgroundcolor": "#E5ECF6",
            "gridcolor": "white",
            "gridwidth": 2,
            "linecolor": "white",
            "showbackground": true,
            "ticks": "",
            "zerolinecolor": "white"
           },
           "zaxis": {
            "backgroundcolor": "#E5ECF6",
            "gridcolor": "white",
            "gridwidth": 2,
            "linecolor": "white",
            "showbackground": true,
            "ticks": "",
            "zerolinecolor": "white"
           }
          },
          "shapedefaults": {
           "line": {
            "color": "#2a3f5f"
           }
          },
          "ternary": {
           "aaxis": {
            "gridcolor": "white",
            "linecolor": "white",
            "ticks": ""
           },
           "baxis": {
            "gridcolor": "white",
            "linecolor": "white",
            "ticks": ""
           },
           "bgcolor": "#E5ECF6",
           "caxis": {
            "gridcolor": "white",
            "linecolor": "white",
            "ticks": ""
           }
          },
          "title": {
           "x": 0.05
          },
          "xaxis": {
           "automargin": true,
           "gridcolor": "white",
           "linecolor": "white",
           "ticks": "",
           "title": {
            "standoff": 15
           },
           "zerolinecolor": "white",
           "zerolinewidth": 2
          },
          "yaxis": {
           "automargin": true,
           "gridcolor": "white",
           "linecolor": "white",
           "ticks": "",
           "title": {
            "standoff": 15
           },
           "zerolinecolor": "white",
           "zerolinewidth": 2
          }
         }
        },
        "xaxis": {
         "anchor": "y",
         "domain": [
          0,
          1
         ],
         "title": {
          "text": "Country"
         }
        },
        "yaxis": {
         "anchor": "x",
         "domain": [
          0,
          1
         ],
         "title": {
          "text": "Amount Frequency in Top 2000"
         }
        }
       }
      }
     },
     "metadata": {},
     "output_type": "display_data"
    }
   ],
   "source": [
    "from matplotlib.pyplot import ylabel\n",
    "from pandas import value_counts\n",
    "\n",
    "px.bar(x[:10]).update_layout(xaxis_title=\"Country\", yaxis_title=\"Amount Frequency in Top 2000\"\n",
    ")"
   ]
  },
  {
   "cell_type": "code",
   "execution_count": 27,
   "id": "e5bede98",
   "metadata": {},
   "outputs": [],
   "source": [
    "df1=df.copy()"
   ]
  },
  {
   "cell_type": "code",
   "execution_count": 28,
   "id": "7dceee21",
   "metadata": {},
   "outputs": [
    {
     "data": {
      "text/html": [
       "<div>\n",
       "<style scoped>\n",
       "    .dataframe tbody tr th:only-of-type {\n",
       "        vertical-align: middle;\n",
       "    }\n",
       "\n",
       "    .dataframe tbody tr th {\n",
       "        vertical-align: top;\n",
       "    }\n",
       "\n",
       "    .dataframe thead th {\n",
       "        text-align: right;\n",
       "    }\n",
       "</style>\n",
       "<table border=\"1\" class=\"dataframe\">\n",
       "  <thead>\n",
       "    <tr style=\"text-align: right;\">\n",
       "      <th></th>\n",
       "      <th>Country</th>\n",
       "      <th>Score</th>\n",
       "      <th>Institution</th>\n",
       "    </tr>\n",
       "  </thead>\n",
       "  <tbody>\n",
       "    <tr>\n",
       "      <th>0</th>\n",
       "      <td>USA</td>\n",
       "      <td>100.0</td>\n",
       "      <td>Harvard University</td>\n",
       "    </tr>\n",
       "    <tr>\n",
       "      <th>1</th>\n",
       "      <td>USA</td>\n",
       "      <td>96.7</td>\n",
       "      <td>Massachusetts Institute of Technology</td>\n",
       "    </tr>\n",
       "    <tr>\n",
       "      <th>2</th>\n",
       "      <td>USA</td>\n",
       "      <td>95.1</td>\n",
       "      <td>Stanford University</td>\n",
       "    </tr>\n",
       "    <tr>\n",
       "      <th>3</th>\n",
       "      <td>United Kingdom</td>\n",
       "      <td>94.1</td>\n",
       "      <td>University of Cambridge</td>\n",
       "    </tr>\n",
       "    <tr>\n",
       "      <th>4</th>\n",
       "      <td>United Kingdom</td>\n",
       "      <td>93.3</td>\n",
       "      <td>University of Oxford</td>\n",
       "    </tr>\n",
       "    <tr>\n",
       "      <th>...</th>\n",
       "      <td>...</td>\n",
       "      <td>...</td>\n",
       "      <td>...</td>\n",
       "    </tr>\n",
       "    <tr>\n",
       "      <th>1995</th>\n",
       "      <td>Brazil</td>\n",
       "      <td>65.8</td>\n",
       "      <td>Santa Catarina State University</td>\n",
       "    </tr>\n",
       "    <tr>\n",
       "      <th>1996</th>\n",
       "      <td>China</td>\n",
       "      <td>65.7</td>\n",
       "      <td>Yancheng Institute of Technology</td>\n",
       "    </tr>\n",
       "    <tr>\n",
       "      <th>1997</th>\n",
       "      <td>China</td>\n",
       "      <td>65.7</td>\n",
       "      <td>Xi'an University of Science and Technology</td>\n",
       "    </tr>\n",
       "    <tr>\n",
       "      <th>1998</th>\n",
       "      <td>Spain</td>\n",
       "      <td>65.7</td>\n",
       "      <td>CEU San Pablo University</td>\n",
       "    </tr>\n",
       "    <tr>\n",
       "      <th>1999</th>\n",
       "      <td>China</td>\n",
       "      <td>65.7</td>\n",
       "      <td>Huzhou University</td>\n",
       "    </tr>\n",
       "  </tbody>\n",
       "</table>\n",
       "<p>2000 rows × 3 columns</p>\n",
       "</div>"
      ],
      "text/plain": [
       "             Country  Score                                 Institution\n",
       "0                USA  100.0                          Harvard University\n",
       "1                USA   96.7       Massachusetts Institute of Technology\n",
       "2                USA   95.1                         Stanford University\n",
       "3     United Kingdom   94.1                     University of Cambridge\n",
       "4     United Kingdom   93.3                        University of Oxford\n",
       "...              ...    ...                                         ...\n",
       "1995          Brazil   65.8             Santa Catarina State University\n",
       "1996           China   65.7            Yancheng Institute of Technology\n",
       "1997           China   65.7  Xi'an University of Science and Technology\n",
       "1998           Spain   65.7                    CEU San Pablo University\n",
       "1999           China   65.7                           Huzhou University\n",
       "\n",
       "[2000 rows x 3 columns]"
      ]
     },
     "execution_count": 28,
     "metadata": {},
     "output_type": "execute_result"
    }
   ],
   "source": [
    "x=df1[[\"Country\",\"Score\",'Institution']]\n",
    "x"
   ]
  },
  {
   "cell_type": "code",
   "execution_count": 29,
   "id": "606ee050",
   "metadata": {},
   "outputs": [
    {
     "data": {
      "text/plain": [
       "71.58645"
      ]
     },
     "execution_count": 29,
     "metadata": {},
     "output_type": "execute_result"
    }
   ],
   "source": [
    "m=x['Score'].mean()\n",
    "m"
   ]
  },
  {
   "cell_type": "code",
   "execution_count": 30,
   "id": "c5f89c08",
   "metadata": {},
   "outputs": [
    {
     "data": {
      "text/html": [
       "<div>\n",
       "<style scoped>\n",
       "    .dataframe tbody tr th:only-of-type {\n",
       "        vertical-align: middle;\n",
       "    }\n",
       "\n",
       "    .dataframe tbody tr th {\n",
       "        vertical-align: top;\n",
       "    }\n",
       "\n",
       "    .dataframe thead th {\n",
       "        text-align: right;\n",
       "    }\n",
       "</style>\n",
       "<table border=\"1\" class=\"dataframe\">\n",
       "  <thead>\n",
       "    <tr style=\"text-align: right;\">\n",
       "      <th></th>\n",
       "      <th>Score</th>\n",
       "    </tr>\n",
       "    <tr>\n",
       "      <th>Country</th>\n",
       "      <th></th>\n",
       "    </tr>\n",
       "  </thead>\n",
       "  <tbody>\n",
       "    <tr>\n",
       "      <th>Algeria</th>\n",
       "      <td>66.200000</td>\n",
       "    </tr>\n",
       "    <tr>\n",
       "      <th>Argentina</th>\n",
       "      <td>69.040000</td>\n",
       "    </tr>\n",
       "    <tr>\n",
       "      <th>Armenia</th>\n",
       "      <td>71.900000</td>\n",
       "    </tr>\n",
       "    <tr>\n",
       "      <th>Australia</th>\n",
       "      <td>73.720513</td>\n",
       "    </tr>\n",
       "    <tr>\n",
       "      <th>Austria</th>\n",
       "      <td>71.752941</td>\n",
       "    </tr>\n",
       "    <tr>\n",
       "      <th>...</th>\n",
       "      <td>...</td>\n",
       "    </tr>\n",
       "    <tr>\n",
       "      <th>Uruguay</th>\n",
       "      <td>70.600000</td>\n",
       "    </tr>\n",
       "    <tr>\n",
       "      <th>Venezuela</th>\n",
       "      <td>66.600000</td>\n",
       "    </tr>\n",
       "    <tr>\n",
       "      <th>Vietnam</th>\n",
       "      <td>67.540000</td>\n",
       "    </tr>\n",
       "    <tr>\n",
       "      <th>Zambia</th>\n",
       "      <td>67.400000</td>\n",
       "    </tr>\n",
       "    <tr>\n",
       "      <th>Zimbabwe</th>\n",
       "      <td>66.700000</td>\n",
       "    </tr>\n",
       "  </tbody>\n",
       "</table>\n",
       "<p>95 rows × 1 columns</p>\n",
       "</div>"
      ],
      "text/plain": [
       "               Score\n",
       "Country             \n",
       "Algeria    66.200000\n",
       "Argentina  69.040000\n",
       "Armenia    71.900000\n",
       "Australia  73.720513\n",
       "Austria    71.752941\n",
       "...              ...\n",
       "Uruguay    70.600000\n",
       "Venezuela  66.600000\n",
       "Vietnam    67.540000\n",
       "Zambia     67.400000\n",
       "Zimbabwe   66.700000\n",
       "\n",
       "[95 rows x 1 columns]"
      ]
     },
     "execution_count": 30,
     "metadata": {},
     "output_type": "execute_result"
    }
   ],
   "source": [
    "date=x.groupby([x[\"Country\"],]).mean()\n",
    "date"
   ]
  },
  {
   "cell_type": "code",
   "execution_count": 31,
   "id": "81c9e9a7",
   "metadata": {},
   "outputs": [
    {
     "data": {
      "text/plain": [
       "Country\n",
       "Switzerland       78.316667\n",
       "Netherlands       77.446667\n",
       "Denmark           76.328571\n",
       "Israel            75.811111\n",
       "Belgium           75.290909\n",
       "Singapore         75.175000\n",
       "Germany           74.471429\n",
       "Sweden            74.047368\n",
       "USA               73.917867\n",
       "Finland           73.890000\n",
       "Canada            73.816667\n",
       "Australia         73.720513\n",
       "United Kingdom    73.625263\n",
       "Name: Score, dtype: float64"
      ]
     },
     "execution_count": 31,
     "metadata": {},
     "output_type": "execute_result"
    }
   ],
   "source": [
    "\n",
    "date=date.loc[date['Score'] >= 73]\n",
    "date['Score'].sort_values(ascending=False)"
   ]
  },
  {
   "cell_type": "code",
   "execution_count": 32,
   "id": "0ab9d84b",
   "metadata": {},
   "outputs": [],
   "source": [
    "x=df[df['Country']=='Romania']\n"
   ]
  },
  {
   "cell_type": "code",
   "execution_count": 33,
   "id": "e4ff4702",
   "metadata": {},
   "outputs": [],
   "source": [
    "x=x.loc[:,~df.columns.isin(['Alumni Employment Rank','Quality of Faculty Rank'])]"
   ]
  },
  {
   "cell_type": "code",
   "execution_count": 34,
   "id": "640f4bb0",
   "metadata": {},
   "outputs": [
    {
     "data": {
      "text/html": [
       "<div>\n",
       "<style scoped>\n",
       "    .dataframe tbody tr th:only-of-type {\n",
       "        vertical-align: middle;\n",
       "    }\n",
       "\n",
       "    .dataframe tbody tr th {\n",
       "        vertical-align: top;\n",
       "    }\n",
       "\n",
       "    .dataframe thead th {\n",
       "        text-align: right;\n",
       "    }\n",
       "</style>\n",
       "<table border=\"1\" class=\"dataframe\">\n",
       "  <thead>\n",
       "    <tr style=\"text-align: right;\">\n",
       "      <th></th>\n",
       "      <th>World Rank</th>\n",
       "      <th>Institution</th>\n",
       "      <th>Country</th>\n",
       "      <th>National Rank</th>\n",
       "      <th>Quality of Education Rank</th>\n",
       "      <th>Research Performance Rank</th>\n",
       "      <th>Score</th>\n",
       "    </tr>\n",
       "  </thead>\n",
       "  <tbody>\n",
       "    <tr>\n",
       "      <th>870</th>\n",
       "      <td>871</td>\n",
       "      <td>Babeș-Bolyai University</td>\n",
       "      <td>Romania</td>\n",
       "      <td>1</td>\n",
       "      <td>-</td>\n",
       "      <td>824</td>\n",
       "      <td>71.0</td>\n",
       "    </tr>\n",
       "    <tr>\n",
       "      <th>890</th>\n",
       "      <td>891</td>\n",
       "      <td>Polytechnic University of Bucharest</td>\n",
       "      <td>Romania</td>\n",
       "      <td>2</td>\n",
       "      <td>-</td>\n",
       "      <td>846</td>\n",
       "      <td>70.9</td>\n",
       "    </tr>\n",
       "    <tr>\n",
       "      <th>1009</th>\n",
       "      <td>1010</td>\n",
       "      <td>University of Bucharest</td>\n",
       "      <td>Romania</td>\n",
       "      <td>3</td>\n",
       "      <td>356</td>\n",
       "      <td>969</td>\n",
       "      <td>70.2</td>\n",
       "    </tr>\n",
       "    <tr>\n",
       "      <th>1161</th>\n",
       "      <td>1162</td>\n",
       "      <td>West University of Timișoara</td>\n",
       "      <td>Romania</td>\n",
       "      <td>4</td>\n",
       "      <td>-</td>\n",
       "      <td>1106</td>\n",
       "      <td>69.3</td>\n",
       "    </tr>\n",
       "    <tr>\n",
       "      <th>1216</th>\n",
       "      <td>1217</td>\n",
       "      <td>Carol Davila University of Medicine and Pharmacy</td>\n",
       "      <td>Romania</td>\n",
       "      <td>5</td>\n",
       "      <td>-</td>\n",
       "      <td>1152</td>\n",
       "      <td>69.0</td>\n",
       "    </tr>\n",
       "    <tr>\n",
       "      <th>1451</th>\n",
       "      <td>1452</td>\n",
       "      <td>Alexandru Ioan Cuza University of Iaşi</td>\n",
       "      <td>Romania</td>\n",
       "      <td>6</td>\n",
       "      <td>-</td>\n",
       "      <td>1388</td>\n",
       "      <td>67.9</td>\n",
       "    </tr>\n",
       "    <tr>\n",
       "      <th>1488</th>\n",
       "      <td>1489</td>\n",
       "      <td>Iuliu Hațieganu University of Medicine and Pha...</td>\n",
       "      <td>Romania</td>\n",
       "      <td>7</td>\n",
       "      <td>-</td>\n",
       "      <td>1422</td>\n",
       "      <td>67.7</td>\n",
       "    </tr>\n",
       "    <tr>\n",
       "      <th>1638</th>\n",
       "      <td>1639</td>\n",
       "      <td>Grigore T. Popa University of Medicine and Pha...</td>\n",
       "      <td>Romania</td>\n",
       "      <td>8</td>\n",
       "      <td>-</td>\n",
       "      <td>1564</td>\n",
       "      <td>67.1</td>\n",
       "    </tr>\n",
       "    <tr>\n",
       "      <th>1664</th>\n",
       "      <td>1665</td>\n",
       "      <td>Transilvania University of Brașov</td>\n",
       "      <td>Romania</td>\n",
       "      <td>9</td>\n",
       "      <td>-</td>\n",
       "      <td>1593</td>\n",
       "      <td>67.0</td>\n",
       "    </tr>\n",
       "    <tr>\n",
       "      <th>1927</th>\n",
       "      <td>1928</td>\n",
       "      <td>Victor Babeș University of Medicine and Pharma...</td>\n",
       "      <td>Romania</td>\n",
       "      <td>10</td>\n",
       "      <td>-</td>\n",
       "      <td>1852</td>\n",
       "      <td>66.0</td>\n",
       "    </tr>\n",
       "  </tbody>\n",
       "</table>\n",
       "</div>"
      ],
      "text/plain": [
       "      World Rank                                        Institution  Country  \\\n",
       "870          871                            Babeș-Bolyai University  Romania   \n",
       "890          891                Polytechnic University of Bucharest  Romania   \n",
       "1009        1010                            University of Bucharest  Romania   \n",
       "1161        1162                       West University of Timișoara  Romania   \n",
       "1216        1217   Carol Davila University of Medicine and Pharmacy  Romania   \n",
       "1451        1452             Alexandru Ioan Cuza University of Iaşi  Romania   \n",
       "1488        1489  Iuliu Hațieganu University of Medicine and Pha...  Romania   \n",
       "1638        1639  Grigore T. Popa University of Medicine and Pha...  Romania   \n",
       "1664        1665                  Transilvania University of Brașov  Romania   \n",
       "1927        1928  Victor Babeș University of Medicine and Pharma...  Romania   \n",
       "\n",
       "      National Rank Quality of Education Rank Research Performance Rank  Score  \n",
       "870               1                         -                       824   71.0  \n",
       "890               2                         -                       846   70.9  \n",
       "1009              3                       356                       969   70.2  \n",
       "1161              4                         -                      1106   69.3  \n",
       "1216              5                         -                      1152   69.0  \n",
       "1451              6                         -                      1388   67.9  \n",
       "1488              7                         -                      1422   67.7  \n",
       "1638              8                         -                      1564   67.1  \n",
       "1664              9                         -                      1593   67.0  \n",
       "1927             10                         -                      1852   66.0  "
      ]
     },
     "execution_count": 34,
     "metadata": {},
     "output_type": "execute_result"
    }
   ],
   "source": [
    "x"
   ]
  },
  {
   "cell_type": "code",
   "execution_count": 35,
   "id": "77f7492a",
   "metadata": {},
   "outputs": [
    {
     "data": {
      "application/vnd.plotly.v1+json": {
       "config": {
        "plotlyServerURL": "https://plot.ly"
       },
       "data": [
        {
         "alignmentgroup": "True",
         "hovertemplate": "Score=%{marker.color}<br>Institution=%{y}<extra></extra>",
         "legendgroup": "",
         "marker": {
          "color": [
           71,
           70.9,
           70.2,
           69.3,
           69,
           67.9,
           67.7,
           67.1,
           67,
           66
          ],
          "coloraxis": "coloraxis",
          "pattern": {
           "shape": ""
          }
         },
         "name": "",
         "offsetgroup": "",
         "orientation": "h",
         "showlegend": false,
         "textposition": "auto",
         "type": "bar",
         "x": [
          71,
          70.9,
          70.2,
          69.3,
          69,
          67.9,
          67.7,
          67.1,
          67,
          66
         ],
         "xaxis": "x",
         "y": [
          "Babeș-Bolyai University",
          "Polytechnic University of Bucharest",
          "University of Bucharest",
          "West University of Timișoara",
          "Carol Davila University of Medicine and Pharmacy",
          "Alexandru Ioan Cuza University of Iaşi",
          "Iuliu Hațieganu University of Medicine and Pharmacy",
          "Grigore T. Popa University of Medicine and Pharmacy",
          "Transilvania University of Brașov",
          "Victor Babeș University of Medicine and Pharmacy, Timișoara"
         ],
         "yaxis": "y"
        }
       ],
       "layout": {
        "barmode": "relative",
        "coloraxis": {
         "colorbar": {
          "title": {
           "text": "Score"
          }
         },
         "colorscale": [
          [
           0,
           "rgb(29, 79, 96)"
          ],
          [
           0.16666666666666666,
           "rgb(38, 107, 110)"
          ],
          [
           0.3333333333333333,
           "rgb(54, 135, 122)"
          ],
          [
           0.5,
           "rgb(77, 162, 132)"
          ],
          [
           0.6666666666666666,
           "rgb(109, 188, 144)"
          ],
          [
           0.8333333333333334,
           "rgb(150, 210, 164)"
          ],
          [
           1,
           "rgb(196, 230, 195)"
          ]
         ]
        },
        "legend": {
         "tracegroupgap": 0
        },
        "template": {
         "data": {
          "bar": [
           {
            "error_x": {
             "color": "#2a3f5f"
            },
            "error_y": {
             "color": "#2a3f5f"
            },
            "marker": {
             "line": {
              "color": "#E5ECF6",
              "width": 0.5
             },
             "pattern": {
              "fillmode": "overlay",
              "size": 10,
              "solidity": 0.2
             }
            },
            "type": "bar"
           }
          ],
          "barpolar": [
           {
            "marker": {
             "line": {
              "color": "#E5ECF6",
              "width": 0.5
             },
             "pattern": {
              "fillmode": "overlay",
              "size": 10,
              "solidity": 0.2
             }
            },
            "type": "barpolar"
           }
          ],
          "carpet": [
           {
            "aaxis": {
             "endlinecolor": "#2a3f5f",
             "gridcolor": "white",
             "linecolor": "white",
             "minorgridcolor": "white",
             "startlinecolor": "#2a3f5f"
            },
            "baxis": {
             "endlinecolor": "#2a3f5f",
             "gridcolor": "white",
             "linecolor": "white",
             "minorgridcolor": "white",
             "startlinecolor": "#2a3f5f"
            },
            "type": "carpet"
           }
          ],
          "choropleth": [
           {
            "colorbar": {
             "outlinewidth": 0,
             "ticks": ""
            },
            "type": "choropleth"
           }
          ],
          "contour": [
           {
            "colorbar": {
             "outlinewidth": 0,
             "ticks": ""
            },
            "colorscale": [
             [
              0,
              "#0d0887"
             ],
             [
              0.1111111111111111,
              "#46039f"
             ],
             [
              0.2222222222222222,
              "#7201a8"
             ],
             [
              0.3333333333333333,
              "#9c179e"
             ],
             [
              0.4444444444444444,
              "#bd3786"
             ],
             [
              0.5555555555555556,
              "#d8576b"
             ],
             [
              0.6666666666666666,
              "#ed7953"
             ],
             [
              0.7777777777777778,
              "#fb9f3a"
             ],
             [
              0.8888888888888888,
              "#fdca26"
             ],
             [
              1,
              "#f0f921"
             ]
            ],
            "type": "contour"
           }
          ],
          "contourcarpet": [
           {
            "colorbar": {
             "outlinewidth": 0,
             "ticks": ""
            },
            "type": "contourcarpet"
           }
          ],
          "heatmap": [
           {
            "colorbar": {
             "outlinewidth": 0,
             "ticks": ""
            },
            "colorscale": [
             [
              0,
              "#0d0887"
             ],
             [
              0.1111111111111111,
              "#46039f"
             ],
             [
              0.2222222222222222,
              "#7201a8"
             ],
             [
              0.3333333333333333,
              "#9c179e"
             ],
             [
              0.4444444444444444,
              "#bd3786"
             ],
             [
              0.5555555555555556,
              "#d8576b"
             ],
             [
              0.6666666666666666,
              "#ed7953"
             ],
             [
              0.7777777777777778,
              "#fb9f3a"
             ],
             [
              0.8888888888888888,
              "#fdca26"
             ],
             [
              1,
              "#f0f921"
             ]
            ],
            "type": "heatmap"
           }
          ],
          "heatmapgl": [
           {
            "colorbar": {
             "outlinewidth": 0,
             "ticks": ""
            },
            "colorscale": [
             [
              0,
              "#0d0887"
             ],
             [
              0.1111111111111111,
              "#46039f"
             ],
             [
              0.2222222222222222,
              "#7201a8"
             ],
             [
              0.3333333333333333,
              "#9c179e"
             ],
             [
              0.4444444444444444,
              "#bd3786"
             ],
             [
              0.5555555555555556,
              "#d8576b"
             ],
             [
              0.6666666666666666,
              "#ed7953"
             ],
             [
              0.7777777777777778,
              "#fb9f3a"
             ],
             [
              0.8888888888888888,
              "#fdca26"
             ],
             [
              1,
              "#f0f921"
             ]
            ],
            "type": "heatmapgl"
           }
          ],
          "histogram": [
           {
            "marker": {
             "pattern": {
              "fillmode": "overlay",
              "size": 10,
              "solidity": 0.2
             }
            },
            "type": "histogram"
           }
          ],
          "histogram2d": [
           {
            "colorbar": {
             "outlinewidth": 0,
             "ticks": ""
            },
            "colorscale": [
             [
              0,
              "#0d0887"
             ],
             [
              0.1111111111111111,
              "#46039f"
             ],
             [
              0.2222222222222222,
              "#7201a8"
             ],
             [
              0.3333333333333333,
              "#9c179e"
             ],
             [
              0.4444444444444444,
              "#bd3786"
             ],
             [
              0.5555555555555556,
              "#d8576b"
             ],
             [
              0.6666666666666666,
              "#ed7953"
             ],
             [
              0.7777777777777778,
              "#fb9f3a"
             ],
             [
              0.8888888888888888,
              "#fdca26"
             ],
             [
              1,
              "#f0f921"
             ]
            ],
            "type": "histogram2d"
           }
          ],
          "histogram2dcontour": [
           {
            "colorbar": {
             "outlinewidth": 0,
             "ticks": ""
            },
            "colorscale": [
             [
              0,
              "#0d0887"
             ],
             [
              0.1111111111111111,
              "#46039f"
             ],
             [
              0.2222222222222222,
              "#7201a8"
             ],
             [
              0.3333333333333333,
              "#9c179e"
             ],
             [
              0.4444444444444444,
              "#bd3786"
             ],
             [
              0.5555555555555556,
              "#d8576b"
             ],
             [
              0.6666666666666666,
              "#ed7953"
             ],
             [
              0.7777777777777778,
              "#fb9f3a"
             ],
             [
              0.8888888888888888,
              "#fdca26"
             ],
             [
              1,
              "#f0f921"
             ]
            ],
            "type": "histogram2dcontour"
           }
          ],
          "mesh3d": [
           {
            "colorbar": {
             "outlinewidth": 0,
             "ticks": ""
            },
            "type": "mesh3d"
           }
          ],
          "parcoords": [
           {
            "line": {
             "colorbar": {
              "outlinewidth": 0,
              "ticks": ""
             }
            },
            "type": "parcoords"
           }
          ],
          "pie": [
           {
            "automargin": true,
            "type": "pie"
           }
          ],
          "scatter": [
           {
            "fillpattern": {
             "fillmode": "overlay",
             "size": 10,
             "solidity": 0.2
            },
            "type": "scatter"
           }
          ],
          "scatter3d": [
           {
            "line": {
             "colorbar": {
              "outlinewidth": 0,
              "ticks": ""
             }
            },
            "marker": {
             "colorbar": {
              "outlinewidth": 0,
              "ticks": ""
             }
            },
            "type": "scatter3d"
           }
          ],
          "scattercarpet": [
           {
            "marker": {
             "colorbar": {
              "outlinewidth": 0,
              "ticks": ""
             }
            },
            "type": "scattercarpet"
           }
          ],
          "scattergeo": [
           {
            "marker": {
             "colorbar": {
              "outlinewidth": 0,
              "ticks": ""
             }
            },
            "type": "scattergeo"
           }
          ],
          "scattergl": [
           {
            "marker": {
             "colorbar": {
              "outlinewidth": 0,
              "ticks": ""
             }
            },
            "type": "scattergl"
           }
          ],
          "scattermapbox": [
           {
            "marker": {
             "colorbar": {
              "outlinewidth": 0,
              "ticks": ""
             }
            },
            "type": "scattermapbox"
           }
          ],
          "scatterpolar": [
           {
            "marker": {
             "colorbar": {
              "outlinewidth": 0,
              "ticks": ""
             }
            },
            "type": "scatterpolar"
           }
          ],
          "scatterpolargl": [
           {
            "marker": {
             "colorbar": {
              "outlinewidth": 0,
              "ticks": ""
             }
            },
            "type": "scatterpolargl"
           }
          ],
          "scatterternary": [
           {
            "marker": {
             "colorbar": {
              "outlinewidth": 0,
              "ticks": ""
             }
            },
            "type": "scatterternary"
           }
          ],
          "surface": [
           {
            "colorbar": {
             "outlinewidth": 0,
             "ticks": ""
            },
            "colorscale": [
             [
              0,
              "#0d0887"
             ],
             [
              0.1111111111111111,
              "#46039f"
             ],
             [
              0.2222222222222222,
              "#7201a8"
             ],
             [
              0.3333333333333333,
              "#9c179e"
             ],
             [
              0.4444444444444444,
              "#bd3786"
             ],
             [
              0.5555555555555556,
              "#d8576b"
             ],
             [
              0.6666666666666666,
              "#ed7953"
             ],
             [
              0.7777777777777778,
              "#fb9f3a"
             ],
             [
              0.8888888888888888,
              "#fdca26"
             ],
             [
              1,
              "#f0f921"
             ]
            ],
            "type": "surface"
           }
          ],
          "table": [
           {
            "cells": {
             "fill": {
              "color": "#EBF0F8"
             },
             "line": {
              "color": "white"
             }
            },
            "header": {
             "fill": {
              "color": "#C8D4E3"
             },
             "line": {
              "color": "white"
             }
            },
            "type": "table"
           }
          ]
         },
         "layout": {
          "annotationdefaults": {
           "arrowcolor": "#2a3f5f",
           "arrowhead": 0,
           "arrowwidth": 1
          },
          "autotypenumbers": "strict",
          "coloraxis": {
           "colorbar": {
            "outlinewidth": 0,
            "ticks": ""
           }
          },
          "colorscale": {
           "diverging": [
            [
             0,
             "#8e0152"
            ],
            [
             0.1,
             "#c51b7d"
            ],
            [
             0.2,
             "#de77ae"
            ],
            [
             0.3,
             "#f1b6da"
            ],
            [
             0.4,
             "#fde0ef"
            ],
            [
             0.5,
             "#f7f7f7"
            ],
            [
             0.6,
             "#e6f5d0"
            ],
            [
             0.7,
             "#b8e186"
            ],
            [
             0.8,
             "#7fbc41"
            ],
            [
             0.9,
             "#4d9221"
            ],
            [
             1,
             "#276419"
            ]
           ],
           "sequential": [
            [
             0,
             "#0d0887"
            ],
            [
             0.1111111111111111,
             "#46039f"
            ],
            [
             0.2222222222222222,
             "#7201a8"
            ],
            [
             0.3333333333333333,
             "#9c179e"
            ],
            [
             0.4444444444444444,
             "#bd3786"
            ],
            [
             0.5555555555555556,
             "#d8576b"
            ],
            [
             0.6666666666666666,
             "#ed7953"
            ],
            [
             0.7777777777777778,
             "#fb9f3a"
            ],
            [
             0.8888888888888888,
             "#fdca26"
            ],
            [
             1,
             "#f0f921"
            ]
           ],
           "sequentialminus": [
            [
             0,
             "#0d0887"
            ],
            [
             0.1111111111111111,
             "#46039f"
            ],
            [
             0.2222222222222222,
             "#7201a8"
            ],
            [
             0.3333333333333333,
             "#9c179e"
            ],
            [
             0.4444444444444444,
             "#bd3786"
            ],
            [
             0.5555555555555556,
             "#d8576b"
            ],
            [
             0.6666666666666666,
             "#ed7953"
            ],
            [
             0.7777777777777778,
             "#fb9f3a"
            ],
            [
             0.8888888888888888,
             "#fdca26"
            ],
            [
             1,
             "#f0f921"
            ]
           ]
          },
          "colorway": [
           "#636efa",
           "#EF553B",
           "#00cc96",
           "#ab63fa",
           "#FFA15A",
           "#19d3f3",
           "#FF6692",
           "#B6E880",
           "#FF97FF",
           "#FECB52"
          ],
          "font": {
           "color": "#2a3f5f"
          },
          "geo": {
           "bgcolor": "white",
           "lakecolor": "white",
           "landcolor": "#E5ECF6",
           "showlakes": true,
           "showland": true,
           "subunitcolor": "white"
          },
          "hoverlabel": {
           "align": "left"
          },
          "hovermode": "closest",
          "mapbox": {
           "style": "light"
          },
          "paper_bgcolor": "white",
          "plot_bgcolor": "#E5ECF6",
          "polar": {
           "angularaxis": {
            "gridcolor": "white",
            "linecolor": "white",
            "ticks": ""
           },
           "bgcolor": "#E5ECF6",
           "radialaxis": {
            "gridcolor": "white",
            "linecolor": "white",
            "ticks": ""
           }
          },
          "scene": {
           "xaxis": {
            "backgroundcolor": "#E5ECF6",
            "gridcolor": "white",
            "gridwidth": 2,
            "linecolor": "white",
            "showbackground": true,
            "ticks": "",
            "zerolinecolor": "white"
           },
           "yaxis": {
            "backgroundcolor": "#E5ECF6",
            "gridcolor": "white",
            "gridwidth": 2,
            "linecolor": "white",
            "showbackground": true,
            "ticks": "",
            "zerolinecolor": "white"
           },
           "zaxis": {
            "backgroundcolor": "#E5ECF6",
            "gridcolor": "white",
            "gridwidth": 2,
            "linecolor": "white",
            "showbackground": true,
            "ticks": "",
            "zerolinecolor": "white"
           }
          },
          "shapedefaults": {
           "line": {
            "color": "#2a3f5f"
           }
          },
          "ternary": {
           "aaxis": {
            "gridcolor": "white",
            "linecolor": "white",
            "ticks": ""
           },
           "baxis": {
            "gridcolor": "white",
            "linecolor": "white",
            "ticks": ""
           },
           "bgcolor": "#E5ECF6",
           "caxis": {
            "gridcolor": "white",
            "linecolor": "white",
            "ticks": ""
           }
          },
          "title": {
           "x": 0.05
          },
          "xaxis": {
           "automargin": true,
           "gridcolor": "white",
           "linecolor": "white",
           "ticks": "",
           "title": {
            "standoff": 15
           },
           "zerolinecolor": "white",
           "zerolinewidth": 2
          },
          "yaxis": {
           "automargin": true,
           "gridcolor": "white",
           "linecolor": "white",
           "ticks": "",
           "title": {
            "standoff": 15
           },
           "zerolinecolor": "white",
           "zerolinewidth": 2
          }
         }
        },
        "title": {
         "text": "Universities in Romania Ranked by Score"
        },
        "xaxis": {
         "anchor": "y",
         "domain": [
          0,
          1
         ],
         "title": {
          "text": "Score"
         }
        },
        "yaxis": {
         "anchor": "x",
         "domain": [
          0,
          1
         ],
         "title": {
          "text": "Institution"
         }
        }
       }
      }
     },
     "metadata": {},
     "output_type": "display_data"
    }
   ],
   "source": [
    "from matplotlib.pyplot import legend\n",
    "\n",
    "\n",
    "px.bar(x,'Score','Institution',labels='Score',title='Universities in Romania Ranked by Score',color='Score',color_continuous_scale=px.colors.sequential.Blugrn_r)"
   ]
  },
  {
   "cell_type": "code",
   "execution_count": 36,
   "id": "2635ca01",
   "metadata": {},
   "outputs": [
    {
     "data": {
      "application/vnd.plotly.v1+json": {
       "config": {
        "plotlyServerURL": "https://plot.ly"
       },
       "data": [
        {
         "hovertemplate": "World Rank=%{x}<br>Research Performance Rank=%{y}<br>size=%{marker.size}<extra></extra>",
         "legendgroup": "",
         "marker": {
          "color": "#636efa",
          "size": [
           900,
           800,
           700,
           600,
           500,
           400,
           300,
           200,
           100,
           0
          ],
          "sizemode": "area",
          "sizeref": 2.25,
          "symbol": "circle"
         },
         "mode": "markers",
         "name": "",
         "orientation": "h",
         "showlegend": false,
         "type": "scatter",
         "x": [
          871,
          891,
          1010,
          1162,
          1217,
          1452,
          1489,
          1639,
          1665,
          1928
         ],
         "xaxis": "x",
         "y": [
          "824",
          "846",
          "969",
          "1106",
          "1152",
          "1388",
          "1422",
          "1564",
          "1593",
          "1852"
         ],
         "yaxis": "y"
        }
       ],
       "layout": {
        "legend": {
         "itemsizing": "constant",
         "tracegroupgap": 0
        },
        "template": {
         "data": {
          "bar": [
           {
            "error_x": {
             "color": "#2a3f5f"
            },
            "error_y": {
             "color": "#2a3f5f"
            },
            "marker": {
             "line": {
              "color": "#E5ECF6",
              "width": 0.5
             },
             "pattern": {
              "fillmode": "overlay",
              "size": 10,
              "solidity": 0.2
             }
            },
            "type": "bar"
           }
          ],
          "barpolar": [
           {
            "marker": {
             "line": {
              "color": "#E5ECF6",
              "width": 0.5
             },
             "pattern": {
              "fillmode": "overlay",
              "size": 10,
              "solidity": 0.2
             }
            },
            "type": "barpolar"
           }
          ],
          "carpet": [
           {
            "aaxis": {
             "endlinecolor": "#2a3f5f",
             "gridcolor": "white",
             "linecolor": "white",
             "minorgridcolor": "white",
             "startlinecolor": "#2a3f5f"
            },
            "baxis": {
             "endlinecolor": "#2a3f5f",
             "gridcolor": "white",
             "linecolor": "white",
             "minorgridcolor": "white",
             "startlinecolor": "#2a3f5f"
            },
            "type": "carpet"
           }
          ],
          "choropleth": [
           {
            "colorbar": {
             "outlinewidth": 0,
             "ticks": ""
            },
            "type": "choropleth"
           }
          ],
          "contour": [
           {
            "colorbar": {
             "outlinewidth": 0,
             "ticks": ""
            },
            "colorscale": [
             [
              0,
              "#0d0887"
             ],
             [
              0.1111111111111111,
              "#46039f"
             ],
             [
              0.2222222222222222,
              "#7201a8"
             ],
             [
              0.3333333333333333,
              "#9c179e"
             ],
             [
              0.4444444444444444,
              "#bd3786"
             ],
             [
              0.5555555555555556,
              "#d8576b"
             ],
             [
              0.6666666666666666,
              "#ed7953"
             ],
             [
              0.7777777777777778,
              "#fb9f3a"
             ],
             [
              0.8888888888888888,
              "#fdca26"
             ],
             [
              1,
              "#f0f921"
             ]
            ],
            "type": "contour"
           }
          ],
          "contourcarpet": [
           {
            "colorbar": {
             "outlinewidth": 0,
             "ticks": ""
            },
            "type": "contourcarpet"
           }
          ],
          "heatmap": [
           {
            "colorbar": {
             "outlinewidth": 0,
             "ticks": ""
            },
            "colorscale": [
             [
              0,
              "#0d0887"
             ],
             [
              0.1111111111111111,
              "#46039f"
             ],
             [
              0.2222222222222222,
              "#7201a8"
             ],
             [
              0.3333333333333333,
              "#9c179e"
             ],
             [
              0.4444444444444444,
              "#bd3786"
             ],
             [
              0.5555555555555556,
              "#d8576b"
             ],
             [
              0.6666666666666666,
              "#ed7953"
             ],
             [
              0.7777777777777778,
              "#fb9f3a"
             ],
             [
              0.8888888888888888,
              "#fdca26"
             ],
             [
              1,
              "#f0f921"
             ]
            ],
            "type": "heatmap"
           }
          ],
          "heatmapgl": [
           {
            "colorbar": {
             "outlinewidth": 0,
             "ticks": ""
            },
            "colorscale": [
             [
              0,
              "#0d0887"
             ],
             [
              0.1111111111111111,
              "#46039f"
             ],
             [
              0.2222222222222222,
              "#7201a8"
             ],
             [
              0.3333333333333333,
              "#9c179e"
             ],
             [
              0.4444444444444444,
              "#bd3786"
             ],
             [
              0.5555555555555556,
              "#d8576b"
             ],
             [
              0.6666666666666666,
              "#ed7953"
             ],
             [
              0.7777777777777778,
              "#fb9f3a"
             ],
             [
              0.8888888888888888,
              "#fdca26"
             ],
             [
              1,
              "#f0f921"
             ]
            ],
            "type": "heatmapgl"
           }
          ],
          "histogram": [
           {
            "marker": {
             "pattern": {
              "fillmode": "overlay",
              "size": 10,
              "solidity": 0.2
             }
            },
            "type": "histogram"
           }
          ],
          "histogram2d": [
           {
            "colorbar": {
             "outlinewidth": 0,
             "ticks": ""
            },
            "colorscale": [
             [
              0,
              "#0d0887"
             ],
             [
              0.1111111111111111,
              "#46039f"
             ],
             [
              0.2222222222222222,
              "#7201a8"
             ],
             [
              0.3333333333333333,
              "#9c179e"
             ],
             [
              0.4444444444444444,
              "#bd3786"
             ],
             [
              0.5555555555555556,
              "#d8576b"
             ],
             [
              0.6666666666666666,
              "#ed7953"
             ],
             [
              0.7777777777777778,
              "#fb9f3a"
             ],
             [
              0.8888888888888888,
              "#fdca26"
             ],
             [
              1,
              "#f0f921"
             ]
            ],
            "type": "histogram2d"
           }
          ],
          "histogram2dcontour": [
           {
            "colorbar": {
             "outlinewidth": 0,
             "ticks": ""
            },
            "colorscale": [
             [
              0,
              "#0d0887"
             ],
             [
              0.1111111111111111,
              "#46039f"
             ],
             [
              0.2222222222222222,
              "#7201a8"
             ],
             [
              0.3333333333333333,
              "#9c179e"
             ],
             [
              0.4444444444444444,
              "#bd3786"
             ],
             [
              0.5555555555555556,
              "#d8576b"
             ],
             [
              0.6666666666666666,
              "#ed7953"
             ],
             [
              0.7777777777777778,
              "#fb9f3a"
             ],
             [
              0.8888888888888888,
              "#fdca26"
             ],
             [
              1,
              "#f0f921"
             ]
            ],
            "type": "histogram2dcontour"
           }
          ],
          "mesh3d": [
           {
            "colorbar": {
             "outlinewidth": 0,
             "ticks": ""
            },
            "type": "mesh3d"
           }
          ],
          "parcoords": [
           {
            "line": {
             "colorbar": {
              "outlinewidth": 0,
              "ticks": ""
             }
            },
            "type": "parcoords"
           }
          ],
          "pie": [
           {
            "automargin": true,
            "type": "pie"
           }
          ],
          "scatter": [
           {
            "fillpattern": {
             "fillmode": "overlay",
             "size": 10,
             "solidity": 0.2
            },
            "type": "scatter"
           }
          ],
          "scatter3d": [
           {
            "line": {
             "colorbar": {
              "outlinewidth": 0,
              "ticks": ""
             }
            },
            "marker": {
             "colorbar": {
              "outlinewidth": 0,
              "ticks": ""
             }
            },
            "type": "scatter3d"
           }
          ],
          "scattercarpet": [
           {
            "marker": {
             "colorbar": {
              "outlinewidth": 0,
              "ticks": ""
             }
            },
            "type": "scattercarpet"
           }
          ],
          "scattergeo": [
           {
            "marker": {
             "colorbar": {
              "outlinewidth": 0,
              "ticks": ""
             }
            },
            "type": "scattergeo"
           }
          ],
          "scattergl": [
           {
            "marker": {
             "colorbar": {
              "outlinewidth": 0,
              "ticks": ""
             }
            },
            "type": "scattergl"
           }
          ],
          "scattermapbox": [
           {
            "marker": {
             "colorbar": {
              "outlinewidth": 0,
              "ticks": ""
             }
            },
            "type": "scattermapbox"
           }
          ],
          "scatterpolar": [
           {
            "marker": {
             "colorbar": {
              "outlinewidth": 0,
              "ticks": ""
             }
            },
            "type": "scatterpolar"
           }
          ],
          "scatterpolargl": [
           {
            "marker": {
             "colorbar": {
              "outlinewidth": 0,
              "ticks": ""
             }
            },
            "type": "scatterpolargl"
           }
          ],
          "scatterternary": [
           {
            "marker": {
             "colorbar": {
              "outlinewidth": 0,
              "ticks": ""
             }
            },
            "type": "scatterternary"
           }
          ],
          "surface": [
           {
            "colorbar": {
             "outlinewidth": 0,
             "ticks": ""
            },
            "colorscale": [
             [
              0,
              "#0d0887"
             ],
             [
              0.1111111111111111,
              "#46039f"
             ],
             [
              0.2222222222222222,
              "#7201a8"
             ],
             [
              0.3333333333333333,
              "#9c179e"
             ],
             [
              0.4444444444444444,
              "#bd3786"
             ],
             [
              0.5555555555555556,
              "#d8576b"
             ],
             [
              0.6666666666666666,
              "#ed7953"
             ],
             [
              0.7777777777777778,
              "#fb9f3a"
             ],
             [
              0.8888888888888888,
              "#fdca26"
             ],
             [
              1,
              "#f0f921"
             ]
            ],
            "type": "surface"
           }
          ],
          "table": [
           {
            "cells": {
             "fill": {
              "color": "#EBF0F8"
             },
             "line": {
              "color": "white"
             }
            },
            "header": {
             "fill": {
              "color": "#C8D4E3"
             },
             "line": {
              "color": "white"
             }
            },
            "type": "table"
           }
          ]
         },
         "layout": {
          "annotationdefaults": {
           "arrowcolor": "#2a3f5f",
           "arrowhead": 0,
           "arrowwidth": 1
          },
          "autotypenumbers": "strict",
          "coloraxis": {
           "colorbar": {
            "outlinewidth": 0,
            "ticks": ""
           }
          },
          "colorscale": {
           "diverging": [
            [
             0,
             "#8e0152"
            ],
            [
             0.1,
             "#c51b7d"
            ],
            [
             0.2,
             "#de77ae"
            ],
            [
             0.3,
             "#f1b6da"
            ],
            [
             0.4,
             "#fde0ef"
            ],
            [
             0.5,
             "#f7f7f7"
            ],
            [
             0.6,
             "#e6f5d0"
            ],
            [
             0.7,
             "#b8e186"
            ],
            [
             0.8,
             "#7fbc41"
            ],
            [
             0.9,
             "#4d9221"
            ],
            [
             1,
             "#276419"
            ]
           ],
           "sequential": [
            [
             0,
             "#0d0887"
            ],
            [
             0.1111111111111111,
             "#46039f"
            ],
            [
             0.2222222222222222,
             "#7201a8"
            ],
            [
             0.3333333333333333,
             "#9c179e"
            ],
            [
             0.4444444444444444,
             "#bd3786"
            ],
            [
             0.5555555555555556,
             "#d8576b"
            ],
            [
             0.6666666666666666,
             "#ed7953"
            ],
            [
             0.7777777777777778,
             "#fb9f3a"
            ],
            [
             0.8888888888888888,
             "#fdca26"
            ],
            [
             1,
             "#f0f921"
            ]
           ],
           "sequentialminus": [
            [
             0,
             "#0d0887"
            ],
            [
             0.1111111111111111,
             "#46039f"
            ],
            [
             0.2222222222222222,
             "#7201a8"
            ],
            [
             0.3333333333333333,
             "#9c179e"
            ],
            [
             0.4444444444444444,
             "#bd3786"
            ],
            [
             0.5555555555555556,
             "#d8576b"
            ],
            [
             0.6666666666666666,
             "#ed7953"
            ],
            [
             0.7777777777777778,
             "#fb9f3a"
            ],
            [
             0.8888888888888888,
             "#fdca26"
            ],
            [
             1,
             "#f0f921"
            ]
           ]
          },
          "colorway": [
           "#636efa",
           "#EF553B",
           "#00cc96",
           "#ab63fa",
           "#FFA15A",
           "#19d3f3",
           "#FF6692",
           "#B6E880",
           "#FF97FF",
           "#FECB52"
          ],
          "font": {
           "color": "#2a3f5f"
          },
          "geo": {
           "bgcolor": "white",
           "lakecolor": "white",
           "landcolor": "#E5ECF6",
           "showlakes": true,
           "showland": true,
           "subunitcolor": "white"
          },
          "hoverlabel": {
           "align": "left"
          },
          "hovermode": "closest",
          "mapbox": {
           "style": "light"
          },
          "paper_bgcolor": "white",
          "plot_bgcolor": "#E5ECF6",
          "polar": {
           "angularaxis": {
            "gridcolor": "white",
            "linecolor": "white",
            "ticks": ""
           },
           "bgcolor": "#E5ECF6",
           "radialaxis": {
            "gridcolor": "white",
            "linecolor": "white",
            "ticks": ""
           }
          },
          "scene": {
           "xaxis": {
            "backgroundcolor": "#E5ECF6",
            "gridcolor": "white",
            "gridwidth": 2,
            "linecolor": "white",
            "showbackground": true,
            "ticks": "",
            "zerolinecolor": "white"
           },
           "yaxis": {
            "backgroundcolor": "#E5ECF6",
            "gridcolor": "white",
            "gridwidth": 2,
            "linecolor": "white",
            "showbackground": true,
            "ticks": "",
            "zerolinecolor": "white"
           },
           "zaxis": {
            "backgroundcolor": "#E5ECF6",
            "gridcolor": "white",
            "gridwidth": 2,
            "linecolor": "white",
            "showbackground": true,
            "ticks": "",
            "zerolinecolor": "white"
           }
          },
          "shapedefaults": {
           "line": {
            "color": "#2a3f5f"
           }
          },
          "ternary": {
           "aaxis": {
            "gridcolor": "white",
            "linecolor": "white",
            "ticks": ""
           },
           "baxis": {
            "gridcolor": "white",
            "linecolor": "white",
            "ticks": ""
           },
           "bgcolor": "#E5ECF6",
           "caxis": {
            "gridcolor": "white",
            "linecolor": "white",
            "ticks": ""
           }
          },
          "title": {
           "x": 0.05
          },
          "xaxis": {
           "automargin": true,
           "gridcolor": "white",
           "linecolor": "white",
           "ticks": "",
           "title": {
            "standoff": 15
           },
           "zerolinecolor": "white",
           "zerolinewidth": 2
          },
          "yaxis": {
           "automargin": true,
           "gridcolor": "white",
           "linecolor": "white",
           "ticks": "",
           "title": {
            "standoff": 15
           },
           "zerolinecolor": "white",
           "zerolinewidth": 2
          }
         }
        },
        "title": {
         "text": "Universities in Romania classified by Rank in the World and Research Performance Rank"
        },
        "xaxis": {
         "anchor": "y",
         "domain": [
          0,
          1
         ],
         "title": {
          "text": "World Rank"
         }
        },
        "yaxis": {
         "anchor": "x",
         "domain": [
          0,
          1
         ],
         "title": {
          "text": "Research Performance Rank"
         }
        }
       }
      }
     },
     "metadata": {},
     "output_type": "display_data"
    }
   ],
   "source": [
    "from matplotlib.pyplot import title, xlabel, ylabel\n",
    "size1 = [n*100 for n in range(0,len(x[\"World Rank\"]))]\n",
    "size1.reverse()\n",
    "fig = px.scatter(x, y=\"Research Performance Rank\", x=\"World Rank\",size=size1,title='Universities in Romania classified by Rank in the World and Research Performance Rank')\n",
    "\n",
    "fig.show()\n"
   ]
  },
  {
   "cell_type": "code",
   "execution_count": 37,
   "id": "f696396a",
   "metadata": {},
   "outputs": [],
   "source": [
    "#from cProfile import label\n",
    "#import plotly.graph_objects as go\n",
    "#fig=go.Figure()\n",
    "#fig.add_trace(go.Scatter(\n",
    "#    x=x['World Rank'],\n",
    "#    y=x['Research Performance Rank']\n",
    "#)\n",
    "#)\n",
    "#fig.update_layout(\n",
    "#    title=\"Universities in Romania classified by Rank in the World and Research Performance Rank\",\n",
    "#    xaxis_title=\"World Rank\",\n",
    "#    yaxis_title=\"Research Performance Rank\",\n",
    "#    legend_title=\"Legend Title\",\n",
    "#)"
   ]
  },
  {
   "cell_type": "code",
   "execution_count": null,
   "id": "d6aefba4",
   "metadata": {},
   "outputs": [],
   "source": []
  },
  {
   "cell_type": "code",
   "execution_count": 38,
   "id": "a9fdef35",
   "metadata": {},
   "outputs": [
    {
     "data": {
      "text/html": [
       "<div>\n",
       "<style scoped>\n",
       "    .dataframe tbody tr th:only-of-type {\n",
       "        vertical-align: middle;\n",
       "    }\n",
       "\n",
       "    .dataframe tbody tr th {\n",
       "        vertical-align: top;\n",
       "    }\n",
       "\n",
       "    .dataframe thead th {\n",
       "        text-align: right;\n",
       "    }\n",
       "</style>\n",
       "<table border=\"1\" class=\"dataframe\">\n",
       "  <thead>\n",
       "    <tr style=\"text-align: right;\">\n",
       "      <th></th>\n",
       "      <th>World Rank</th>\n",
       "      <th>Institution</th>\n",
       "      <th>Country</th>\n",
       "      <th>National Rank</th>\n",
       "      <th>Quality of Education Rank</th>\n",
       "      <th>Alumni Employment Rank</th>\n",
       "      <th>Quality of Faculty Rank</th>\n",
       "      <th>Research Performance Rank</th>\n",
       "      <th>Score</th>\n",
       "    </tr>\n",
       "  </thead>\n",
       "  <tbody>\n",
       "    <tr>\n",
       "      <th>206</th>\n",
       "      <td>207</td>\n",
       "      <td>University of Vienna</td>\n",
       "      <td>Austria</td>\n",
       "      <td>1</td>\n",
       "      <td>150</td>\n",
       "      <td>473</td>\n",
       "      <td>159</td>\n",
       "      <td>242</td>\n",
       "      <td>78.5</td>\n",
       "    </tr>\n",
       "    <tr>\n",
       "      <th>294</th>\n",
       "      <td>295</td>\n",
       "      <td>Medical University of Vienna</td>\n",
       "      <td>Austria</td>\n",
       "      <td>2</td>\n",
       "      <td>-</td>\n",
       "      <td>-</td>\n",
       "      <td>-</td>\n",
       "      <td>246</td>\n",
       "      <td>76.8</td>\n",
       "    </tr>\n",
       "    <tr>\n",
       "      <th>347</th>\n",
       "      <td>348</td>\n",
       "      <td>University of Belgrade</td>\n",
       "      <td>Serbia</td>\n",
       "      <td>1</td>\n",
       "      <td>472</td>\n",
       "      <td>-</td>\n",
       "      <td>-</td>\n",
       "      <td>311</td>\n",
       "      <td>76.0</td>\n",
       "    </tr>\n",
       "    <tr>\n",
       "      <th>374</th>\n",
       "      <td>375</td>\n",
       "      <td>University of Innsbruck</td>\n",
       "      <td>Austria</td>\n",
       "      <td>3</td>\n",
       "      <td>-</td>\n",
       "      <td>746</td>\n",
       "      <td>248</td>\n",
       "      <td>387</td>\n",
       "      <td>75.6</td>\n",
       "    </tr>\n",
       "    <tr>\n",
       "      <th>405</th>\n",
       "      <td>406</td>\n",
       "      <td>Vienna University of Technology</td>\n",
       "      <td>Austria</td>\n",
       "      <td>4</td>\n",
       "      <td>402</td>\n",
       "      <td>557</td>\n",
       "      <td>-</td>\n",
       "      <td>389</td>\n",
       "      <td>75.2</td>\n",
       "    </tr>\n",
       "    <tr>\n",
       "      <th>544</th>\n",
       "      <td>545</td>\n",
       "      <td>Medical University of Innsbruck</td>\n",
       "      <td>Austria</td>\n",
       "      <td>5</td>\n",
       "      <td>-</td>\n",
       "      <td>-</td>\n",
       "      <td>-</td>\n",
       "      <td>514</td>\n",
       "      <td>73.7</td>\n",
       "    </tr>\n",
       "    <tr>\n",
       "      <th>560</th>\n",
       "      <td>561</td>\n",
       "      <td>Medical University of Graz</td>\n",
       "      <td>Austria</td>\n",
       "      <td>6</td>\n",
       "      <td>-</td>\n",
       "      <td>-</td>\n",
       "      <td>-</td>\n",
       "      <td>528</td>\n",
       "      <td>73.5</td>\n",
       "    </tr>\n",
       "    <tr>\n",
       "      <th>562</th>\n",
       "      <td>563</td>\n",
       "      <td>University of Graz</td>\n",
       "      <td>Austria</td>\n",
       "      <td>7</td>\n",
       "      <td>438</td>\n",
       "      <td>1202</td>\n",
       "      <td>161</td>\n",
       "      <td>690</td>\n",
       "      <td>73.5</td>\n",
       "    </tr>\n",
       "    <tr>\n",
       "      <th>590</th>\n",
       "      <td>591</td>\n",
       "      <td>Eötvös Loránd University</td>\n",
       "      <td>Hungary</td>\n",
       "      <td>1</td>\n",
       "      <td>259</td>\n",
       "      <td>-</td>\n",
       "      <td>-</td>\n",
       "      <td>563</td>\n",
       "      <td>73.2</td>\n",
       "    </tr>\n",
       "    <tr>\n",
       "      <th>677</th>\n",
       "      <td>678</td>\n",
       "      <td>University of Szeged</td>\n",
       "      <td>Hungary</td>\n",
       "      <td>2</td>\n",
       "      <td>-</td>\n",
       "      <td>-</td>\n",
       "      <td>197</td>\n",
       "      <td>768</td>\n",
       "      <td>72.5</td>\n",
       "    </tr>\n",
       "    <tr>\n",
       "      <th>682</th>\n",
       "      <td>683</td>\n",
       "      <td>Semmelweis University</td>\n",
       "      <td>Hungary</td>\n",
       "      <td>3</td>\n",
       "      <td>-</td>\n",
       "      <td>-</td>\n",
       "      <td>-</td>\n",
       "      <td>649</td>\n",
       "      <td>72.4</td>\n",
       "    </tr>\n",
       "    <tr>\n",
       "      <th>694</th>\n",
       "      <td>695</td>\n",
       "      <td>University of Debrecen</td>\n",
       "      <td>Hungary</td>\n",
       "      <td>4</td>\n",
       "      <td>-</td>\n",
       "      <td>-</td>\n",
       "      <td>-</td>\n",
       "      <td>660</td>\n",
       "      <td>72.3</td>\n",
       "    </tr>\n",
       "    <tr>\n",
       "      <th>782</th>\n",
       "      <td>783</td>\n",
       "      <td>University of Natural Resources and Life Scien...</td>\n",
       "      <td>Austria</td>\n",
       "      <td>8</td>\n",
       "      <td>-</td>\n",
       "      <td>-</td>\n",
       "      <td>-</td>\n",
       "      <td>744</td>\n",
       "      <td>71.7</td>\n",
       "    </tr>\n",
       "    <tr>\n",
       "      <th>827</th>\n",
       "      <td>828</td>\n",
       "      <td>Graz University of Technology</td>\n",
       "      <td>Austria</td>\n",
       "      <td>9</td>\n",
       "      <td>-</td>\n",
       "      <td>-</td>\n",
       "      <td>-</td>\n",
       "      <td>789</td>\n",
       "      <td>71.3</td>\n",
       "    </tr>\n",
       "    <tr>\n",
       "      <th>870</th>\n",
       "      <td>871</td>\n",
       "      <td>Babeș-Bolyai University</td>\n",
       "      <td>Romania</td>\n",
       "      <td>1</td>\n",
       "      <td>-</td>\n",
       "      <td>-</td>\n",
       "      <td>-</td>\n",
       "      <td>824</td>\n",
       "      <td>71.0</td>\n",
       "    </tr>\n",
       "    <tr>\n",
       "      <th>886</th>\n",
       "      <td>887</td>\n",
       "      <td>Budapest University of Technology and Economics</td>\n",
       "      <td>Hungary</td>\n",
       "      <td>5</td>\n",
       "      <td>221</td>\n",
       "      <td>1476</td>\n",
       "      <td>-</td>\n",
       "      <td>871</td>\n",
       "      <td>70.9</td>\n",
       "    </tr>\n",
       "    <tr>\n",
       "      <th>890</th>\n",
       "      <td>891</td>\n",
       "      <td>Polytechnic University of Bucharest</td>\n",
       "      <td>Romania</td>\n",
       "      <td>2</td>\n",
       "      <td>-</td>\n",
       "      <td>-</td>\n",
       "      <td>-</td>\n",
       "      <td>846</td>\n",
       "      <td>70.9</td>\n",
       "    </tr>\n",
       "    <tr>\n",
       "      <th>925</th>\n",
       "      <td>926</td>\n",
       "      <td>Johannes Kepler University Linz</td>\n",
       "      <td>Austria</td>\n",
       "      <td>10</td>\n",
       "      <td>-</td>\n",
       "      <td>886</td>\n",
       "      <td>-</td>\n",
       "      <td>887</td>\n",
       "      <td>70.7</td>\n",
       "    </tr>\n",
       "    <tr>\n",
       "      <th>1009</th>\n",
       "      <td>1010</td>\n",
       "      <td>University of Bucharest</td>\n",
       "      <td>Romania</td>\n",
       "      <td>3</td>\n",
       "      <td>356</td>\n",
       "      <td>-</td>\n",
       "      <td>-</td>\n",
       "      <td>969</td>\n",
       "      <td>70.2</td>\n",
       "    </tr>\n",
       "    <tr>\n",
       "      <th>1069</th>\n",
       "      <td>1070</td>\n",
       "      <td>University of Salzburg</td>\n",
       "      <td>Austria</td>\n",
       "      <td>11</td>\n",
       "      <td>-</td>\n",
       "      <td>606</td>\n",
       "      <td>-</td>\n",
       "      <td>1041</td>\n",
       "      <td>69.8</td>\n",
       "    </tr>\n",
       "    <tr>\n",
       "      <th>1072</th>\n",
       "      <td>1073</td>\n",
       "      <td>Kharkov Institute of Physics and Technology</td>\n",
       "      <td>Ukraine</td>\n",
       "      <td>1</td>\n",
       "      <td>-</td>\n",
       "      <td>-</td>\n",
       "      <td>-</td>\n",
       "      <td>1028</td>\n",
       "      <td>69.8</td>\n",
       "    </tr>\n",
       "    <tr>\n",
       "      <th>1080</th>\n",
       "      <td>1081</td>\n",
       "      <td>Paracelsus Medical University</td>\n",
       "      <td>Austria</td>\n",
       "      <td>12</td>\n",
       "      <td>-</td>\n",
       "      <td>-</td>\n",
       "      <td>-</td>\n",
       "      <td>1035</td>\n",
       "      <td>69.8</td>\n",
       "    </tr>\n",
       "    <tr>\n",
       "      <th>1089</th>\n",
       "      <td>1090</td>\n",
       "      <td>University of Pécs</td>\n",
       "      <td>Hungary</td>\n",
       "      <td>6</td>\n",
       "      <td>-</td>\n",
       "      <td>-</td>\n",
       "      <td>-</td>\n",
       "      <td>1045</td>\n",
       "      <td>69.7</td>\n",
       "    </tr>\n",
       "    <tr>\n",
       "      <th>1083</th>\n",
       "      <td>1084</td>\n",
       "      <td>University of Novi Sad</td>\n",
       "      <td>Serbia</td>\n",
       "      <td>2</td>\n",
       "      <td>-</td>\n",
       "      <td>-</td>\n",
       "      <td>-</td>\n",
       "      <td>1037</td>\n",
       "      <td>69.7</td>\n",
       "    </tr>\n",
       "    <tr>\n",
       "      <th>1103</th>\n",
       "      <td>1104</td>\n",
       "      <td>University of Veterinary Medicine, Vienna</td>\n",
       "      <td>Austria</td>\n",
       "      <td>13</td>\n",
       "      <td>-</td>\n",
       "      <td>-</td>\n",
       "      <td>-</td>\n",
       "      <td>1057</td>\n",
       "      <td>69.6</td>\n",
       "    </tr>\n",
       "    <tr>\n",
       "      <th>1111</th>\n",
       "      <td>1112</td>\n",
       "      <td>Institute of Science and Technology Austria</td>\n",
       "      <td>Austria</td>\n",
       "      <td>14</td>\n",
       "      <td>-</td>\n",
       "      <td>-</td>\n",
       "      <td>196</td>\n",
       "      <td>1361</td>\n",
       "      <td>69.6</td>\n",
       "    </tr>\n",
       "    <tr>\n",
       "      <th>1161</th>\n",
       "      <td>1162</td>\n",
       "      <td>West University of Timișoara</td>\n",
       "      <td>Romania</td>\n",
       "      <td>4</td>\n",
       "      <td>-</td>\n",
       "      <td>-</td>\n",
       "      <td>-</td>\n",
       "      <td>1106</td>\n",
       "      <td>69.3</td>\n",
       "    </tr>\n",
       "    <tr>\n",
       "      <th>1216</th>\n",
       "      <td>1217</td>\n",
       "      <td>Carol Davila University of Medicine and Pharmacy</td>\n",
       "      <td>Romania</td>\n",
       "      <td>5</td>\n",
       "      <td>-</td>\n",
       "      <td>-</td>\n",
       "      <td>-</td>\n",
       "      <td>1152</td>\n",
       "      <td>69.0</td>\n",
       "    </tr>\n",
       "    <tr>\n",
       "      <th>1399</th>\n",
       "      <td>1400</td>\n",
       "      <td>Taras Shevchenko National University of Kyiv</td>\n",
       "      <td>Ukraine</td>\n",
       "      <td>2</td>\n",
       "      <td>-</td>\n",
       "      <td>-</td>\n",
       "      <td>-</td>\n",
       "      <td>1334</td>\n",
       "      <td>68.1</td>\n",
       "    </tr>\n",
       "    <tr>\n",
       "      <th>1451</th>\n",
       "      <td>1452</td>\n",
       "      <td>Alexandru Ioan Cuza University of Iaşi</td>\n",
       "      <td>Romania</td>\n",
       "      <td>6</td>\n",
       "      <td>-</td>\n",
       "      <td>-</td>\n",
       "      <td>-</td>\n",
       "      <td>1388</td>\n",
       "      <td>67.9</td>\n",
       "    </tr>\n",
       "    <tr>\n",
       "      <th>1488</th>\n",
       "      <td>1489</td>\n",
       "      <td>Iuliu Hațieganu University of Medicine and Pha...</td>\n",
       "      <td>Romania</td>\n",
       "      <td>7</td>\n",
       "      <td>-</td>\n",
       "      <td>-</td>\n",
       "      <td>-</td>\n",
       "      <td>1422</td>\n",
       "      <td>67.7</td>\n",
       "    </tr>\n",
       "    <tr>\n",
       "      <th>1516</th>\n",
       "      <td>1517</td>\n",
       "      <td>Vienna University of Economics and Business</td>\n",
       "      <td>Austria</td>\n",
       "      <td>15</td>\n",
       "      <td>-</td>\n",
       "      <td>139</td>\n",
       "      <td>-</td>\n",
       "      <td>1889</td>\n",
       "      <td>67.6</td>\n",
       "    </tr>\n",
       "    <tr>\n",
       "      <th>1579</th>\n",
       "      <td>1580</td>\n",
       "      <td>University of Niš</td>\n",
       "      <td>Serbia</td>\n",
       "      <td>3</td>\n",
       "      <td>-</td>\n",
       "      <td>-</td>\n",
       "      <td>-</td>\n",
       "      <td>1508</td>\n",
       "      <td>67.3</td>\n",
       "    </tr>\n",
       "    <tr>\n",
       "      <th>1641</th>\n",
       "      <td>1642</td>\n",
       "      <td>University of Leoben</td>\n",
       "      <td>Austria</td>\n",
       "      <td>16</td>\n",
       "      <td>-</td>\n",
       "      <td>-</td>\n",
       "      <td>-</td>\n",
       "      <td>1567</td>\n",
       "      <td>67.1</td>\n",
       "    </tr>\n",
       "    <tr>\n",
       "      <th>1638</th>\n",
       "      <td>1639</td>\n",
       "      <td>Grigore T. Popa University of Medicine and Pha...</td>\n",
       "      <td>Romania</td>\n",
       "      <td>8</td>\n",
       "      <td>-</td>\n",
       "      <td>-</td>\n",
       "      <td>-</td>\n",
       "      <td>1564</td>\n",
       "      <td>67.1</td>\n",
       "    </tr>\n",
       "    <tr>\n",
       "      <th>1652</th>\n",
       "      <td>1653</td>\n",
       "      <td>University of Kragujevac</td>\n",
       "      <td>Serbia</td>\n",
       "      <td>4</td>\n",
       "      <td>-</td>\n",
       "      <td>-</td>\n",
       "      <td>-</td>\n",
       "      <td>1581</td>\n",
       "      <td>67.0</td>\n",
       "    </tr>\n",
       "    <tr>\n",
       "      <th>1664</th>\n",
       "      <td>1665</td>\n",
       "      <td>Transilvania University of Brașov</td>\n",
       "      <td>Romania</td>\n",
       "      <td>9</td>\n",
       "      <td>-</td>\n",
       "      <td>-</td>\n",
       "      <td>-</td>\n",
       "      <td>1593</td>\n",
       "      <td>67.0</td>\n",
       "    </tr>\n",
       "    <tr>\n",
       "      <th>1668</th>\n",
       "      <td>1669</td>\n",
       "      <td>Central European University</td>\n",
       "      <td>Hungary</td>\n",
       "      <td>7</td>\n",
       "      <td>-</td>\n",
       "      <td>-</td>\n",
       "      <td>-</td>\n",
       "      <td>1598</td>\n",
       "      <td>67.0</td>\n",
       "    </tr>\n",
       "    <tr>\n",
       "      <th>1677</th>\n",
       "      <td>1678</td>\n",
       "      <td>Institute for Nuclear Research of the National...</td>\n",
       "      <td>Ukraine</td>\n",
       "      <td>3</td>\n",
       "      <td>-</td>\n",
       "      <td>-</td>\n",
       "      <td>-</td>\n",
       "      <td>1605</td>\n",
       "      <td>66.9</td>\n",
       "    </tr>\n",
       "    <tr>\n",
       "      <th>1715</th>\n",
       "      <td>1716</td>\n",
       "      <td>V.M. Glushkov Institute of Cybernetics of the ...</td>\n",
       "      <td>Ukraine</td>\n",
       "      <td>4</td>\n",
       "      <td>-</td>\n",
       "      <td>-</td>\n",
       "      <td>-</td>\n",
       "      <td>1646</td>\n",
       "      <td>66.8</td>\n",
       "    </tr>\n",
       "    <tr>\n",
       "      <th>1735</th>\n",
       "      <td>1736</td>\n",
       "      <td>N.N. Bogolyubov Institute for Theoretical Phys...</td>\n",
       "      <td>Ukraine</td>\n",
       "      <td>5</td>\n",
       "      <td>-</td>\n",
       "      <td>-</td>\n",
       "      <td>-</td>\n",
       "      <td>1660</td>\n",
       "      <td>66.7</td>\n",
       "    </tr>\n",
       "    <tr>\n",
       "      <th>1927</th>\n",
       "      <td>1928</td>\n",
       "      <td>Victor Babeș University of Medicine and Pharma...</td>\n",
       "      <td>Romania</td>\n",
       "      <td>10</td>\n",
       "      <td>-</td>\n",
       "      <td>-</td>\n",
       "      <td>-</td>\n",
       "      <td>1852</td>\n",
       "      <td>66.0</td>\n",
       "    </tr>\n",
       "    <tr>\n",
       "      <th>1948</th>\n",
       "      <td>1949</td>\n",
       "      <td>University of Pannonia</td>\n",
       "      <td>Hungary</td>\n",
       "      <td>8</td>\n",
       "      <td>-</td>\n",
       "      <td>-</td>\n",
       "      <td>-</td>\n",
       "      <td>1874</td>\n",
       "      <td>65.9</td>\n",
       "    </tr>\n",
       "    <tr>\n",
       "      <th>1965</th>\n",
       "      <td>1966</td>\n",
       "      <td>B. Verkin Institute for Low Temperature Physic...</td>\n",
       "      <td>Ukraine</td>\n",
       "      <td>6</td>\n",
       "      <td>-</td>\n",
       "      <td>-</td>\n",
       "      <td>235</td>\n",
       "      <td>-</td>\n",
       "      <td>65.9</td>\n",
       "    </tr>\n",
       "    <tr>\n",
       "      <th>1973</th>\n",
       "      <td>1974</td>\n",
       "      <td>Danube University Krems</td>\n",
       "      <td>Austria</td>\n",
       "      <td>17</td>\n",
       "      <td>-</td>\n",
       "      <td>-</td>\n",
       "      <td>-</td>\n",
       "      <td>1899</td>\n",
       "      <td>65.8</td>\n",
       "    </tr>\n",
       "  </tbody>\n",
       "</table>\n",
       "</div>"
      ],
      "text/plain": [
       "      World Rank                                        Institution  Country  \\\n",
       "206          207                               University of Vienna  Austria   \n",
       "294          295                       Medical University of Vienna  Austria   \n",
       "347          348                             University of Belgrade   Serbia   \n",
       "374          375                            University of Innsbruck  Austria   \n",
       "405          406                    Vienna University of Technology  Austria   \n",
       "544          545                    Medical University of Innsbruck  Austria   \n",
       "560          561                         Medical University of Graz  Austria   \n",
       "562          563                                 University of Graz  Austria   \n",
       "590          591                           Eötvös Loránd University  Hungary   \n",
       "677          678                               University of Szeged  Hungary   \n",
       "682          683                              Semmelweis University  Hungary   \n",
       "694          695                             University of Debrecen  Hungary   \n",
       "782          783  University of Natural Resources and Life Scien...  Austria   \n",
       "827          828                      Graz University of Technology  Austria   \n",
       "870          871                            Babeș-Bolyai University  Romania   \n",
       "886          887    Budapest University of Technology and Economics  Hungary   \n",
       "890          891                Polytechnic University of Bucharest  Romania   \n",
       "925          926                    Johannes Kepler University Linz  Austria   \n",
       "1009        1010                            University of Bucharest  Romania   \n",
       "1069        1070                             University of Salzburg  Austria   \n",
       "1072        1073        Kharkov Institute of Physics and Technology  Ukraine   \n",
       "1080        1081                      Paracelsus Medical University  Austria   \n",
       "1089        1090                                 University of Pécs  Hungary   \n",
       "1083        1084                             University of Novi Sad   Serbia   \n",
       "1103        1104          University of Veterinary Medicine, Vienna  Austria   \n",
       "1111        1112        Institute of Science and Technology Austria  Austria   \n",
       "1161        1162                       West University of Timișoara  Romania   \n",
       "1216        1217   Carol Davila University of Medicine and Pharmacy  Romania   \n",
       "1399        1400       Taras Shevchenko National University of Kyiv  Ukraine   \n",
       "1451        1452             Alexandru Ioan Cuza University of Iaşi  Romania   \n",
       "1488        1489  Iuliu Hațieganu University of Medicine and Pha...  Romania   \n",
       "1516        1517        Vienna University of Economics and Business  Austria   \n",
       "1579        1580                                  University of Niš   Serbia   \n",
       "1641        1642                               University of Leoben  Austria   \n",
       "1638        1639  Grigore T. Popa University of Medicine and Pha...  Romania   \n",
       "1652        1653                           University of Kragujevac   Serbia   \n",
       "1664        1665                  Transilvania University of Brașov  Romania   \n",
       "1668        1669                        Central European University  Hungary   \n",
       "1677        1678  Institute for Nuclear Research of the National...  Ukraine   \n",
       "1715        1716  V.M. Glushkov Institute of Cybernetics of the ...  Ukraine   \n",
       "1735        1736  N.N. Bogolyubov Institute for Theoretical Phys...  Ukraine   \n",
       "1927        1928  Victor Babeș University of Medicine and Pharma...  Romania   \n",
       "1948        1949                             University of Pannonia  Hungary   \n",
       "1965        1966  B. Verkin Institute for Low Temperature Physic...  Ukraine   \n",
       "1973        1974                            Danube University Krems  Austria   \n",
       "\n",
       "      National Rank Quality of Education Rank Alumni Employment Rank  \\\n",
       "206               1                       150                    473   \n",
       "294               2                         -                      -   \n",
       "347               1                       472                      -   \n",
       "374               3                         -                    746   \n",
       "405               4                       402                    557   \n",
       "544               5                         -                      -   \n",
       "560               6                         -                      -   \n",
       "562               7                       438                   1202   \n",
       "590               1                       259                      -   \n",
       "677               2                         -                      -   \n",
       "682               3                         -                      -   \n",
       "694               4                         -                      -   \n",
       "782               8                         -                      -   \n",
       "827               9                         -                      -   \n",
       "870               1                         -                      -   \n",
       "886               5                       221                   1476   \n",
       "890               2                         -                      -   \n",
       "925              10                         -                    886   \n",
       "1009              3                       356                      -   \n",
       "1069             11                         -                    606   \n",
       "1072              1                         -                      -   \n",
       "1080             12                         -                      -   \n",
       "1089              6                         -                      -   \n",
       "1083              2                         -                      -   \n",
       "1103             13                         -                      -   \n",
       "1111             14                         -                      -   \n",
       "1161              4                         -                      -   \n",
       "1216              5                         -                      -   \n",
       "1399              2                         -                      -   \n",
       "1451              6                         -                      -   \n",
       "1488              7                         -                      -   \n",
       "1516             15                         -                    139   \n",
       "1579              3                         -                      -   \n",
       "1641             16                         -                      -   \n",
       "1638              8                         -                      -   \n",
       "1652              4                         -                      -   \n",
       "1664              9                         -                      -   \n",
       "1668              7                         -                      -   \n",
       "1677              3                         -                      -   \n",
       "1715              4                         -                      -   \n",
       "1735              5                         -                      -   \n",
       "1927             10                         -                      -   \n",
       "1948              8                         -                      -   \n",
       "1965              6                         -                      -   \n",
       "1973             17                         -                      -   \n",
       "\n",
       "     Quality of Faculty Rank Research Performance Rank  Score  \n",
       "206                      159                       242   78.5  \n",
       "294                        -                       246   76.8  \n",
       "347                        -                       311   76.0  \n",
       "374                      248                       387   75.6  \n",
       "405                        -                       389   75.2  \n",
       "544                        -                       514   73.7  \n",
       "560                        -                       528   73.5  \n",
       "562                      161                       690   73.5  \n",
       "590                        -                       563   73.2  \n",
       "677                      197                       768   72.5  \n",
       "682                        -                       649   72.4  \n",
       "694                        -                       660   72.3  \n",
       "782                        -                       744   71.7  \n",
       "827                        -                       789   71.3  \n",
       "870                        -                       824   71.0  \n",
       "886                        -                       871   70.9  \n",
       "890                        -                       846   70.9  \n",
       "925                        -                       887   70.7  \n",
       "1009                       -                       969   70.2  \n",
       "1069                       -                      1041   69.8  \n",
       "1072                       -                      1028   69.8  \n",
       "1080                       -                      1035   69.8  \n",
       "1089                       -                      1045   69.7  \n",
       "1083                       -                      1037   69.7  \n",
       "1103                       -                      1057   69.6  \n",
       "1111                     196                      1361   69.6  \n",
       "1161                       -                      1106   69.3  \n",
       "1216                       -                      1152   69.0  \n",
       "1399                       -                      1334   68.1  \n",
       "1451                       -                      1388   67.9  \n",
       "1488                       -                      1422   67.7  \n",
       "1516                       -                      1889   67.6  \n",
       "1579                       -                      1508   67.3  \n",
       "1641                       -                      1567   67.1  \n",
       "1638                       -                      1564   67.1  \n",
       "1652                       -                      1581   67.0  \n",
       "1664                       -                      1593   67.0  \n",
       "1668                       -                      1598   67.0  \n",
       "1677                       -                      1605   66.9  \n",
       "1715                       -                      1646   66.8  \n",
       "1735                       -                      1660   66.7  \n",
       "1927                       -                      1852   66.0  \n",
       "1948                       -                      1874   65.9  \n",
       "1965                     235                         -   65.9  \n",
       "1973                       -                      1899   65.8  "
      ]
     },
     "execution_count": 38,
     "metadata": {},
     "output_type": "execute_result"
    }
   ],
   "source": [
    "from pandas import DataFrame\n",
    "new=df.loc[(df['Country']=='Romania') | (df['Country'] == 'Hungary') \n",
    "| ((df['Country'] == 'Serbia')| (df['Country'] == 'Austria')| (df['Country'] == 'Ukraine'))]\n",
    "new.sort_values('Score',ascending=False)"
   ]
  },
  {
   "cell_type": "code",
   "execution_count": 39,
   "id": "748828af",
   "metadata": {},
   "outputs": [
    {
     "data": {
      "text/html": [
       "<div>\n",
       "<style scoped>\n",
       "    .dataframe tbody tr th:only-of-type {\n",
       "        vertical-align: middle;\n",
       "    }\n",
       "\n",
       "    .dataframe tbody tr th {\n",
       "        vertical-align: top;\n",
       "    }\n",
       "\n",
       "    .dataframe thead th {\n",
       "        text-align: right;\n",
       "    }\n",
       "</style>\n",
       "<table border=\"1\" class=\"dataframe\">\n",
       "  <thead>\n",
       "    <tr style=\"text-align: right;\">\n",
       "      <th></th>\n",
       "      <th>World Rank</th>\n",
       "      <th>Institution</th>\n",
       "      <th>Country</th>\n",
       "      <th>National Rank</th>\n",
       "      <th>Quality of Education Rank</th>\n",
       "      <th>Alumni Employment Rank</th>\n",
       "      <th>Quality of Faculty Rank</th>\n",
       "      <th>Research Performance Rank</th>\n",
       "      <th>Score</th>\n",
       "    </tr>\n",
       "  </thead>\n",
       "  <tbody>\n",
       "    <tr>\n",
       "      <th>206</th>\n",
       "      <td>207</td>\n",
       "      <td>University of Vienna</td>\n",
       "      <td>Austria</td>\n",
       "      <td>1</td>\n",
       "      <td>150</td>\n",
       "      <td>473</td>\n",
       "      <td>159</td>\n",
       "      <td>242</td>\n",
       "      <td>78.5</td>\n",
       "    </tr>\n",
       "    <tr>\n",
       "      <th>294</th>\n",
       "      <td>295</td>\n",
       "      <td>Medical University of Vienna</td>\n",
       "      <td>Austria</td>\n",
       "      <td>2</td>\n",
       "      <td>-</td>\n",
       "      <td>-</td>\n",
       "      <td>-</td>\n",
       "      <td>246</td>\n",
       "      <td>76.8</td>\n",
       "    </tr>\n",
       "    <tr>\n",
       "      <th>347</th>\n",
       "      <td>348</td>\n",
       "      <td>University of Belgrade</td>\n",
       "      <td>Serbia</td>\n",
       "      <td>1</td>\n",
       "      <td>472</td>\n",
       "      <td>-</td>\n",
       "      <td>-</td>\n",
       "      <td>311</td>\n",
       "      <td>76.0</td>\n",
       "    </tr>\n",
       "    <tr>\n",
       "      <th>374</th>\n",
       "      <td>375</td>\n",
       "      <td>University of Innsbruck</td>\n",
       "      <td>Austria</td>\n",
       "      <td>3</td>\n",
       "      <td>-</td>\n",
       "      <td>746</td>\n",
       "      <td>248</td>\n",
       "      <td>387</td>\n",
       "      <td>75.6</td>\n",
       "    </tr>\n",
       "    <tr>\n",
       "      <th>405</th>\n",
       "      <td>406</td>\n",
       "      <td>Vienna University of Technology</td>\n",
       "      <td>Austria</td>\n",
       "      <td>4</td>\n",
       "      <td>402</td>\n",
       "      <td>557</td>\n",
       "      <td>-</td>\n",
       "      <td>389</td>\n",
       "      <td>75.2</td>\n",
       "    </tr>\n",
       "    <tr>\n",
       "      <th>544</th>\n",
       "      <td>545</td>\n",
       "      <td>Medical University of Innsbruck</td>\n",
       "      <td>Austria</td>\n",
       "      <td>5</td>\n",
       "      <td>-</td>\n",
       "      <td>-</td>\n",
       "      <td>-</td>\n",
       "      <td>514</td>\n",
       "      <td>73.7</td>\n",
       "    </tr>\n",
       "    <tr>\n",
       "      <th>560</th>\n",
       "      <td>561</td>\n",
       "      <td>Medical University of Graz</td>\n",
       "      <td>Austria</td>\n",
       "      <td>6</td>\n",
       "      <td>-</td>\n",
       "      <td>-</td>\n",
       "      <td>-</td>\n",
       "      <td>528</td>\n",
       "      <td>73.5</td>\n",
       "    </tr>\n",
       "    <tr>\n",
       "      <th>562</th>\n",
       "      <td>563</td>\n",
       "      <td>University of Graz</td>\n",
       "      <td>Austria</td>\n",
       "      <td>7</td>\n",
       "      <td>438</td>\n",
       "      <td>1202</td>\n",
       "      <td>161</td>\n",
       "      <td>690</td>\n",
       "      <td>73.5</td>\n",
       "    </tr>\n",
       "    <tr>\n",
       "      <th>590</th>\n",
       "      <td>591</td>\n",
       "      <td>Eötvös Loránd University</td>\n",
       "      <td>Hungary</td>\n",
       "      <td>1</td>\n",
       "      <td>259</td>\n",
       "      <td>-</td>\n",
       "      <td>-</td>\n",
       "      <td>563</td>\n",
       "      <td>73.2</td>\n",
       "    </tr>\n",
       "    <tr>\n",
       "      <th>677</th>\n",
       "      <td>678</td>\n",
       "      <td>University of Szeged</td>\n",
       "      <td>Hungary</td>\n",
       "      <td>2</td>\n",
       "      <td>-</td>\n",
       "      <td>-</td>\n",
       "      <td>197</td>\n",
       "      <td>768</td>\n",
       "      <td>72.5</td>\n",
       "    </tr>\n",
       "  </tbody>\n",
       "</table>\n",
       "</div>"
      ],
      "text/plain": [
       "     World Rank                      Institution  Country  National Rank  \\\n",
       "206         207             University of Vienna  Austria              1   \n",
       "294         295     Medical University of Vienna  Austria              2   \n",
       "347         348           University of Belgrade   Serbia              1   \n",
       "374         375          University of Innsbruck  Austria              3   \n",
       "405         406  Vienna University of Technology  Austria              4   \n",
       "544         545  Medical University of Innsbruck  Austria              5   \n",
       "560         561       Medical University of Graz  Austria              6   \n",
       "562         563               University of Graz  Austria              7   \n",
       "590         591         Eötvös Loránd University  Hungary              1   \n",
       "677         678             University of Szeged  Hungary              2   \n",
       "\n",
       "    Quality of Education Rank Alumni Employment Rank Quality of Faculty Rank  \\\n",
       "206                       150                    473                     159   \n",
       "294                         -                      -                       -   \n",
       "347                       472                      -                       -   \n",
       "374                         -                    746                     248   \n",
       "405                       402                    557                       -   \n",
       "544                         -                      -                       -   \n",
       "560                         -                      -                       -   \n",
       "562                       438                   1202                     161   \n",
       "590                       259                      -                       -   \n",
       "677                         -                      -                     197   \n",
       "\n",
       "    Research Performance Rank  Score  \n",
       "206                       242   78.5  \n",
       "294                       246   76.8  \n",
       "347                       311   76.0  \n",
       "374                       387   75.6  \n",
       "405                       389   75.2  \n",
       "544                       514   73.7  \n",
       "560                       528   73.5  \n",
       "562                       690   73.5  \n",
       "590                       563   73.2  \n",
       "677                       768   72.5  "
      ]
     },
     "execution_count": 39,
     "metadata": {},
     "output_type": "execute_result"
    }
   ],
   "source": [
    "new1=new[:10].sort_values('Score',ascending=False)\n",
    "new1\n"
   ]
  },
  {
   "cell_type": "code",
   "execution_count": 40,
   "id": "604f2084",
   "metadata": {},
   "outputs": [
    {
     "data": {
      "application/vnd.plotly.v1+json": {
       "config": {
        "plotlyServerURL": "https://plot.ly"
       },
       "data": [
        {
         "alignmentgroup": "True",
         "hovertemplate": "Score=%{x}<br>Institution=%{y}<extra></extra>",
         "legendgroup": "",
         "marker": {
          "color": "#636efa",
          "pattern": {
           "shape": ""
          }
         },
         "name": "",
         "offsetgroup": "",
         "orientation": "h",
         "showlegend": false,
         "textposition": "auto",
         "type": "bar",
         "x": [
          78.5,
          76.8,
          76,
          75.6,
          75.2,
          73.7,
          73.5,
          73.5,
          73.2,
          72.5
         ],
         "xaxis": "x",
         "y": [
          "University of Vienna",
          "Medical University of Vienna",
          "University of Belgrade",
          "University of Innsbruck",
          "Vienna University of Technology",
          "Medical University of Innsbruck",
          "Medical University of Graz",
          "University of Graz",
          "Eötvös Loránd University",
          "University of Szeged"
         ],
         "yaxis": "y"
        }
       ],
       "layout": {
        "barmode": "relative",
        "legend": {
         "tracegroupgap": 0
        },
        "template": {
         "data": {
          "bar": [
           {
            "error_x": {
             "color": "#2a3f5f"
            },
            "error_y": {
             "color": "#2a3f5f"
            },
            "marker": {
             "line": {
              "color": "#E5ECF6",
              "width": 0.5
             },
             "pattern": {
              "fillmode": "overlay",
              "size": 10,
              "solidity": 0.2
             }
            },
            "type": "bar"
           }
          ],
          "barpolar": [
           {
            "marker": {
             "line": {
              "color": "#E5ECF6",
              "width": 0.5
             },
             "pattern": {
              "fillmode": "overlay",
              "size": 10,
              "solidity": 0.2
             }
            },
            "type": "barpolar"
           }
          ],
          "carpet": [
           {
            "aaxis": {
             "endlinecolor": "#2a3f5f",
             "gridcolor": "white",
             "linecolor": "white",
             "minorgridcolor": "white",
             "startlinecolor": "#2a3f5f"
            },
            "baxis": {
             "endlinecolor": "#2a3f5f",
             "gridcolor": "white",
             "linecolor": "white",
             "minorgridcolor": "white",
             "startlinecolor": "#2a3f5f"
            },
            "type": "carpet"
           }
          ],
          "choropleth": [
           {
            "colorbar": {
             "outlinewidth": 0,
             "ticks": ""
            },
            "type": "choropleth"
           }
          ],
          "contour": [
           {
            "colorbar": {
             "outlinewidth": 0,
             "ticks": ""
            },
            "colorscale": [
             [
              0,
              "#0d0887"
             ],
             [
              0.1111111111111111,
              "#46039f"
             ],
             [
              0.2222222222222222,
              "#7201a8"
             ],
             [
              0.3333333333333333,
              "#9c179e"
             ],
             [
              0.4444444444444444,
              "#bd3786"
             ],
             [
              0.5555555555555556,
              "#d8576b"
             ],
             [
              0.6666666666666666,
              "#ed7953"
             ],
             [
              0.7777777777777778,
              "#fb9f3a"
             ],
             [
              0.8888888888888888,
              "#fdca26"
             ],
             [
              1,
              "#f0f921"
             ]
            ],
            "type": "contour"
           }
          ],
          "contourcarpet": [
           {
            "colorbar": {
             "outlinewidth": 0,
             "ticks": ""
            },
            "type": "contourcarpet"
           }
          ],
          "heatmap": [
           {
            "colorbar": {
             "outlinewidth": 0,
             "ticks": ""
            },
            "colorscale": [
             [
              0,
              "#0d0887"
             ],
             [
              0.1111111111111111,
              "#46039f"
             ],
             [
              0.2222222222222222,
              "#7201a8"
             ],
             [
              0.3333333333333333,
              "#9c179e"
             ],
             [
              0.4444444444444444,
              "#bd3786"
             ],
             [
              0.5555555555555556,
              "#d8576b"
             ],
             [
              0.6666666666666666,
              "#ed7953"
             ],
             [
              0.7777777777777778,
              "#fb9f3a"
             ],
             [
              0.8888888888888888,
              "#fdca26"
             ],
             [
              1,
              "#f0f921"
             ]
            ],
            "type": "heatmap"
           }
          ],
          "heatmapgl": [
           {
            "colorbar": {
             "outlinewidth": 0,
             "ticks": ""
            },
            "colorscale": [
             [
              0,
              "#0d0887"
             ],
             [
              0.1111111111111111,
              "#46039f"
             ],
             [
              0.2222222222222222,
              "#7201a8"
             ],
             [
              0.3333333333333333,
              "#9c179e"
             ],
             [
              0.4444444444444444,
              "#bd3786"
             ],
             [
              0.5555555555555556,
              "#d8576b"
             ],
             [
              0.6666666666666666,
              "#ed7953"
             ],
             [
              0.7777777777777778,
              "#fb9f3a"
             ],
             [
              0.8888888888888888,
              "#fdca26"
             ],
             [
              1,
              "#f0f921"
             ]
            ],
            "type": "heatmapgl"
           }
          ],
          "histogram": [
           {
            "marker": {
             "pattern": {
              "fillmode": "overlay",
              "size": 10,
              "solidity": 0.2
             }
            },
            "type": "histogram"
           }
          ],
          "histogram2d": [
           {
            "colorbar": {
             "outlinewidth": 0,
             "ticks": ""
            },
            "colorscale": [
             [
              0,
              "#0d0887"
             ],
             [
              0.1111111111111111,
              "#46039f"
             ],
             [
              0.2222222222222222,
              "#7201a8"
             ],
             [
              0.3333333333333333,
              "#9c179e"
             ],
             [
              0.4444444444444444,
              "#bd3786"
             ],
             [
              0.5555555555555556,
              "#d8576b"
             ],
             [
              0.6666666666666666,
              "#ed7953"
             ],
             [
              0.7777777777777778,
              "#fb9f3a"
             ],
             [
              0.8888888888888888,
              "#fdca26"
             ],
             [
              1,
              "#f0f921"
             ]
            ],
            "type": "histogram2d"
           }
          ],
          "histogram2dcontour": [
           {
            "colorbar": {
             "outlinewidth": 0,
             "ticks": ""
            },
            "colorscale": [
             [
              0,
              "#0d0887"
             ],
             [
              0.1111111111111111,
              "#46039f"
             ],
             [
              0.2222222222222222,
              "#7201a8"
             ],
             [
              0.3333333333333333,
              "#9c179e"
             ],
             [
              0.4444444444444444,
              "#bd3786"
             ],
             [
              0.5555555555555556,
              "#d8576b"
             ],
             [
              0.6666666666666666,
              "#ed7953"
             ],
             [
              0.7777777777777778,
              "#fb9f3a"
             ],
             [
              0.8888888888888888,
              "#fdca26"
             ],
             [
              1,
              "#f0f921"
             ]
            ],
            "type": "histogram2dcontour"
           }
          ],
          "mesh3d": [
           {
            "colorbar": {
             "outlinewidth": 0,
             "ticks": ""
            },
            "type": "mesh3d"
           }
          ],
          "parcoords": [
           {
            "line": {
             "colorbar": {
              "outlinewidth": 0,
              "ticks": ""
             }
            },
            "type": "parcoords"
           }
          ],
          "pie": [
           {
            "automargin": true,
            "type": "pie"
           }
          ],
          "scatter": [
           {
            "fillpattern": {
             "fillmode": "overlay",
             "size": 10,
             "solidity": 0.2
            },
            "type": "scatter"
           }
          ],
          "scatter3d": [
           {
            "line": {
             "colorbar": {
              "outlinewidth": 0,
              "ticks": ""
             }
            },
            "marker": {
             "colorbar": {
              "outlinewidth": 0,
              "ticks": ""
             }
            },
            "type": "scatter3d"
           }
          ],
          "scattercarpet": [
           {
            "marker": {
             "colorbar": {
              "outlinewidth": 0,
              "ticks": ""
             }
            },
            "type": "scattercarpet"
           }
          ],
          "scattergeo": [
           {
            "marker": {
             "colorbar": {
              "outlinewidth": 0,
              "ticks": ""
             }
            },
            "type": "scattergeo"
           }
          ],
          "scattergl": [
           {
            "marker": {
             "colorbar": {
              "outlinewidth": 0,
              "ticks": ""
             }
            },
            "type": "scattergl"
           }
          ],
          "scattermapbox": [
           {
            "marker": {
             "colorbar": {
              "outlinewidth": 0,
              "ticks": ""
             }
            },
            "type": "scattermapbox"
           }
          ],
          "scatterpolar": [
           {
            "marker": {
             "colorbar": {
              "outlinewidth": 0,
              "ticks": ""
             }
            },
            "type": "scatterpolar"
           }
          ],
          "scatterpolargl": [
           {
            "marker": {
             "colorbar": {
              "outlinewidth": 0,
              "ticks": ""
             }
            },
            "type": "scatterpolargl"
           }
          ],
          "scatterternary": [
           {
            "marker": {
             "colorbar": {
              "outlinewidth": 0,
              "ticks": ""
             }
            },
            "type": "scatterternary"
           }
          ],
          "surface": [
           {
            "colorbar": {
             "outlinewidth": 0,
             "ticks": ""
            },
            "colorscale": [
             [
              0,
              "#0d0887"
             ],
             [
              0.1111111111111111,
              "#46039f"
             ],
             [
              0.2222222222222222,
              "#7201a8"
             ],
             [
              0.3333333333333333,
              "#9c179e"
             ],
             [
              0.4444444444444444,
              "#bd3786"
             ],
             [
              0.5555555555555556,
              "#d8576b"
             ],
             [
              0.6666666666666666,
              "#ed7953"
             ],
             [
              0.7777777777777778,
              "#fb9f3a"
             ],
             [
              0.8888888888888888,
              "#fdca26"
             ],
             [
              1,
              "#f0f921"
             ]
            ],
            "type": "surface"
           }
          ],
          "table": [
           {
            "cells": {
             "fill": {
              "color": "#EBF0F8"
             },
             "line": {
              "color": "white"
             }
            },
            "header": {
             "fill": {
              "color": "#C8D4E3"
             },
             "line": {
              "color": "white"
             }
            },
            "type": "table"
           }
          ]
         },
         "layout": {
          "annotationdefaults": {
           "arrowcolor": "#2a3f5f",
           "arrowhead": 0,
           "arrowwidth": 1
          },
          "autotypenumbers": "strict",
          "coloraxis": {
           "colorbar": {
            "outlinewidth": 0,
            "ticks": ""
           }
          },
          "colorscale": {
           "diverging": [
            [
             0,
             "#8e0152"
            ],
            [
             0.1,
             "#c51b7d"
            ],
            [
             0.2,
             "#de77ae"
            ],
            [
             0.3,
             "#f1b6da"
            ],
            [
             0.4,
             "#fde0ef"
            ],
            [
             0.5,
             "#f7f7f7"
            ],
            [
             0.6,
             "#e6f5d0"
            ],
            [
             0.7,
             "#b8e186"
            ],
            [
             0.8,
             "#7fbc41"
            ],
            [
             0.9,
             "#4d9221"
            ],
            [
             1,
             "#276419"
            ]
           ],
           "sequential": [
            [
             0,
             "#0d0887"
            ],
            [
             0.1111111111111111,
             "#46039f"
            ],
            [
             0.2222222222222222,
             "#7201a8"
            ],
            [
             0.3333333333333333,
             "#9c179e"
            ],
            [
             0.4444444444444444,
             "#bd3786"
            ],
            [
             0.5555555555555556,
             "#d8576b"
            ],
            [
             0.6666666666666666,
             "#ed7953"
            ],
            [
             0.7777777777777778,
             "#fb9f3a"
            ],
            [
             0.8888888888888888,
             "#fdca26"
            ],
            [
             1,
             "#f0f921"
            ]
           ],
           "sequentialminus": [
            [
             0,
             "#0d0887"
            ],
            [
             0.1111111111111111,
             "#46039f"
            ],
            [
             0.2222222222222222,
             "#7201a8"
            ],
            [
             0.3333333333333333,
             "#9c179e"
            ],
            [
             0.4444444444444444,
             "#bd3786"
            ],
            [
             0.5555555555555556,
             "#d8576b"
            ],
            [
             0.6666666666666666,
             "#ed7953"
            ],
            [
             0.7777777777777778,
             "#fb9f3a"
            ],
            [
             0.8888888888888888,
             "#fdca26"
            ],
            [
             1,
             "#f0f921"
            ]
           ]
          },
          "colorway": [
           "#636efa",
           "#EF553B",
           "#00cc96",
           "#ab63fa",
           "#FFA15A",
           "#19d3f3",
           "#FF6692",
           "#B6E880",
           "#FF97FF",
           "#FECB52"
          ],
          "font": {
           "color": "#2a3f5f"
          },
          "geo": {
           "bgcolor": "white",
           "lakecolor": "white",
           "landcolor": "#E5ECF6",
           "showlakes": true,
           "showland": true,
           "subunitcolor": "white"
          },
          "hoverlabel": {
           "align": "left"
          },
          "hovermode": "closest",
          "mapbox": {
           "style": "light"
          },
          "paper_bgcolor": "white",
          "plot_bgcolor": "#E5ECF6",
          "polar": {
           "angularaxis": {
            "gridcolor": "white",
            "linecolor": "white",
            "ticks": ""
           },
           "bgcolor": "#E5ECF6",
           "radialaxis": {
            "gridcolor": "white",
            "linecolor": "white",
            "ticks": ""
           }
          },
          "scene": {
           "xaxis": {
            "backgroundcolor": "#E5ECF6",
            "gridcolor": "white",
            "gridwidth": 2,
            "linecolor": "white",
            "showbackground": true,
            "ticks": "",
            "zerolinecolor": "white"
           },
           "yaxis": {
            "backgroundcolor": "#E5ECF6",
            "gridcolor": "white",
            "gridwidth": 2,
            "linecolor": "white",
            "showbackground": true,
            "ticks": "",
            "zerolinecolor": "white"
           },
           "zaxis": {
            "backgroundcolor": "#E5ECF6",
            "gridcolor": "white",
            "gridwidth": 2,
            "linecolor": "white",
            "showbackground": true,
            "ticks": "",
            "zerolinecolor": "white"
           }
          },
          "shapedefaults": {
           "line": {
            "color": "#2a3f5f"
           }
          },
          "ternary": {
           "aaxis": {
            "gridcolor": "white",
            "linecolor": "white",
            "ticks": ""
           },
           "baxis": {
            "gridcolor": "white",
            "linecolor": "white",
            "ticks": ""
           },
           "bgcolor": "#E5ECF6",
           "caxis": {
            "gridcolor": "white",
            "linecolor": "white",
            "ticks": ""
           }
          },
          "title": {
           "x": 0.05
          },
          "xaxis": {
           "automargin": true,
           "gridcolor": "white",
           "linecolor": "white",
           "ticks": "",
           "title": {
            "standoff": 15
           },
           "zerolinecolor": "white",
           "zerolinewidth": 2
          },
          "yaxis": {
           "automargin": true,
           "gridcolor": "white",
           "linecolor": "white",
           "ticks": "",
           "title": {
            "standoff": 15
           },
           "zerolinecolor": "white",
           "zerolinewidth": 2
          }
         }
        },
        "title": {
         "text": "Universities with the highest score of Romania and their neighboring countries "
        },
        "xaxis": {
         "anchor": "y",
         "domain": [
          0,
          1
         ],
         "title": {
          "text": "Score"
         }
        },
        "yaxis": {
         "anchor": "x",
         "domain": [
          0,
          1
         ],
         "title": {
          "text": "Institution"
         }
        }
       }
      }
     },
     "metadata": {},
     "output_type": "display_data"
    }
   ],
   "source": [
    "px.bar(new1,x='Score',y='Institution',title='Universities with the highest score of Romania and their neighboring countries ',)"
   ]
  },
  {
   "cell_type": "code",
   "execution_count": 41,
   "id": "a07d696b",
   "metadata": {},
   "outputs": [
    {
     "data": {
      "text/html": [
       "<div>\n",
       "<style scoped>\n",
       "    .dataframe tbody tr th:only-of-type {\n",
       "        vertical-align: middle;\n",
       "    }\n",
       "\n",
       "    .dataframe tbody tr th {\n",
       "        vertical-align: top;\n",
       "    }\n",
       "\n",
       "    .dataframe thead th {\n",
       "        text-align: right;\n",
       "    }\n",
       "</style>\n",
       "<table border=\"1\" class=\"dataframe\">\n",
       "  <thead>\n",
       "    <tr style=\"text-align: right;\">\n",
       "      <th></th>\n",
       "      <th>Score</th>\n",
       "    </tr>\n",
       "    <tr>\n",
       "      <th>Country</th>\n",
       "      <th></th>\n",
       "    </tr>\n",
       "  </thead>\n",
       "  <tbody>\n",
       "    <tr>\n",
       "      <th>Austria</th>\n",
       "      <td>71.752941</td>\n",
       "    </tr>\n",
       "    <tr>\n",
       "      <th>Hungary</th>\n",
       "      <td>70.487500</td>\n",
       "    </tr>\n",
       "    <tr>\n",
       "      <th>Serbia</th>\n",
       "      <td>70.000000</td>\n",
       "    </tr>\n",
       "    <tr>\n",
       "      <th>Romania</th>\n",
       "      <td>68.610000</td>\n",
       "    </tr>\n",
       "    <tr>\n",
       "      <th>Ukraine</th>\n",
       "      <td>67.366667</td>\n",
       "    </tr>\n",
       "  </tbody>\n",
       "</table>\n",
       "</div>"
      ],
      "text/plain": [
       "             Score\n",
       "Country           \n",
       "Austria  71.752941\n",
       "Hungary  70.487500\n",
       "Serbia   70.000000\n",
       "Romania  68.610000\n",
       "Ukraine  67.366667"
      ]
     },
     "execution_count": 41,
     "metadata": {},
     "output_type": "execute_result"
    }
   ],
   "source": [
    "ax=new[['Country','Score']].groupby('Country').mean().sort_values('Score',ascending=False)\n",
    "ax"
   ]
  },
  {
   "cell_type": "code",
   "execution_count": 42,
   "id": "a93ae2f9",
   "metadata": {},
   "outputs": [
    {
     "data": {
      "application/vnd.plotly.v1+json": {
       "config": {
        "plotlyServerURL": "https://plot.ly"
       },
       "data": [
        {
         "alignmentgroup": "True",
         "hovertemplate": "Score=%{marker.color}<br>Country=%{y}<extra></extra>",
         "legendgroup": "",
         "marker": {
          "color": [
           71.75294117647059,
           70.4875,
           70,
           68.61,
           67.36666666666666
          ],
          "coloraxis": "coloraxis",
          "pattern": {
           "shape": ""
          }
         },
         "name": "",
         "offsetgroup": "",
         "orientation": "h",
         "showlegend": false,
         "textposition": "auto",
         "type": "bar",
         "x": [
          71.75294117647059,
          70.4875,
          70,
          68.61,
          67.36666666666666
         ],
         "xaxis": "x",
         "y": [
          "Austria",
          "Hungary",
          "Serbia",
          "Romania",
          "Ukraine"
         ],
         "yaxis": "y"
        }
       ],
       "layout": {
        "barmode": "relative",
        "coloraxis": {
         "colorbar": {
          "title": {
           "text": "Score"
          }
         },
         "colorscale": [
          [
           0,
           "rgb(103,0,31)"
          ],
          [
           0.1,
           "rgb(178,24,43)"
          ],
          [
           0.2,
           "rgb(214,96,77)"
          ],
          [
           0.3,
           "rgb(244,165,130)"
          ],
          [
           0.4,
           "rgb(253,219,199)"
          ],
          [
           0.5,
           "rgb(247,247,247)"
          ],
          [
           0.6,
           "rgb(209,229,240)"
          ],
          [
           0.7,
           "rgb(146,197,222)"
          ],
          [
           0.8,
           "rgb(67,147,195)"
          ],
          [
           0.9,
           "rgb(33,102,172)"
          ],
          [
           1,
           "rgb(5,48,97)"
          ]
         ]
        },
        "legend": {
         "tracegroupgap": 0
        },
        "template": {
         "data": {
          "bar": [
           {
            "error_x": {
             "color": "#2a3f5f"
            },
            "error_y": {
             "color": "#2a3f5f"
            },
            "marker": {
             "line": {
              "color": "#E5ECF6",
              "width": 0.5
             },
             "pattern": {
              "fillmode": "overlay",
              "size": 10,
              "solidity": 0.2
             }
            },
            "type": "bar"
           }
          ],
          "barpolar": [
           {
            "marker": {
             "line": {
              "color": "#E5ECF6",
              "width": 0.5
             },
             "pattern": {
              "fillmode": "overlay",
              "size": 10,
              "solidity": 0.2
             }
            },
            "type": "barpolar"
           }
          ],
          "carpet": [
           {
            "aaxis": {
             "endlinecolor": "#2a3f5f",
             "gridcolor": "white",
             "linecolor": "white",
             "minorgridcolor": "white",
             "startlinecolor": "#2a3f5f"
            },
            "baxis": {
             "endlinecolor": "#2a3f5f",
             "gridcolor": "white",
             "linecolor": "white",
             "minorgridcolor": "white",
             "startlinecolor": "#2a3f5f"
            },
            "type": "carpet"
           }
          ],
          "choropleth": [
           {
            "colorbar": {
             "outlinewidth": 0,
             "ticks": ""
            },
            "type": "choropleth"
           }
          ],
          "contour": [
           {
            "colorbar": {
             "outlinewidth": 0,
             "ticks": ""
            },
            "colorscale": [
             [
              0,
              "#0d0887"
             ],
             [
              0.1111111111111111,
              "#46039f"
             ],
             [
              0.2222222222222222,
              "#7201a8"
             ],
             [
              0.3333333333333333,
              "#9c179e"
             ],
             [
              0.4444444444444444,
              "#bd3786"
             ],
             [
              0.5555555555555556,
              "#d8576b"
             ],
             [
              0.6666666666666666,
              "#ed7953"
             ],
             [
              0.7777777777777778,
              "#fb9f3a"
             ],
             [
              0.8888888888888888,
              "#fdca26"
             ],
             [
              1,
              "#f0f921"
             ]
            ],
            "type": "contour"
           }
          ],
          "contourcarpet": [
           {
            "colorbar": {
             "outlinewidth": 0,
             "ticks": ""
            },
            "type": "contourcarpet"
           }
          ],
          "heatmap": [
           {
            "colorbar": {
             "outlinewidth": 0,
             "ticks": ""
            },
            "colorscale": [
             [
              0,
              "#0d0887"
             ],
             [
              0.1111111111111111,
              "#46039f"
             ],
             [
              0.2222222222222222,
              "#7201a8"
             ],
             [
              0.3333333333333333,
              "#9c179e"
             ],
             [
              0.4444444444444444,
              "#bd3786"
             ],
             [
              0.5555555555555556,
              "#d8576b"
             ],
             [
              0.6666666666666666,
              "#ed7953"
             ],
             [
              0.7777777777777778,
              "#fb9f3a"
             ],
             [
              0.8888888888888888,
              "#fdca26"
             ],
             [
              1,
              "#f0f921"
             ]
            ],
            "type": "heatmap"
           }
          ],
          "heatmapgl": [
           {
            "colorbar": {
             "outlinewidth": 0,
             "ticks": ""
            },
            "colorscale": [
             [
              0,
              "#0d0887"
             ],
             [
              0.1111111111111111,
              "#46039f"
             ],
             [
              0.2222222222222222,
              "#7201a8"
             ],
             [
              0.3333333333333333,
              "#9c179e"
             ],
             [
              0.4444444444444444,
              "#bd3786"
             ],
             [
              0.5555555555555556,
              "#d8576b"
             ],
             [
              0.6666666666666666,
              "#ed7953"
             ],
             [
              0.7777777777777778,
              "#fb9f3a"
             ],
             [
              0.8888888888888888,
              "#fdca26"
             ],
             [
              1,
              "#f0f921"
             ]
            ],
            "type": "heatmapgl"
           }
          ],
          "histogram": [
           {
            "marker": {
             "pattern": {
              "fillmode": "overlay",
              "size": 10,
              "solidity": 0.2
             }
            },
            "type": "histogram"
           }
          ],
          "histogram2d": [
           {
            "colorbar": {
             "outlinewidth": 0,
             "ticks": ""
            },
            "colorscale": [
             [
              0,
              "#0d0887"
             ],
             [
              0.1111111111111111,
              "#46039f"
             ],
             [
              0.2222222222222222,
              "#7201a8"
             ],
             [
              0.3333333333333333,
              "#9c179e"
             ],
             [
              0.4444444444444444,
              "#bd3786"
             ],
             [
              0.5555555555555556,
              "#d8576b"
             ],
             [
              0.6666666666666666,
              "#ed7953"
             ],
             [
              0.7777777777777778,
              "#fb9f3a"
             ],
             [
              0.8888888888888888,
              "#fdca26"
             ],
             [
              1,
              "#f0f921"
             ]
            ],
            "type": "histogram2d"
           }
          ],
          "histogram2dcontour": [
           {
            "colorbar": {
             "outlinewidth": 0,
             "ticks": ""
            },
            "colorscale": [
             [
              0,
              "#0d0887"
             ],
             [
              0.1111111111111111,
              "#46039f"
             ],
             [
              0.2222222222222222,
              "#7201a8"
             ],
             [
              0.3333333333333333,
              "#9c179e"
             ],
             [
              0.4444444444444444,
              "#bd3786"
             ],
             [
              0.5555555555555556,
              "#d8576b"
             ],
             [
              0.6666666666666666,
              "#ed7953"
             ],
             [
              0.7777777777777778,
              "#fb9f3a"
             ],
             [
              0.8888888888888888,
              "#fdca26"
             ],
             [
              1,
              "#f0f921"
             ]
            ],
            "type": "histogram2dcontour"
           }
          ],
          "mesh3d": [
           {
            "colorbar": {
             "outlinewidth": 0,
             "ticks": ""
            },
            "type": "mesh3d"
           }
          ],
          "parcoords": [
           {
            "line": {
             "colorbar": {
              "outlinewidth": 0,
              "ticks": ""
             }
            },
            "type": "parcoords"
           }
          ],
          "pie": [
           {
            "automargin": true,
            "type": "pie"
           }
          ],
          "scatter": [
           {
            "fillpattern": {
             "fillmode": "overlay",
             "size": 10,
             "solidity": 0.2
            },
            "type": "scatter"
           }
          ],
          "scatter3d": [
           {
            "line": {
             "colorbar": {
              "outlinewidth": 0,
              "ticks": ""
             }
            },
            "marker": {
             "colorbar": {
              "outlinewidth": 0,
              "ticks": ""
             }
            },
            "type": "scatter3d"
           }
          ],
          "scattercarpet": [
           {
            "marker": {
             "colorbar": {
              "outlinewidth": 0,
              "ticks": ""
             }
            },
            "type": "scattercarpet"
           }
          ],
          "scattergeo": [
           {
            "marker": {
             "colorbar": {
              "outlinewidth": 0,
              "ticks": ""
             }
            },
            "type": "scattergeo"
           }
          ],
          "scattergl": [
           {
            "marker": {
             "colorbar": {
              "outlinewidth": 0,
              "ticks": ""
             }
            },
            "type": "scattergl"
           }
          ],
          "scattermapbox": [
           {
            "marker": {
             "colorbar": {
              "outlinewidth": 0,
              "ticks": ""
             }
            },
            "type": "scattermapbox"
           }
          ],
          "scatterpolar": [
           {
            "marker": {
             "colorbar": {
              "outlinewidth": 0,
              "ticks": ""
             }
            },
            "type": "scatterpolar"
           }
          ],
          "scatterpolargl": [
           {
            "marker": {
             "colorbar": {
              "outlinewidth": 0,
              "ticks": ""
             }
            },
            "type": "scatterpolargl"
           }
          ],
          "scatterternary": [
           {
            "marker": {
             "colorbar": {
              "outlinewidth": 0,
              "ticks": ""
             }
            },
            "type": "scatterternary"
           }
          ],
          "surface": [
           {
            "colorbar": {
             "outlinewidth": 0,
             "ticks": ""
            },
            "colorscale": [
             [
              0,
              "#0d0887"
             ],
             [
              0.1111111111111111,
              "#46039f"
             ],
             [
              0.2222222222222222,
              "#7201a8"
             ],
             [
              0.3333333333333333,
              "#9c179e"
             ],
             [
              0.4444444444444444,
              "#bd3786"
             ],
             [
              0.5555555555555556,
              "#d8576b"
             ],
             [
              0.6666666666666666,
              "#ed7953"
             ],
             [
              0.7777777777777778,
              "#fb9f3a"
             ],
             [
              0.8888888888888888,
              "#fdca26"
             ],
             [
              1,
              "#f0f921"
             ]
            ],
            "type": "surface"
           }
          ],
          "table": [
           {
            "cells": {
             "fill": {
              "color": "#EBF0F8"
             },
             "line": {
              "color": "white"
             }
            },
            "header": {
             "fill": {
              "color": "#C8D4E3"
             },
             "line": {
              "color": "white"
             }
            },
            "type": "table"
           }
          ]
         },
         "layout": {
          "annotationdefaults": {
           "arrowcolor": "#2a3f5f",
           "arrowhead": 0,
           "arrowwidth": 1
          },
          "autotypenumbers": "strict",
          "coloraxis": {
           "colorbar": {
            "outlinewidth": 0,
            "ticks": ""
           }
          },
          "colorscale": {
           "diverging": [
            [
             0,
             "#8e0152"
            ],
            [
             0.1,
             "#c51b7d"
            ],
            [
             0.2,
             "#de77ae"
            ],
            [
             0.3,
             "#f1b6da"
            ],
            [
             0.4,
             "#fde0ef"
            ],
            [
             0.5,
             "#f7f7f7"
            ],
            [
             0.6,
             "#e6f5d0"
            ],
            [
             0.7,
             "#b8e186"
            ],
            [
             0.8,
             "#7fbc41"
            ],
            [
             0.9,
             "#4d9221"
            ],
            [
             1,
             "#276419"
            ]
           ],
           "sequential": [
            [
             0,
             "#0d0887"
            ],
            [
             0.1111111111111111,
             "#46039f"
            ],
            [
             0.2222222222222222,
             "#7201a8"
            ],
            [
             0.3333333333333333,
             "#9c179e"
            ],
            [
             0.4444444444444444,
             "#bd3786"
            ],
            [
             0.5555555555555556,
             "#d8576b"
            ],
            [
             0.6666666666666666,
             "#ed7953"
            ],
            [
             0.7777777777777778,
             "#fb9f3a"
            ],
            [
             0.8888888888888888,
             "#fdca26"
            ],
            [
             1,
             "#f0f921"
            ]
           ],
           "sequentialminus": [
            [
             0,
             "#0d0887"
            ],
            [
             0.1111111111111111,
             "#46039f"
            ],
            [
             0.2222222222222222,
             "#7201a8"
            ],
            [
             0.3333333333333333,
             "#9c179e"
            ],
            [
             0.4444444444444444,
             "#bd3786"
            ],
            [
             0.5555555555555556,
             "#d8576b"
            ],
            [
             0.6666666666666666,
             "#ed7953"
            ],
            [
             0.7777777777777778,
             "#fb9f3a"
            ],
            [
             0.8888888888888888,
             "#fdca26"
            ],
            [
             1,
             "#f0f921"
            ]
           ]
          },
          "colorway": [
           "#636efa",
           "#EF553B",
           "#00cc96",
           "#ab63fa",
           "#FFA15A",
           "#19d3f3",
           "#FF6692",
           "#B6E880",
           "#FF97FF",
           "#FECB52"
          ],
          "font": {
           "color": "#2a3f5f"
          },
          "geo": {
           "bgcolor": "white",
           "lakecolor": "white",
           "landcolor": "#E5ECF6",
           "showlakes": true,
           "showland": true,
           "subunitcolor": "white"
          },
          "hoverlabel": {
           "align": "left"
          },
          "hovermode": "closest",
          "mapbox": {
           "style": "light"
          },
          "paper_bgcolor": "white",
          "plot_bgcolor": "#E5ECF6",
          "polar": {
           "angularaxis": {
            "gridcolor": "white",
            "linecolor": "white",
            "ticks": ""
           },
           "bgcolor": "#E5ECF6",
           "radialaxis": {
            "gridcolor": "white",
            "linecolor": "white",
            "ticks": ""
           }
          },
          "scene": {
           "xaxis": {
            "backgroundcolor": "#E5ECF6",
            "gridcolor": "white",
            "gridwidth": 2,
            "linecolor": "white",
            "showbackground": true,
            "ticks": "",
            "zerolinecolor": "white"
           },
           "yaxis": {
            "backgroundcolor": "#E5ECF6",
            "gridcolor": "white",
            "gridwidth": 2,
            "linecolor": "white",
            "showbackground": true,
            "ticks": "",
            "zerolinecolor": "white"
           },
           "zaxis": {
            "backgroundcolor": "#E5ECF6",
            "gridcolor": "white",
            "gridwidth": 2,
            "linecolor": "white",
            "showbackground": true,
            "ticks": "",
            "zerolinecolor": "white"
           }
          },
          "shapedefaults": {
           "line": {
            "color": "#2a3f5f"
           }
          },
          "ternary": {
           "aaxis": {
            "gridcolor": "white",
            "linecolor": "white",
            "ticks": ""
           },
           "baxis": {
            "gridcolor": "white",
            "linecolor": "white",
            "ticks": ""
           },
           "bgcolor": "#E5ECF6",
           "caxis": {
            "gridcolor": "white",
            "linecolor": "white",
            "ticks": ""
           }
          },
          "title": {
           "x": 0.05
          },
          "xaxis": {
           "automargin": true,
           "gridcolor": "white",
           "linecolor": "white",
           "ticks": "",
           "title": {
            "standoff": 15
           },
           "zerolinecolor": "white",
           "zerolinewidth": 2
          },
          "yaxis": {
           "automargin": true,
           "gridcolor": "white",
           "linecolor": "white",
           "ticks": "",
           "title": {
            "standoff": 15
           },
           "zerolinecolor": "white",
           "zerolinewidth": 2
          }
         }
        },
        "title": {
         "text": "Romanian's score comparing to their neighboring countries"
        },
        "xaxis": {
         "anchor": "y",
         "domain": [
          0,
          1
         ],
         "title": {
          "text": "Score"
         }
        },
        "yaxis": {
         "anchor": "x",
         "domain": [
          0,
          1
         ],
         "title": {
          "text": "Country"
         }
        }
       }
      }
     },
     "metadata": {},
     "output_type": "display_data"
    }
   ],
   "source": [
    "px.bar(ax,x='Score',color='Score',color_continuous_scale=px.colors.sequential.RdBu,title=\"Romanian's score comparing to their neighboring countries\")"
   ]
  }
 ],
 "metadata": {
  "kernelspec": {
   "display_name": "Python 3.9.13 ('tensorflow')",
   "language": "python",
   "name": "python3"
  },
  "language_info": {
   "codemirror_mode": {
    "name": "ipython",
    "version": 3
   },
   "file_extension": ".py",
   "mimetype": "text/x-python",
   "name": "python",
   "nbconvert_exporter": "python",
   "pygments_lexer": "ipython3",
   "version": "3.9.13"
  },
  "vscode": {
   "interpreter": {
    "hash": "360c955d4a0368fa3d0f1048a2f08e68d0d552f113e688ac66d9e29116f51d03"
   }
  }
 },
 "nbformat": 4,
 "nbformat_minor": 5
}
